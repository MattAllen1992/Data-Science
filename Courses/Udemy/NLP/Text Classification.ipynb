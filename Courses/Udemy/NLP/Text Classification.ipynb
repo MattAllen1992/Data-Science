{
 "cells": [
  {
   "cell_type": "markdown",
   "id": "parental-advantage",
   "metadata": {},
   "source": [
    "# Text Classification\n",
    "## 1. SKLearn Classification\n",
    "### Classification\n",
    "* This is a supervised model whereby we have a number of features as well as the known labels\n",
    "* Here, we are trying to identify real (ham) vs. fake (spam) text messages\n",
    "* The features are the message text itself as well as the number of words and punctuation marks used\n",
    "* The labels are the known values of whether a text is ham or spam\n",
    "* SKLearn lets us use a number of ML models to predict whether a text is ham or spam based on its features\n",
    "\n",
    "### Basic Features (Length and Punct)\n",
    "* We will run a variety of models using just the length and punct features to predict ham/spam labels\n",
    "* We can compare the results of multiple models to see how well they classify each outcome\n",
    "* The models we'll use will mostly use default settings (rather than being optimized) just to give us an idea of how effective they will be\n",
    "* Initial data investigation shows us that there are no null values (so no requirement to handle missing data)"
   ]
  },
  {
   "cell_type": "code",
   "execution_count": 4,
   "id": "supported-lexington",
   "metadata": {},
   "outputs": [
    {
     "data": {
      "text/html": [
       "<div>\n",
       "<style scoped>\n",
       "    .dataframe tbody tr th:only-of-type {\n",
       "        vertical-align: middle;\n",
       "    }\n",
       "\n",
       "    .dataframe tbody tr th {\n",
       "        vertical-align: top;\n",
       "    }\n",
       "\n",
       "    .dataframe thead th {\n",
       "        text-align: right;\n",
       "    }\n",
       "</style>\n",
       "<table border=\"1\" class=\"dataframe\">\n",
       "  <thead>\n",
       "    <tr style=\"text-align: right;\">\n",
       "      <th></th>\n",
       "      <th>label</th>\n",
       "      <th>message</th>\n",
       "      <th>length</th>\n",
       "      <th>punct</th>\n",
       "    </tr>\n",
       "  </thead>\n",
       "  <tbody>\n",
       "    <tr>\n",
       "      <th>0</th>\n",
       "      <td>ham</td>\n",
       "      <td>Go until jurong point, crazy.. Available only ...</td>\n",
       "      <td>111</td>\n",
       "      <td>9</td>\n",
       "    </tr>\n",
       "    <tr>\n",
       "      <th>1</th>\n",
       "      <td>ham</td>\n",
       "      <td>Ok lar... Joking wif u oni...</td>\n",
       "      <td>29</td>\n",
       "      <td>6</td>\n",
       "    </tr>\n",
       "    <tr>\n",
       "      <th>2</th>\n",
       "      <td>spam</td>\n",
       "      <td>Free entry in 2 a wkly comp to win FA Cup fina...</td>\n",
       "      <td>155</td>\n",
       "      <td>6</td>\n",
       "    </tr>\n",
       "    <tr>\n",
       "      <th>3</th>\n",
       "      <td>ham</td>\n",
       "      <td>U dun say so early hor... U c already then say...</td>\n",
       "      <td>49</td>\n",
       "      <td>6</td>\n",
       "    </tr>\n",
       "    <tr>\n",
       "      <th>4</th>\n",
       "      <td>ham</td>\n",
       "      <td>Nah I don't think he goes to usf, he lives aro...</td>\n",
       "      <td>61</td>\n",
       "      <td>2</td>\n",
       "    </tr>\n",
       "  </tbody>\n",
       "</table>\n",
       "</div>"
      ],
      "text/plain": [
       "  label                                            message  length  punct\n",
       "0   ham  Go until jurong point, crazy.. Available only ...     111      9\n",
       "1   ham                      Ok lar... Joking wif u oni...      29      6\n",
       "2  spam  Free entry in 2 a wkly comp to win FA Cup fina...     155      6\n",
       "3   ham  U dun say so early hor... U c already then say...      49      6\n",
       "4   ham  Nah I don't think he goes to usf, he lives aro...      61      2"
      ]
     },
     "execution_count": 4,
     "metadata": {},
     "output_type": "execute_result"
    }
   ],
   "source": [
    "# load libraries\n",
    "import numpy as np\n",
    "import pandas as pd\n",
    "\n",
    "# read text into df\n",
    "df = pd.read_csv('NLP Course Files/TextFiles/smsspamcollection.tsv', sep='\\t')\n",
    "\n",
    "# peek at data\n",
    "df.head()"
   ]
  },
  {
   "cell_type": "code",
   "execution_count": 6,
   "id": "chicken-wagner",
   "metadata": {},
   "outputs": [
    {
     "name": "stdout",
     "output_type": "stream",
     "text": [
      "<class 'pandas.core.frame.DataFrame'>\n",
      "RangeIndex: 5572 entries, 0 to 5571\n",
      "Data columns (total 4 columns):\n",
      " #   Column   Non-Null Count  Dtype \n",
      "---  ------   --------------  ----- \n",
      " 0   label    5572 non-null   object\n",
      " 1   message  5572 non-null   object\n",
      " 2   length   5572 non-null   int64 \n",
      " 3   punct    5572 non-null   int64 \n",
      "dtypes: int64(2), object(2)\n",
      "memory usage: 174.2+ KB\n"
     ]
    }
   ],
   "source": [
    "# df info (no nulls, length, column types)\n",
    "df.info()"
   ]
  },
  {
   "cell_type": "code",
   "execution_count": 8,
   "id": "brutal-emphasis",
   "metadata": {},
   "outputs": [
    {
     "data": {
      "text/plain": [
       "array(['ham', 'spam'], dtype=object)"
      ]
     },
     "execution_count": 8,
     "metadata": {},
     "output_type": "execute_result"
    }
   ],
   "source": [
    "# check label vals\n",
    "df['label'].unique()"
   ]
  },
  {
   "cell_type": "code",
   "execution_count": 7,
   "id": "brutal-occasions",
   "metadata": {},
   "outputs": [
    {
     "data": {
      "text/plain": [
       "ham     4825\n",
       "spam     747\n",
       "Name: label, dtype: int64"
      ]
     },
     "execution_count": 7,
     "metadata": {},
     "output_type": "execute_result"
    }
   ],
   "source": [
    "# check label counts\n",
    "df['label'].value_counts()"
   ]
  },
  {
   "cell_type": "markdown",
   "id": "available-colors",
   "metadata": {},
   "source": [
    "### Feature Distribution\n",
    "Length:\n",
    "* We can see from the below plot that ham and spam texts have a significantly different distribution of length\n",
    "* Spam texts tend to be longer than ham texts\n",
    "* Spam texts also have a much narrower range of lengths\n",
    "* This makes sense as genuine texts will vary depending on nature and are also likely to contain lots of short, convenience texts (e.g. \"See you later\", \"No worries\" etc.)"
   ]
  },
  {
   "cell_type": "code",
   "execution_count": 15,
   "id": "terminal-wheel",
   "metadata": {
    "scrolled": true
   },
   "outputs": [
    {
     "data": {
      "image/png": "[encoded data removed]",
      "text/plain": [
       "<Figure size 432x288 with 1 Axes>"
      ]
     },
     "metadata": {
      "needs_background": "light"
     },
     "output_type": "display_data"
    }
   ],
   "source": [
    "# load libraries\n",
    "import matplotlib.pyplot as plt\n",
    "%matplotlib inline\n",
    "\n",
    "# plot distribution of ham/spam by length\n",
    "plt.xscale('log') # log scale due to large value range\n",
    "bins = 1.15**(np.arange(0,50))\n",
    "plt.hist(df[df['label'] == 'ham']['length'], bins=bins, alpha=0.8)\n",
    "plt.hist(df[df['label'] == 'spam']['length'], bins=bins, alpha=0.8)\n",
    "plt.legend(('ham', 'spam'))\n",
    "plt.show()"
   ]
  },
  {
   "cell_type": "markdown",
   "id": "charged-watershed",
   "metadata": {},
   "source": [
    "Punctuation:\n",
    "* There is less of a clear distinction between ham and spam texts when looking at punctuation\n",
    "* There is a slight tendency for spam texts to have more punctuation than ham\n",
    "* However this is only a minor trend, nothing as stark as seen in length above"
   ]
  },
  {
   "cell_type": "code",
   "execution_count": 13,
   "id": "joint-herald",
   "metadata": {
    "scrolled": true
   },
   "outputs": [
    {
     "data": {
      "image/png": "[encoded data removed]",
      "text/plain": [
       "<Figure size 432x288 with 1 Axes>"
      ]
     },
     "metadata": {
      "needs_background": "light"
     },
     "output_type": "display_data"
    }
   ],
   "source": [
    "# plot distribution of ham/spam by punct\n",
    "plt.xscale('log') # log scale due to large value range\n",
    "bins = 1.5**(np.arange(0,15))\n",
    "plt.hist(df[df['label'] == 'ham']['punct'], bins=bins, alpha=0.8)\n",
    "plt.hist(df[df['label'] == 'spam']['punct'], bins=bins, alpha=0.8)\n",
    "plt.legend(('ham', 'spam'))\n",
    "plt.show()"
   ]
  },
  {
   "cell_type": "markdown",
   "id": "warming-notion",
   "metadata": {},
   "source": [
    "### SKLearn Models\n",
    "* We will use a range of models (logistic regression, naive bayes and SVM) for an initial look at classification\n",
    "* We'll split our data into test and train sets before processing"
   ]
  },
  {
   "cell_type": "code",
   "execution_count": 22,
   "id": "third-wagner",
   "metadata": {},
   "outputs": [
    {
     "data": {
      "text/plain": [
       "((3900, 2), (1672, 2), (3900,), (1672,))"
      ]
     },
     "execution_count": 22,
     "metadata": {},
     "output_type": "execute_result"
    }
   ],
   "source": [
    "# load libraries\n",
    "from sklearn.model_selection import train_test_split\n",
    "\n",
    "# isolate features (X) and labels (y)\n",
    "X = df[['length', 'punct']]\n",
    "y = df['label']\n",
    "\n",
    "# split data into train and test\n",
    "X_train, X_test, y_train, y_test = train_test_split(X, y, test_size=0.3, random_state=42)\n",
    "\n",
    "# check shape\n",
    "X_train.shape, X_test.shape, y_train.shape, y_test.shape"
   ]
  },
  {
   "cell_type": "markdown",
   "id": "primary-elder",
   "metadata": {},
   "source": [
    "### Model Evaluation\n",
    "* All 3 of our models performed quite poorly against the ham/spam classification problem\n",
    "* Accuracy was not horrific (high 80%s) but all other metrics (precision, recall, f1) were very bad\n",
    "* The models were OK at correctly identifying ham texts, but failed almost entirely at identifying spam\n",
    "\n",
    "Confusion Matrix:\n",
    "* These allow you to compare the number of correct positive and negative results from your models\n",
    "* Accuracy = correct / total\n",
    "    * Accuracy is a useful metric if classes are imbalaced\n",
    "    * But a poor one if they're not\n",
    "    * e.g. if the real world occurrence of negative results is 1% then a model accuracy of 98% isn't good enough and will miss the true negatives\n",
    "    * As such, you must use other metrics (precision, recall, f1 etc.)\n",
    "* Precision = TP / (TP + FP)\n",
    "    * Essentially tells you how many of your true predictions were relevant\n",
    "* Recall = TP / (TP + FN)\n",
    "    * Essentially tells you how many true predictions you made compared to all actual true values\n",
    "* F1-score is a harmonic mean of precision and recall\n",
    "    * A harmonic mean balances the means of the input variable's means\n",
    "    * The benefit of this is that it penalises extreme errors\n",
    "    * e.g. if your recall mean is 0 and your precision mean is 1, your f1-score will also be 0 rather than 0.5 (i.e. correctly indicates that your model is awful in one area at least)"
   ]
  },
  {
   "cell_type": "code",
   "execution_count": 43,
   "id": "statutory-queen",
   "metadata": {},
   "outputs": [
    {
     "name": "stdout",
     "output_type": "stream",
     "text": [
      "Logistic Regression\n",
      "       ham  spam\n",
      "ham   1404    44\n",
      "spam   219     5\n",
      "              precision    recall  f1-score   support\n",
      "\n",
      "         ham       0.87      0.97      0.91      1448\n",
      "        spam       0.10      0.02      0.04       224\n",
      "\n",
      "    accuracy                           0.84      1672\n",
      "   macro avg       0.48      0.50      0.48      1672\n",
      "weighted avg       0.76      0.84      0.80      1672\n",
      "\n",
      "0.84\n",
      "\n",
      "\n",
      "Naive Bayes\n",
      "       ham  spam\n",
      "ham   1438    10\n",
      "spam   224     0\n",
      "              precision    recall  f1-score   support\n",
      "\n",
      "         ham       0.87      0.99      0.92      1448\n",
      "        spam       0.00      0.00      0.00       224\n",
      "\n",
      "    accuracy                           0.86      1672\n",
      "   macro avg       0.43      0.50      0.46      1672\n",
      "weighted avg       0.75      0.86      0.80      1672\n",
      "\n",
      "0.86\n",
      "\n",
      "\n",
      "SVM\n",
      "       ham  spam\n",
      "ham   1373    75\n",
      "spam   121   103\n",
      "              precision    recall  f1-score   support\n",
      "\n",
      "         ham       0.92      0.95      0.93      1448\n",
      "        spam       0.58      0.46      0.51       224\n",
      "\n",
      "    accuracy                           0.88      1672\n",
      "   macro avg       0.75      0.70      0.72      1672\n",
      "weighted avg       0.87      0.88      0.88      1672\n",
      "\n",
      "0.88\n",
      "\n",
      "\n"
     ]
    }
   ],
   "source": [
    "# load libraries\n",
    "from sklearn.linear_model import LogisticRegression\n",
    "from sklearn.naive_bayes import MultinomialNB\n",
    "from sklearn.svm import SVC\n",
    "from sklearn import metrics\n",
    "\n",
    "# create model instance\n",
    "lr_model = LogisticRegression(solver='lbfgs')\n",
    "nb_model = MultinomialNB()\n",
    "svc_model = SVC(gamma='auto')\n",
    "\n",
    "# store models in list\n",
    "models = [[lr_model, 'Logistic Regression'],\n",
    "          [nb_model, 'Naive Bayes'],\n",
    "          [svc_model, 'SVM']]\n",
    "\n",
    "# iterate through models and run fit, predict and evaluation\n",
    "for model, model_name in models:\n",
    "    # print model name\n",
    "    print(model_name)\n",
    "    \n",
    "    # fit model to data\n",
    "    model.fit(X_train, y_train)\n",
    "    \n",
    "    # make predictions on test set\n",
    "    y_pred = model.predict(X_test)\n",
    "    \n",
    "    # confusion matrix (act vs. pred)\n",
    "    print(pd.DataFrame(metrics.confusion_matrix(y_test, y_pred), index=['ham', 'spam'], columns=['ham', 'spam']))\n",
    "\n",
    "    # classification report\n",
    "    print(metrics.classification_report(y_test, y_pred))\n",
    "    \n",
    "    # model overall accuracy\n",
    "    print(round(metrics.accuracy_score(y_test, y_pred),2))\n",
    "    \n",
    "    # newline separator\n",
    "    print('\\n')"
   ]
  },
  {
   "cell_type": "markdown",
   "id": "disciplinary-moses",
   "metadata": {},
   "source": [
    "## 2. Text Feature Extraction\n",
    "### Extracting Numerical Meaning from Raw Text (Unstructured Data)\n",
    "* "
   ]
  },
  {
   "cell_type": "code",
   "execution_count": null,
   "id": "protected-wallace",
   "metadata": {},
   "outputs": [],
   "source": [
    "# load libraries\n",
    "from sklearn.feature_extraction import TfidfVectorizer\n",
    "\n",
    "# create vectorizer instance\n",
    "vect = TfidfVectorizer()\n",
    "\n",
    "# create document term matrix\n",
    "dtm = vect.fit_transform(list_of_texts)"
   ]
  },
  {
   "cell_type": "code",
   "execution_count": null,
   "id": "auburn-friendship",
   "metadata": {},
   "outputs": [],
   "source": []
  },
  {
   "cell_type": "code",
   "execution_count": null,
   "id": "civilian-bulletin",
   "metadata": {},
   "outputs": [],
   "source": []
  },
  {
   "cell_type": "code",
   "execution_count": null,
   "id": "fitting-thirty",
   "metadata": {},
   "outputs": [],
   "source": []
  },
  {
   "cell_type": "code",
   "execution_count": null,
   "id": "specified-penetration",
   "metadata": {},
   "outputs": [],
   "source": []
  },
  {
   "cell_type": "code",
   "execution_count": null,
   "id": "native-craps",
   "metadata": {},
   "outputs": [],
   "source": []
  },
  {
   "cell_type": "code",
   "execution_count": null,
   "id": "thirty-question",
   "metadata": {},
   "outputs": [],
   "source": []
  },
  {
   "cell_type": "code",
   "execution_count": null,
   "id": "commercial-chaos",
   "metadata": {},
   "outputs": [],
   "source": []
  },
  {
   "cell_type": "code",
   "execution_count": null,
   "id": "imperial-shield",
   "metadata": {},
   "outputs": [],
   "source": []
  },
  {
   "cell_type": "code",
   "execution_count": null,
   "id": "graphic-desperate",
   "metadata": {},
   "outputs": [],
   "source": []
  },
  {
   "cell_type": "code",
   "execution_count": null,
   "id": "phantom-cardiff",
   "metadata": {},
   "outputs": [],
   "source": []
  },
  {
   "cell_type": "code",
   "execution_count": null,
   "id": "beneficial-psychiatry",
   "metadata": {},
   "outputs": [],
   "source": []
  },
  {
   "cell_type": "code",
   "execution_count": null,
   "id": "innovative-yield",
   "metadata": {},
   "outputs": [],
   "source": []
  },
  {
   "cell_type": "code",
   "execution_count": null,
   "id": "organizational-fairy",
   "metadata": {},
   "outputs": [],
   "source": []
  },
  {
   "cell_type": "code",
   "execution_count": null,
   "id": "handy-sailing",
   "metadata": {},
   "outputs": [],
   "source": []
  },
  {
   "cell_type": "code",
   "execution_count": null,
   "id": "domestic-malaysia",
   "metadata": {},
   "outputs": [],
   "source": []
  },
  {
   "cell_type": "code",
   "execution_count": null,
   "id": "olympic-president",
   "metadata": {},
   "outputs": [],
   "source": []
  },
  {
   "cell_type": "code",
   "execution_count": null,
   "id": "organizational-drove",
   "metadata": {},
   "outputs": [],
   "source": []
  },
  {
   "cell_type": "code",
   "execution_count": null,
   "id": "systematic-break",
   "metadata": {},
   "outputs": [],
   "source": []
  },
  {
   "cell_type": "code",
   "execution_count": null,
   "id": "labeled-flashing",
   "metadata": {},
   "outputs": [],
   "source": []
  },
  {
   "cell_type": "code",
   "execution_count": null,
   "id": "retained-medline",
   "metadata": {},
   "outputs": [],
   "source": []
  },
  {
   "cell_type": "code",
   "execution_count": null,
   "id": "protected-thing",
   "metadata": {},
   "outputs": [],
   "source": []
  },
  {
   "cell_type": "code",
   "execution_count": null,
   "id": "arabic-rehabilitation",
   "metadata": {},
   "outputs": [],
   "source": []
  },
  {
   "cell_type": "code",
   "execution_count": null,
   "id": "accomplished-north",
   "metadata": {},
   "outputs": [],
   "source": []
  },
  {
   "cell_type": "code",
   "execution_count": null,
   "id": "thorough-armstrong",
   "metadata": {},
   "outputs": [],
   "source": []
  },
  {
   "cell_type": "code",
   "execution_count": null,
   "id": "smooth-fight",
   "metadata": {},
   "outputs": [],
   "source": []
  },
  {
   "cell_type": "code",
   "execution_count": null,
   "id": "traditional-moore",
   "metadata": {},
   "outputs": [],
   "source": []
  }
 ],
 "metadata": {
  "kernelspec": {
   "display_name": "Python 3",
   "language": "python",
   "name": "python3"
  },
  "language_info": {
   "codemirror_mode": {
    "name": "ipython",
    "version": 3
   },
   "file_extension": ".py",
   "mimetype": "text/x-python",
   "name": "python",
   "nbconvert_exporter": "python",
   "pygments_lexer": "ipython3",
   "version": "3.7.7"
  }
 },
 "nbformat": 4,
 "nbformat_minor": 5
}
