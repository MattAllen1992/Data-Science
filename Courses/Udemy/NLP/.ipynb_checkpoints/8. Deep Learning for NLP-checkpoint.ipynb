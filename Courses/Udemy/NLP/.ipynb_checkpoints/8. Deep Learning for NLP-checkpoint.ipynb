{
 "cells": [
  {
   "cell_type": "markdown",
   "id": "verified-adult",
   "metadata": {},
   "source": [
    "# Deep Learning for NLP\n",
    "## 1. Overview\n",
    "* Neural networks are a core example of deep learning\n",
    "* Deep learning is loosely defined as a network with >3 hidden layers, ensuring that the analysis compeleted is fine-grained and applies many steps of processing\n",
    "* The broad process is that you have an input layer (raw input data) which is passed through hidden layers (multiple stages of abstraction) before being output in the output layer as the final values\n",
    "* Hidden layers apply weights and a custom activation function to the inputs in order to transform them\n",
    "* Activation functions come in many flavours and there is much to be said for each, but **ReLU** is a commonly used one:\n",
    "    * ReLU (Rectified Linear Unit) is essentially defined as Max(0,x)\n",
    "    * Where any value <0 is set to 0 and any value above retains its value\n",
    "    * It's a method of removing issues with negative values whilst focusing on the linear relationship between the data\n",
    "* [Setting up TensorFlow](https://docs.anaconda.com/anaconda/user-guide/tasks/tensorflow/)\n",
    "* [My Colab Tutorials](https://colab.research.google.com/drive/1eiKBIh4dvJEEI7AZ-cFXmphz8LtbJMCP?authuser=1)"
   ]
  },
  {
   "cell_type": "code",
   "execution_count": 5,
   "id": "maritime-asthma",
   "metadata": {},
   "outputs": [
    {
     "data": {
      "text/plain": [
       "sklearn.utils.Bunch"
      ]
     },
     "execution_count": 5,
     "metadata": {},
     "output_type": "execute_result"
    }
   ],
   "source": [
    "# load libraries\n",
    "import numpy\n",
    "from sklearn.datasets import load_iris\n",
    "\n",
    "# load iris data\n",
    "iris = load_iris()\n",
    "\n",
    "# check data (custom 'bunch' data type, subclass of dictionary)\n",
    "type(iris)"
   ]
  },
  {
   "cell_type": "code",
   "execution_count": 6,
   "id": "european-intro",
   "metadata": {},
   "outputs": [],
   "source": [
    "# load libraries\n",
    "from keras.utils import to_categorical\n",
    "from sklearn.model_selection import train_test_split\n",
    "from sklearn.preprocessing import MinMaxScaler\n",
    "\n",
    "# extract features and labels\n",
    "# note that data is sorted (i.e. targets occur in order of 1, 2, 3)\n",
    "# if we left it like this, our model would be best at learning class 1, then class 2 and so on\n",
    "# as such, we shuffle our data in the train, test, split step which is essential for a good model\n",
    "X, y = iris.data, iris.target\n",
    "\n",
    "# perform one-hot encoding of features\n",
    "# class 0 -> [1,0,0]\n",
    "# class 1 -> [0,1,0]\n",
    "# class 2 -> [0,0,1]\n",
    "y = to_categorical(y)\n",
    "\n",
    "# split data into train and test (shuffles training data)\n",
    "X_train, X_test, y_train, y_test = train_test_split(X, y, test_size=0.33, random_state=42)\n",
    "\n",
    "# create scaler object (divides all values by max values)\n",
    "scaler = MinMaxScaler()\n",
    "\n",
    "# fit scaler to training features\n",
    "scaler.fit(X_train)\n",
    "\n",
    "# scale features to occur between 0 and 1 only\n",
    "# for ANN models, this helps prevent weights and biases growing too large\n",
    "# it also prevents over/under interpreting raw values of different feature scales\n",
    "scaled_X_train = scaler.transform(X_train)\n",
    "scaled_X_test = scaler.transform(X_test)"
   ]
  },
  {
   "cell_type": "markdown",
   "id": "intellectual-plane",
   "metadata": {},
   "source": [
    "## 2. Designing Networks\n",
    "* Keras allows you to design neural networks and utilize the TensorFlow framework to run them\n",
    "* Dense layers are synonymous with hidden layers, allowing you to define the transformations that will occur\n",
    "* Below, input_dim=4 means we are passing in 4 dimensions of inputs (because our features have 4 columns)\n",
    "* The activation function used is ReLU (described above)\n",
    "* The number of nodes is set at 8, this can be any number, but a multiple of the input dimensions is often sensible\n",
    "* The final hidden layer is given a softmax function, this determines probabilities of class outcomes and is therefore useful for our data where we are trying to predict one of three output classes (it will return e.g. [0.2, 0.3, 0.5] probabilities for each class value)\n",
    "* Finally, the loss function, optimizer and metrics are defined in the output layer\n",
    "    * Loss function calculates model error and allows enhancement\n",
    "        * We've specified a categorical method as we want to predict categorical outputs\n",
    "    * Optimizers enhance the network in custom ways (often in an adaptive manner)\n",
    "        * Adam is a modern, general purpose optimizer which enhances standard gradient descent via the addition of momentum and friction to help it avoid convergence at local minima instead of the correct global minima\n",
    "    * Metrics allows you to define which scores you will assess once your model has run\n",
    "* [Loss Functions in NN](https://machinelearningmastery.com/loss-and-loss-functions-for-training-deep-learning-neural-networks/)\n",
    "* [Optimizers in NN](https://towardsdatascience.com/adam-latest-trends-in-deep-learning-optimization-6be9a291375c#:~:text=Adam%20%5B1%5D%20is%20an%20adaptive,for%20training%20deep%20neural%20networks.&text=The%20algorithms%20leverages%20the,learning%20rates%20for%20each%20parameter.)\n",
    "* [ReLU Explained](https://colab.research.google.com/drive/15AHQG7WTpfuIvUUJ3E8fb-tZUTP8K9Th?authuser=1)"
   ]
  },
  {
   "cell_type": "code",
   "execution_count": 8,
   "id": "solved-saudi",
   "metadata": {},
   "outputs": [
    {
     "name": "stdout",
     "output_type": "stream",
     "text": [
      "Model: \"sequential_2\"\n",
      "_________________________________________________________________\n",
      "Layer (type)                 Output Shape              Param #   \n",
      "=================================================================\n",
      "dense_4 (Dense)              (None, 8)                 40        \n",
      "_________________________________________________________________\n",
      "dense_5 (Dense)              (None, 8)                 72        \n",
      "_________________________________________________________________\n",
      "dense_6 (Dense)              (None, 3)                 27        \n",
      "=================================================================\n",
      "Total params: 139\n",
      "Trainable params: 139\n",
      "Non-trainable params: 0\n",
      "_________________________________________________________________\n"
     ]
    }
   ],
   "source": [
    "# load libraries\n",
    "from keras.models import Sequential # allows you to build sequential layers in neural network\n",
    "from keras.layers import Dense # allows dense/hidden layers to be added\n",
    "\n",
    "# build ANN\n",
    "model = Sequential() # create network instane\n",
    "model.add(Dense(8, input_dim=4, activation='relu')) # create first layer\n",
    "model.add(Dense(8, input_dim=4, activation='relu')) # create second layer\n",
    "model.add(Dense(3, activation='softmax')) # create output layer e.g. [0.2, 0.3, 0.5] \n",
    "model.compile(loss='categorical_crossentropy', optimizer='adam', metrics=['accuracy']) # define network parameters\n",
    "\n",
    "# check output\n",
    "model.summary()"
   ]
  },
  {
   "cell_type": "code",
   "execution_count": 11,
   "id": "postal-democrat",
   "metadata": {},
   "outputs": [
    {
     "name": "stdout",
     "output_type": "stream",
     "text": [
      "Epoch 1/150\n",
      " - 0s - loss: 0.7328 - accuracy: 0.6900\n",
      "Epoch 2/150\n",
      " - 0s - loss: 0.7145 - accuracy: 0.7400\n",
      "Epoch 3/150\n",
      " - 0s - loss: 0.6851 - accuracy: 0.7500\n",
      "Epoch 4/150\n",
      " - 0s - loss: 0.6600 - accuracy: 0.7300\n",
      "Epoch 5/150\n",
      " - 0s - loss: 0.6384 - accuracy: 0.6900\n",
      "Epoch 6/150\n",
      " - 0s - loss: 0.6218 - accuracy: 0.6700\n",
      "Epoch 7/150\n",
      " - 0s - loss: 0.6072 - accuracy: 0.6700\n",
      "Epoch 8/150\n",
      " - 0s - loss: 0.5944 - accuracy: 0.6700\n",
      "Epoch 9/150\n",
      " - 0s - loss: 0.5836 - accuracy: 0.6700\n",
      "Epoch 10/150\n",
      " - 0s - loss: 0.5739 - accuracy: 0.6700\n",
      "Epoch 11/150\n",
      " - 0s - loss: 0.5646 - accuracy: 0.6700\n",
      "Epoch 12/150\n",
      " - 0s - loss: 0.5556 - accuracy: 0.6700\n",
      "Epoch 13/150\n",
      " - 0s - loss: 0.5478 - accuracy: 0.6700\n",
      "Epoch 14/150\n",
      " - 0s - loss: 0.5402 - accuracy: 0.6700\n",
      "Epoch 15/150\n",
      " - 0s - loss: 0.5321 - accuracy: 0.6700\n",
      "Epoch 16/150\n",
      " - 0s - loss: 0.5250 - accuracy: 0.6900\n",
      "Epoch 17/150\n",
      " - 0s - loss: 0.5181 - accuracy: 0.7100\n",
      "Epoch 18/150\n",
      " - 0s - loss: 0.5109 - accuracy: 0.7300\n",
      "Epoch 19/150\n",
      " - 0s - loss: 0.5046 - accuracy: 0.7500\n",
      "Epoch 20/150\n",
      " - 0s - loss: 0.4985 - accuracy: 0.7500\n",
      "Epoch 21/150\n",
      " - 0s - loss: 0.4932 - accuracy: 0.7800\n",
      "Epoch 22/150\n",
      " - 0s - loss: 0.4876 - accuracy: 0.8000\n",
      "Epoch 23/150\n",
      " - 0s - loss: 0.4823 - accuracy: 0.8100\n",
      "Epoch 24/150\n",
      " - 0s - loss: 0.4771 - accuracy: 0.8300\n",
      "Epoch 25/150\n",
      " - 0s - loss: 0.4714 - accuracy: 0.8500\n",
      "Epoch 26/150\n",
      " - 0s - loss: 0.4657 - accuracy: 0.8600\n",
      "Epoch 27/150\n",
      " - 0s - loss: 0.4602 - accuracy: 0.8600\n",
      "Epoch 28/150\n",
      " - 0s - loss: 0.4546 - accuracy: 0.8600\n",
      "Epoch 29/150\n",
      " - 0s - loss: 0.4496 - accuracy: 0.8600\n",
      "Epoch 30/150\n",
      " - 0s - loss: 0.4443 - accuracy: 0.8600\n",
      "Epoch 31/150\n",
      " - 0s - loss: 0.4395 - accuracy: 0.8600\n",
      "Epoch 32/150\n",
      " - 0s - loss: 0.4350 - accuracy: 0.8600\n",
      "Epoch 33/150\n",
      " - 0s - loss: 0.4305 - accuracy: 0.8600\n",
      "Epoch 34/150\n",
      " - 0s - loss: 0.4263 - accuracy: 0.8600\n",
      "Epoch 35/150\n",
      " - 0s - loss: 0.4236 - accuracy: 0.8500\n",
      "Epoch 36/150\n",
      " - 0s - loss: 0.4202 - accuracy: 0.8400\n",
      "Epoch 37/150\n",
      " - 0s - loss: 0.4173 - accuracy: 0.8300\n",
      "Epoch 38/150\n",
      " - 0s - loss: 0.4171 - accuracy: 0.8000\n",
      "Epoch 39/150\n",
      " - 0s - loss: 0.4145 - accuracy: 0.8000\n",
      "Epoch 40/150\n",
      " - 0s - loss: 0.4106 - accuracy: 0.8200\n",
      "Epoch 41/150\n",
      " - 0s - loss: 0.4065 - accuracy: 0.8400\n",
      "Epoch 42/150\n",
      " - 0s - loss: 0.4026 - accuracy: 0.8600\n",
      "Epoch 43/150\n",
      " - 0s - loss: 0.3993 - accuracy: 0.8700\n",
      "Epoch 44/150\n",
      " - 0s - loss: 0.3971 - accuracy: 0.8800\n",
      "Epoch 45/150\n",
      " - 0s - loss: 0.3944 - accuracy: 0.9100\n",
      "Epoch 46/150\n",
      " - 0s - loss: 0.3920 - accuracy: 0.9100\n",
      "Epoch 47/150\n",
      " - 0s - loss: 0.3896 - accuracy: 0.9300\n",
      "Epoch 48/150\n",
      " - 0s - loss: 0.3878 - accuracy: 0.9500\n",
      "Epoch 49/150\n",
      " - 0s - loss: 0.3857 - accuracy: 0.9500\n",
      "Epoch 50/150\n",
      " - 0s - loss: 0.3836 - accuracy: 0.9500\n",
      "Epoch 51/150\n",
      " - 0s - loss: 0.3819 - accuracy: 0.9600\n",
      "Epoch 52/150\n",
      " - 0s - loss: 0.3800 - accuracy: 0.9600\n",
      "Epoch 53/150\n",
      " - 0s - loss: 0.3776 - accuracy: 0.9700\n",
      "Epoch 54/150\n",
      " - 0s - loss: 0.3756 - accuracy: 0.9600\n",
      "Epoch 55/150\n",
      " - 0s - loss: 0.3728 - accuracy: 0.9400\n",
      "Epoch 56/150\n",
      " - 0s - loss: 0.3712 - accuracy: 0.9300\n",
      "Epoch 57/150\n",
      " - 0s - loss: 0.3698 - accuracy: 0.9200\n",
      "Epoch 58/150\n",
      " - 0s - loss: 0.3680 - accuracy: 0.9200\n",
      "Epoch 59/150\n",
      " - 0s - loss: 0.3663 - accuracy: 0.9300\n",
      "Epoch 60/150\n",
      " - 0s - loss: 0.3645 - accuracy: 0.9300\n",
      "Epoch 61/150\n",
      " - 0s - loss: 0.3630 - accuracy: 0.9300\n",
      "Epoch 62/150\n",
      " - 0s - loss: 0.3614 - accuracy: 0.9300\n",
      "Epoch 63/150\n",
      " - 0s - loss: 0.3604 - accuracy: 0.9200\n",
      "Epoch 64/150\n",
      " - 0s - loss: 0.3589 - accuracy: 0.9100\n",
      "Epoch 65/150\n",
      " - 0s - loss: 0.3574 - accuracy: 0.9300\n",
      "Epoch 66/150\n",
      " - 0s - loss: 0.3555 - accuracy: 0.9300\n",
      "Epoch 67/150\n",
      " - 0s - loss: 0.3537 - accuracy: 0.9300\n",
      "Epoch 68/150\n",
      " - 0s - loss: 0.3525 - accuracy: 0.9300\n",
      "Epoch 69/150\n",
      " - 0s - loss: 0.3510 - accuracy: 0.9300\n",
      "Epoch 70/150\n",
      " - 0s - loss: 0.3503 - accuracy: 0.9200\n",
      "Epoch 71/150\n",
      " - 0s - loss: 0.3484 - accuracy: 0.9300\n",
      "Epoch 72/150\n",
      " - 0s - loss: 0.3466 - accuracy: 0.9300\n",
      "Epoch 73/150\n",
      " - 0s - loss: 0.3445 - accuracy: 0.9500\n",
      "Epoch 74/150\n",
      " - 0s - loss: 0.3427 - accuracy: 0.9500\n",
      "Epoch 75/150\n",
      " - 0s - loss: 0.3412 - accuracy: 0.9500\n",
      "Epoch 76/150\n",
      " - 0s - loss: 0.3398 - accuracy: 0.9500\n",
      "Epoch 77/150\n",
      " - 0s - loss: 0.3383 - accuracy: 0.9500\n",
      "Epoch 78/150\n",
      " - 0s - loss: 0.3377 - accuracy: 0.9300\n",
      "Epoch 79/150\n",
      " - 0s - loss: 0.3370 - accuracy: 0.9300\n",
      "Epoch 80/150\n",
      " - 0s - loss: 0.3362 - accuracy: 0.9300\n",
      "Epoch 81/150\n",
      " - 0s - loss: 0.3344 - accuracy: 0.9300\n",
      "Epoch 82/150\n",
      " - 0s - loss: 0.3320 - accuracy: 0.9300\n",
      "Epoch 83/150\n",
      " - 0s - loss: 0.3299 - accuracy: 0.9500\n",
      "Epoch 84/150\n",
      " - 0s - loss: 0.3277 - accuracy: 0.9700\n",
      "Epoch 85/150\n",
      " - 0s - loss: 0.3275 - accuracy: 0.9700\n",
      "Epoch 86/150\n",
      " - 0s - loss: 0.3283 - accuracy: 0.9600\n",
      "Epoch 87/150\n",
      " - 0s - loss: 0.3291 - accuracy: 0.9700\n",
      "Epoch 88/150\n",
      " - 0s - loss: 0.3287 - accuracy: 0.9800\n",
      "Epoch 89/150\n",
      " - 0s - loss: 0.3273 - accuracy: 0.9800\n",
      "Epoch 90/150\n",
      " - 0s - loss: 0.3251 - accuracy: 0.9700\n",
      "Epoch 91/150\n",
      " - 0s - loss: 0.3225 - accuracy: 0.9700\n",
      "Epoch 92/150\n",
      " - 0s - loss: 0.3197 - accuracy: 0.9700\n",
      "Epoch 93/150\n",
      " - 0s - loss: 0.3171 - accuracy: 0.9700\n",
      "Epoch 94/150\n",
      " - 0s - loss: 0.3148 - accuracy: 0.9700\n",
      "Epoch 95/150\n",
      " - 0s - loss: 0.3137 - accuracy: 0.9600\n",
      "Epoch 96/150\n",
      " - 0s - loss: 0.3125 - accuracy: 0.9600\n",
      "Epoch 97/150\n",
      " - 0s - loss: 0.3112 - accuracy: 0.9600\n",
      "Epoch 98/150\n",
      " - 0s - loss: 0.3100 - accuracy: 0.9600\n",
      "Epoch 99/150\n",
      " - 0s - loss: 0.3085 - accuracy: 0.9600\n",
      "Epoch 100/150\n",
      " - 0s - loss: 0.3072 - accuracy: 0.9600\n",
      "Epoch 101/150\n",
      " - 0s - loss: 0.3056 - accuracy: 0.9600\n",
      "Epoch 102/150\n",
      " - 0s - loss: 0.3043 - accuracy: 0.9600\n",
      "Epoch 103/150\n",
      " - 0s - loss: 0.3029 - accuracy: 0.9700\n",
      "Epoch 104/150\n",
      " - 0s - loss: 0.3018 - accuracy: 0.9700\n",
      "Epoch 105/150\n",
      " - 0s - loss: 0.3004 - accuracy: 0.9700\n",
      "Epoch 106/150\n",
      " - 0s - loss: 0.2983 - accuracy: 0.9700\n",
      "Epoch 107/150\n",
      " - 0s - loss: 0.2977 - accuracy: 0.9600\n",
      "Epoch 108/150\n",
      " - 0s - loss: 0.2967 - accuracy: 0.9600\n",
      "Epoch 109/150\n",
      " - 0s - loss: 0.2956 - accuracy: 0.9600\n",
      "Epoch 110/150\n",
      " - 0s - loss: 0.2937 - accuracy: 0.9600\n",
      "Epoch 111/150\n",
      " - 0s - loss: 0.2923 - accuracy: 0.9600\n",
      "Epoch 112/150\n",
      " - 0s - loss: 0.2907 - accuracy: 0.9600\n",
      "Epoch 113/150\n",
      " - 0s - loss: 0.2901 - accuracy: 0.9600\n",
      "Epoch 114/150\n",
      " - 0s - loss: 0.2888 - accuracy: 0.9700\n",
      "Epoch 115/150\n",
      " - 0s - loss: 0.2870 - accuracy: 0.9700\n",
      "Epoch 116/150\n",
      " - 0s - loss: 0.2861 - accuracy: 0.9700\n",
      "Epoch 117/150\n",
      " - 0s - loss: 0.2845 - accuracy: 0.9700\n",
      "Epoch 118/150\n",
      " - 0s - loss: 0.2833 - accuracy: 0.9700\n",
      "Epoch 119/150\n",
      " - 0s - loss: 0.2828 - accuracy: 0.9700\n",
      "Epoch 120/150\n",
      " - 0s - loss: 0.2818 - accuracy: 0.9700\n",
      "Epoch 121/150\n",
      " - 0s - loss: 0.2809 - accuracy: 0.9700\n",
      "Epoch 122/150\n",
      " - 0s - loss: 0.2793 - accuracy: 0.9700\n",
      "Epoch 123/150\n",
      " - 0s - loss: 0.2776 - accuracy: 0.9700\n",
      "Epoch 124/150\n",
      " - 0s - loss: 0.2761 - accuracy: 0.9700\n",
      "Epoch 125/150\n",
      " - 0s - loss: 0.2750 - accuracy: 0.9700\n",
      "Epoch 126/150\n",
      " - 0s - loss: 0.2740 - accuracy: 0.9700\n",
      "Epoch 127/150\n",
      " - 0s - loss: 0.2737 - accuracy: 0.9700\n",
      "Epoch 128/150\n",
      " - 0s - loss: 0.2726 - accuracy: 0.9800\n",
      "Epoch 129/150\n",
      " - 0s - loss: 0.2711 - accuracy: 0.9700\n",
      "Epoch 130/150\n",
      " - 0s - loss: 0.2693 - accuracy: 0.9700\n",
      "Epoch 131/150\n",
      " - 0s - loss: 0.2680 - accuracy: 0.9700\n",
      "Epoch 132/150\n",
      " - 0s - loss: 0.2666 - accuracy: 0.9700\n",
      "Epoch 133/150\n",
      " - 0s - loss: 0.2654 - accuracy: 0.9700\n",
      "Epoch 134/150\n",
      " - 0s - loss: 0.2646 - accuracy: 0.9700\n",
      "Epoch 135/150\n",
      " - 0s - loss: 0.2638 - accuracy: 0.9800\n",
      "Epoch 136/150\n",
      " - 0s - loss: 0.2630 - accuracy: 0.9800\n",
      "Epoch 137/150\n",
      " - 0s - loss: 0.2626 - accuracy: 0.9800\n",
      "Epoch 138/150\n",
      " - 0s - loss: 0.2614 - accuracy: 0.9800\n",
      "Epoch 139/150\n",
      " - 0s - loss: 0.2587 - accuracy: 0.9800\n",
      "Epoch 140/150\n",
      " - 0s - loss: 0.2561 - accuracy: 0.9700\n",
      "Epoch 141/150\n",
      " - 0s - loss: 0.2549 - accuracy: 0.9700\n",
      "Epoch 142/150\n",
      " - 0s - loss: 0.2535 - accuracy: 0.9700\n",
      "Epoch 143/150\n",
      " - 0s - loss: 0.2525 - accuracy: 0.9700\n",
      "Epoch 144/150\n",
      " - 0s - loss: 0.2515 - accuracy: 0.9600\n",
      "Epoch 145/150\n",
      " - 0s - loss: 0.2507 - accuracy: 0.9600\n",
      "Epoch 146/150\n",
      " - 0s - loss: 0.2498 - accuracy: 0.9600\n",
      "Epoch 147/150\n",
      " - 0s - loss: 0.2479 - accuracy: 0.9600\n",
      "Epoch 148/150\n",
      " - 0s - loss: 0.2468 - accuracy: 0.9600\n",
      "Epoch 149/150\n",
      " - 0s - loss: 0.2455 - accuracy: 0.9600\n",
      "Epoch 150/150\n",
      " - 0s - loss: 0.2447 - accuracy: 0.9700\n"
     ]
    },
    {
     "data": {
      "text/plain": [
       "<keras.callbacks.callbacks.History at 0x2de3f537488>"
      ]
     },
     "execution_count": 11,
     "metadata": {},
     "output_type": "execute_result"
    }
   ],
   "source": [
    "# fit model to training data\n",
    "# epochs = iterations through full network (with feedback, weight enhancements etc.)\n",
    "# verbose = 2 = 1 line per epoch (i.e. shows accuracy at each iteration)\n",
    "model.fit(scaled_X_train, y_train, epochs=150, verbose=2)"
   ]
  },
  {
   "cell_type": "markdown",
   "id": "floating-palestine",
   "metadata": {},
   "source": [
    "## 3. Evaluating ANNs\n",
    "* We can use our trained model to make predictions off new data (or our test data)\n",
    "* In this case, we will be predicting output classes based on predicted probabilites (i.e. max probability of a specific class)\n",
    "* As always, we can use confusion matrices, classification reports and accuracy scores to evaluate the accuracy of our model"
   ]
  },
  {
   "cell_type": "code",
   "execution_count": 13,
   "id": "subtle-atmosphere",
   "metadata": {},
   "outputs": [
    {
     "data": {
      "text/plain": [
       "array([1, 2, 1, 0, 2, 1, 0, 0, 0, 1, 2, 0, 0, 0, 1, 0, 1, 2, 0, 1, 2, 0,\n",
       "       2, 2, 1, 1, 2, 1, 0, 1, 2, 0, 0, 1, 1, 0, 2, 0, 0, 2, 1, 2, 2, 2,\n",
       "       2, 1, 0, 0, 2, 2, 0, 0, 0, 2, 2, 0, 2, 2, 0, 1, 1, 2, 1, 2, 0, 2,\n",
       "       1, 2, 1, 1, 1, 0, 1, 1, 0, 1, 2, 2, 0, 1, 2, 2, 0, 2, 0, 1, 2, 2,\n",
       "       1, 2, 1, 1, 2, 2, 0, 1, 2, 0, 1, 2], dtype=int64)"
      ]
     },
     "execution_count": 13,
     "metadata": {},
     "output_type": "execute_result"
    }
   ],
   "source": [
    "# make predictions of classes\n",
    "# note that output is the index position of the class, not the actual class itself\n",
    "# although in our case, these are one and the same due to one hot encoding\n",
    "model.predict_classes(scaled_X_train)"
   ]
  },
  {
   "cell_type": "code",
   "execution_count": 22,
   "id": "interracial-chapter",
   "metadata": {},
   "outputs": [
    {
     "data": {
      "text/plain": [
       "array([[19,  0,  0],\n",
       "       [ 0, 14,  1],\n",
       "       [ 0,  0, 16]], dtype=int64)"
      ]
     },
     "execution_count": 22,
     "metadata": {},
     "output_type": "execute_result"
    }
   ],
   "source": [
    "# load libraries\n",
    "from sklearn.metrics import confusion_matrix, classification_report, accuracy_score\n",
    "\n",
    "# make predictions on train data\n",
    "y_pred = model.predict_classes(scaled_X_test)\n",
    "\n",
    "# convert y_test from one hot encoded to actual class values\n",
    "y_test.argmax(axis=1)\n",
    "\n",
    "# confusion matrix\n",
    "confusion_matrix(y_test.argmax(axis=1), y_pred)"
   ]
  },
  {
   "cell_type": "code",
   "execution_count": 23,
   "id": "thirty-printing",
   "metadata": {},
   "outputs": [
    {
     "name": "stdout",
     "output_type": "stream",
     "text": [
      "              precision    recall  f1-score   support\n",
      "\n",
      "           0       1.00      1.00      1.00        19\n",
      "           1       1.00      0.93      0.97        15\n",
      "           2       0.94      1.00      0.97        16\n",
      "\n",
      "    accuracy                           0.98        50\n",
      "   macro avg       0.98      0.98      0.98        50\n",
      "weighted avg       0.98      0.98      0.98        50\n",
      "\n"
     ]
    }
   ],
   "source": [
    "# classification report\n",
    "print(classification_report(y_test.argmax(axis=1), y_pred))"
   ]
  },
  {
   "cell_type": "code",
   "execution_count": 24,
   "id": "lovely-stationery",
   "metadata": {},
   "outputs": [
    {
     "data": {
      "text/plain": [
       "0.98"
      ]
     },
     "execution_count": 24,
     "metadata": {},
     "output_type": "execute_result"
    }
   ],
   "source": [
    "# accuracy score\n",
    "accuracy_score(y_test.argmax(axis=1), y_pred)"
   ]
  },
  {
   "cell_type": "markdown",
   "id": "cultural-presentation",
   "metadata": {},
   "source": [
    "## 4. Saving/Loading Models\n",
    "* We can save our model along with all of its trained weights, coefficients etc.\n",
    "* We can then load any models which we have saved for re-use\n",
    "* Note that if your model took a really long time to train on lots of complex data, be very careful not to overwrite existing models with identical names or you will lose all your valuable work"
   ]
  },
  {
   "cell_type": "code",
   "execution_count": 25,
   "id": "biblical-indonesian",
   "metadata": {},
   "outputs": [],
   "source": [
    "# save model (all weights etc.)\n",
    "model.save('nlp_ann_model.h5')\n",
    "\n",
    "# load model\n",
    "from keras.models import load_model\n",
    "new_model = load_model('nlp_ann_model.h5')"
   ]
  },
  {
   "cell_type": "markdown",
   "id": "cardiovascular-effectiveness",
   "metadata": {},
   "source": [
    "## 5. Recurrent Neural Networks\n",
    "* \n",
    "* [Keras Punctuation String to Exclude](https://www.tensorflow.org/api_docs/python/tf/keras/preprocessing/text/Tokenizer)"
   ]
  },
  {
   "cell_type": "code",
   "execution_count": 32,
   "id": "enclosed-posting",
   "metadata": {},
   "outputs": [
    {
     "data": {
      "text/plain": [
       "11429"
      ]
     },
     "execution_count": 32,
     "metadata": {},
     "output_type": "execute_result"
    }
   ],
   "source": [
    "# load libraries\n",
    "import spacy\n",
    "\n",
    "# prevent spacy complaining\n",
    "import logging\n",
    "logger = logging.getLogger(\"spacy\")\n",
    "logger.setLevel(logging.ERROR)\n",
    "\n",
    "# create nlp object (disable components we don't need, only interested in tokenization)\n",
    "nlp = spacy.load('en_core_web_lg', disable=['parser', 'tagger', 'ner'])\n",
    "\n",
    "# function to read files\n",
    "def read_file(filepath):\n",
    "    # open file\n",
    "    with open(filepath) as f:\n",
    "        # read into text object\n",
    "        str_text = f.read()\n",
    "        \n",
    "    # return all text\n",
    "    return str_text\n",
    "\n",
    "# set max # of words to > words in entirity of Moby Dick (sometimes spacy complains otherwise)\n",
    "nlp.max_length = 1198623\n",
    "\n",
    "# extract unique tokens from text (without special chars/punctuation etc.)\n",
    "def separate_punctuation(doc_text):\n",
    "    # special characters to exclude\n",
    "    filters = '\\n\\n \\n\\n\\n!\"#$%&()*+,-./:;<=>?@[\\\\]^_`{|}~\\t\\n'\n",
    "    \n",
    "    # return all tokens as lower case from entire document, excluding special characters\n",
    "    return [token.text.lower() for token in nlp(doc_text) if token.text not in filters]\n",
    "\n",
    "# read in first 4 chapters of Moby Dick\n",
    "d = read_file('NLP Course Files/TextFiles/moby_dick_four_chapters.txt')\n",
    "\n",
    "# extract tokens\n",
    "tokens = separate_punctuation(d);\n",
    "\n",
    "# check # of tokens\n",
    "len(tokens)"
   ]
  },
  {
   "cell_type": "markdown",
   "id": "virgin-russian",
   "metadata": {},
   "source": [
    "## 6. LSTM and GRU\n",
    "* "
   ]
  },
  {
   "cell_type": "code",
   "execution_count": null,
   "id": "hidden-closing",
   "metadata": {},
   "outputs": [],
   "source": [
    "# \n",
    "train_len = 25 + 1\n",
    "\n",
    "#\n",
    "text_sequences =  []\n",
    "\n",
    "# \n",
    "for i in range(train_len, len(tokens)):\n",
    "    seq = tokens[i - train_len:i]\n",
    "    \n",
    "    text_sequences.append(seq)"
   ]
  },
  {
   "cell_type": "code",
   "execution_count": null,
   "id": "cordless-repair",
   "metadata": {},
   "outputs": [],
   "source": []
  },
  {
   "cell_type": "code",
   "execution_count": null,
   "id": "controlling-rendering",
   "metadata": {},
   "outputs": [],
   "source": []
  },
  {
   "cell_type": "code",
   "execution_count": null,
   "id": "early-curtis",
   "metadata": {},
   "outputs": [],
   "source": []
  },
  {
   "cell_type": "code",
   "execution_count": null,
   "id": "nervous-riding",
   "metadata": {},
   "outputs": [],
   "source": []
  },
  {
   "cell_type": "code",
   "execution_count": null,
   "id": "latin-saturday",
   "metadata": {},
   "outputs": [],
   "source": []
  },
  {
   "cell_type": "code",
   "execution_count": null,
   "id": "foreign-greenhouse",
   "metadata": {},
   "outputs": [],
   "source": []
  },
  {
   "cell_type": "code",
   "execution_count": null,
   "id": "prescribed-training",
   "metadata": {},
   "outputs": [],
   "source": []
  },
  {
   "cell_type": "code",
   "execution_count": null,
   "id": "dress-uncle",
   "metadata": {},
   "outputs": [],
   "source": []
  },
  {
   "cell_type": "code",
   "execution_count": null,
   "id": "excessive-excess",
   "metadata": {},
   "outputs": [],
   "source": []
  },
  {
   "cell_type": "code",
   "execution_count": null,
   "id": "chubby-cycle",
   "metadata": {},
   "outputs": [],
   "source": []
  },
  {
   "cell_type": "code",
   "execution_count": null,
   "id": "amber-piano",
   "metadata": {},
   "outputs": [],
   "source": []
  },
  {
   "cell_type": "code",
   "execution_count": null,
   "id": "passing-blocking",
   "metadata": {},
   "outputs": [],
   "source": []
  },
  {
   "cell_type": "code",
   "execution_count": null,
   "id": "historical-penguin",
   "metadata": {},
   "outputs": [],
   "source": []
  },
  {
   "cell_type": "code",
   "execution_count": null,
   "id": "fossil-founder",
   "metadata": {},
   "outputs": [],
   "source": []
  },
  {
   "cell_type": "code",
   "execution_count": null,
   "id": "aggregate-flesh",
   "metadata": {},
   "outputs": [],
   "source": []
  },
  {
   "cell_type": "code",
   "execution_count": null,
   "id": "damaged-november",
   "metadata": {},
   "outputs": [],
   "source": []
  },
  {
   "cell_type": "code",
   "execution_count": null,
   "id": "dietary-insertion",
   "metadata": {},
   "outputs": [],
   "source": []
  },
  {
   "cell_type": "code",
   "execution_count": null,
   "id": "postal-hearts",
   "metadata": {},
   "outputs": [],
   "source": []
  }
 ],
 "metadata": {
  "kernelspec": {
   "display_name": "Python 3",
   "language": "python",
   "name": "python3"
  },
  "language_info": {
   "codemirror_mode": {
    "name": "ipython",
    "version": 3
   },
   "file_extension": ".py",
   "mimetype": "text/x-python",
   "name": "python",
   "nbconvert_exporter": "python",
   "pygments_lexer": "ipython3",
   "version": "3.7.9"
  }
 },
 "nbformat": 4,
 "nbformat_minor": 5
}
