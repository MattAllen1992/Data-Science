{
 "cells": [
  {
   "cell_type": "markdown",
   "id": "further-armor",
   "metadata": {},
   "source": [
    "# Named Entity Recognition\n",
    "## 1. Named Entity Recognition\n",
    "### Basics\n",
    "* Entities are things like businesses, people, locations, dates, numeric values etc.\n",
    "* It is useful to extract and differentiate these as they are critical to the meaning and reference of your text\n",
    "* Below is a full table of entity attributes that you can access\n",
    "* Each of these describes the entity in a different way and lets you extract specific components for use\n",
    "* Entities retain surrounding tokens which help to describe them (e.g. 20 dollars or next May)\n",
    "\n",
    "`Doc.ents` are token spans with their own set of annotations.\n",
    "<table>\n",
    "<tr><td>`ent.text`</td><td>The original entity text</td></tr>\n",
    "<tr><td>`ent.label`</td><td>The entity type's hash value</td></tr>\n",
    "<tr><td>`ent.label_`</td><td>The entity type's string description</td></tr>\n",
    "<tr><td>`ent.start`</td><td>The token span's *start* index position in the Doc</td></tr>\n",
    "<tr><td>`ent.end`</td><td>The token span's *stop* index position in the Doc</td></tr>\n",
    "<tr><td>`ent.start_char`</td><td>The entity text's *start* index position in the Doc</td></tr>\n",
    "<tr><td>`ent.end_char`</td><td>The entity text's *stop* index position in the Doc</td></tr>\n",
    "</table>"
   ]
  },
  {
   "cell_type": "code",
   "execution_count": 1,
   "id": "municipal-edition",
   "metadata": {},
   "outputs": [
    {
     "name": "stdout",
     "output_type": "stream",
     "text": [
      "Washington, DC - GPE - Countries, cities, states\n",
      "next May - DATE - Absolute or relative dates or periods\n",
      "the Washington Monument - ORG - Companies, agencies, institutions, etc.\n",
      "$20 dollars - MONEY - Monetary values, including unit\n"
     ]
    }
   ],
   "source": [
    "# load libraries\n",
    "import spacy\n",
    "\n",
    "# load language library\n",
    "nlp = spacy.load('en_core_web_sm')\n",
    "\n",
    "# show entities within text\n",
    "def show_ents(doc):\n",
    "    # check if there are any entities\n",
    "    if doc.ents:\n",
    "        # iterate through entities\n",
    "        for ent in doc.ents:\n",
    "            print(ent.text + ' - ' + ent.label_ + ' - ' + str(spacy.explain(ent.label_)))\n",
    "    # otherwise no entities\n",
    "    else:\n",
    "        print('No entities found.')\n",
    "            \n",
    "# create text\n",
    "doc = nlp(u'May I go to Washington, DC next May to see the Washington Monument? It costs $20 dollars to enter.')\n",
    "\n",
    "# show entities within text\n",
    "show_ents(doc)"
   ]
  },
  {
   "cell_type": "markdown",
   "id": "liked-builder",
   "metadata": {},
   "source": [
    "### Entity Tags/Labels\n",
    "* Below is a full list of all possible entity tags\n",
    "* Each decribes a different type of entity that could be found within your text\n",
    "\n",
    "Tags are accessible through the `.label_` property of an entity.\n",
    "<table>\n",
    "<tr><th>TYPE</th><th>DESCRIPTION</th><th>EXAMPLE</th></tr>\n",
    "<tr><td>`PERSON`</td><td>People, including fictional.</td><td>*Fred Flintstone*</td></tr>\n",
    "<tr><td>`NORP`</td><td>Nationalities or religious or political groups.</td><td>*The Republican Party*</td></tr>\n",
    "<tr><td>`FAC`</td><td>Buildings, airports, highways, bridges, etc.</td><td>*Logan International Airport, The Golden Gate*</td></tr>\n",
    "<tr><td>`ORG`</td><td>Companies, agencies, institutions, etc.</td><td>*Microsoft, FBI, MIT*</td></tr>\n",
    "<tr><td>`GPE`</td><td>Countries, cities, states.</td><td>*France, UAR, Chicago, Idaho*</td></tr>\n",
    "<tr><td>`LOC`</td><td>Non-GPE locations, mountain ranges, bodies of water.</td><td>*Europe, Nile River, Midwest*</td></tr>\n",
    "<tr><td>`PRODUCT`</td><td>Objects, vehicles, foods, etc. (Not services.)</td><td>*Formula 1*</td></tr>\n",
    "<tr><td>`EVENT`</td><td>Named hurricanes, battles, wars, sports events, etc.</td><td>*Olympic Games*</td></tr>\n",
    "<tr><td>`WORK_OF_ART`</td><td>Titles of books, songs, etc.</td><td>*The Mona Lisa*</td></tr>\n",
    "<tr><td>`LAW`</td><td>Named documents made into laws.</td><td>*Roe v. Wade*</td></tr>\n",
    "<tr><td>`LANGUAGE`</td><td>Any named language.</td><td>*English*</td></tr>\n",
    "<tr><td>`DATE`</td><td>Absolute or relative dates or periods.</td><td>*20 July 1969*</td></tr>\n",
    "<tr><td>`TIME`</td><td>Times smaller than a day.</td><td>*Four hours*</td></tr>\n",
    "<tr><td>`PERCENT`</td><td>Percentage, including \"%\".</td><td>*Eighty percent*</td></tr>\n",
    "<tr><td>`MONEY`</td><td>Monetary values, including unit.</td><td>*Twenty Cents*</td></tr>\n",
    "<tr><td>`QUANTITY`</td><td>Measurements, as of weight or distance.</td><td>*Several kilometers, 55kg*</td></tr>\n",
    "<tr><td>`ORDINAL`</td><td>\"first\", \"second\", etc.</td><td>*9th, Ninth*</td></tr>\n",
    "<tr><td>`CARDINAL`</td><td>Numerals that do not fall under another type.</td><td>*2, Two, Fifty-two*</td></tr>\n",
    "</table>\n",
    "\n",
    "\n",
    "### Add NE to Single Span\n",
    "* In the below example you can see that by default, Spacy doesn't recognise Tesla as an entity\n",
    "* You can add or remove entities from the above entity tag list to customize the recognized entities\n",
    "* This can be very useful if you're using a very niche or custom set of text where there are entities that aren't widely known"
   ]
  },
  {
   "cell_type": "code",
   "execution_count": 2,
   "id": "critical-sacramento",
   "metadata": {},
   "outputs": [
    {
     "name": "stdout",
     "output_type": "stream",
     "text": [
      "U.K. - GPE - Countries, cities, states\n",
      "$6 million - MONEY - Monetary values, including unit\n"
     ]
    }
   ],
   "source": [
    "# create text\n",
    "doc = nlp(u'Tesla to build a U.K. factory for $6 million.')\n",
    "\n",
    "# show entities within text\n",
    "show_ents(doc)"
   ]
  },
  {
   "cell_type": "code",
   "execution_count": 3,
   "id": "creative-depression",
   "metadata": {},
   "outputs": [
    {
     "name": "stdout",
     "output_type": "stream",
     "text": [
      "383\n",
      "Tesla - ORG - Companies, agencies, institutions, etc.\n",
      "U.K. - GPE - Countries, cities, states\n",
      "$6 million - MONEY - Monetary values, including unit\n"
     ]
    }
   ],
   "source": [
    "# load libraries\n",
    "from spacy.tokens import Span\n",
    "\n",
    "# extract existing ORG entity label into variable\n",
    "ORG = doc.vocab.strings[u'ORG']\n",
    "\n",
    "# check hash value of ORG in vocab\n",
    "print(ORG)\n",
    "\n",
    "# create new entity (assign label of ORG to Tesla explicitly)\n",
    "new_ent = Span(doc,0,1, label=ORG) # extract Tesla from doc (using indexing) and label as ORG\n",
    "\n",
    "# append new entity to doc entities\n",
    "doc.ents = list(doc.ents) + [new_ent]\n",
    "\n",
    "# check new entities\n",
    "show_ents(doc)"
   ]
  },
  {
   "cell_type": "markdown",
   "id": "creative-cherry",
   "metadata": {},
   "source": [
    "### Add NE to All Spans\n",
    "* In the above example we added a NE tag to one specific occurrence of an entity\n",
    "* It would also be useful to add multiple named entity tags to all occurrences of an entity"
   ]
  },
  {
   "cell_type": "code",
   "execution_count": 4,
   "id": "hybrid-rainbow",
   "metadata": {},
   "outputs": [
    {
     "name": "stdout",
     "output_type": "stream",
     "text": [
      "No entities found.\n"
     ]
    }
   ],
   "source": [
    "# create text\n",
    "doc = nlp(u'Our company created a brand new vacuum cleaner.'\n",
    "          u'This new vacuum-cleaner is the best in show.')\n",
    "\n",
    "# check existing named entities (default)\n",
    "show_ents(doc)"
   ]
  },
  {
   "cell_type": "markdown",
   "id": "heard-presence",
   "metadata": {},
   "source": [
    "* You can use the phrase matcher object to extract all matches of your desired entity\n",
    "* You can then extract the label type you want (e.g. product for vacuum cleaner)\n",
    "* This label can then be assigned to all matches (based on your match indexing)"
   ]
  },
  {
   "cell_type": "code",
   "execution_count": 5,
   "id": "posted-level",
   "metadata": {},
   "outputs": [
    {
     "data": {
      "text/plain": [
       "[(2689272359382549672, 6, 8), (2689272359382549672, 11, 14)]"
      ]
     },
     "execution_count": 5,
     "metadata": {},
     "output_type": "execute_result"
    }
   ],
   "source": [
    "# load libraries\n",
    "from spacy.matcher import PhraseMatcher\n",
    "\n",
    "# create matcher object\n",
    "matcher = PhraseMatcher(nlp.vocab)\n",
    "\n",
    "# define list of phrases to match\n",
    "phrase_list = ['vacuum cleaner', 'vacuum-cleaner']\n",
    "\n",
    "# convert phrases into nlp patterns\n",
    "phrase_patterns = [nlp(text) for text in phrase_list]\n",
    "\n",
    "# add patterns to matcher object\n",
    "matcher.add('newproduct', phrase_patterns)\n",
    "\n",
    "# get found matches\n",
    "found_matches = matcher(doc)\n",
    "found_matches # 2 matches from above text"
   ]
  },
  {
   "cell_type": "code",
   "execution_count": 6,
   "id": "bulgarian-plumbing",
   "metadata": {},
   "outputs": [
    {
     "name": "stdout",
     "output_type": "stream",
     "text": [
      "vacuum cleaner - PRODUCT - Objects, vehicles, foods, etc. (not services)\n",
      "vacuum-cleaner - PRODUCT - Objects, vehicles, foods, etc. (not services)\n"
     ]
    }
   ],
   "source": [
    "# load libraries\n",
    "from spacy.tokens import span\n",
    "\n",
    "# extract PRODUCT entity tag into var\n",
    "PROD = doc.vocab.strings[u'PRODUCT']\n",
    "\n",
    "# apply PROD label to each match within our doc\n",
    "new_ents = [Span(doc, match[1], match[2], label=PROD) for match in found_matches]\n",
    "\n",
    "# add new entities into doc\n",
    "doc.ents = list(doc.ents) + new_ents\n",
    "\n",
    "# check new entities\n",
    "show_ents(doc)"
   ]
  },
  {
   "cell_type": "markdown",
   "id": "charitable-monroe",
   "metadata": {},
   "source": [
    "* Finally, you can extract custom entity label information from your text if desired\n",
    "* Below we use list comprehension to extract all entities of the money type\n",
    "* This can be useful for frequency analysis or extraction of a specific entity type"
   ]
  },
  {
   "cell_type": "code",
   "execution_count": 7,
   "id": "ongoing-adoption",
   "metadata": {},
   "outputs": [
    {
     "data": {
      "text/plain": [
       "2"
      ]
     },
     "execution_count": 7,
     "metadata": {},
     "output_type": "execute_result"
    }
   ],
   "source": [
    "# create text\n",
    "doc = nlp(u'Originally I paid $29.95 for this toy car, but now it is marked down by $10.')\n",
    "\n",
    "# check how many money tags were mentioned in doc\n",
    "len([ent for ent in doc.ents if ent.label_ == 'MONEY'])"
   ]
  },
  {
   "cell_type": "markdown",
   "id": "corresponding-marijuana",
   "metadata": {},
   "source": [
    "## 2. Visualizing NER\n",
    "### Displacy\n",
    "* Displacy very simply and clearly splits entities out, highlighting them and describing their tag\n",
    "* You can format the visuals to more clearly explain your data\n",
    "* e.g. split out sentences, only highlight specific entitites (e.g. products)"
   ]
  },
  {
   "cell_type": "code",
   "execution_count": 8,
   "id": "generous-surgeon",
   "metadata": {},
   "outputs": [
    {
     "data": {
      "text/html": [
       "<span class=\"tex2jax_ignore\"><div class=\"entities\" style=\"line-height: 2.5; direction: ltr\">Over \n",
       "<mark class=\"entity\" style=\"background: #bfe1d9; padding: 0.45em 0.6em; margin: 0 0.25em; line-height: 1; border-radius: 0.35em;\">\n",
       "    the last quarter\n",
       "    <span style=\"font-size: 0.8em; font-weight: bold; line-height: 1; border-radius: 0.35em; vertical-align: middle; margin-left: 0.5rem\">DATE</span>\n",
       "</mark>\n",
       ", \n",
       "<mark class=\"entity\" style=\"background: #7aecec; padding: 0.45em 0.6em; margin: 0 0.25em; line-height: 1; border-radius: 0.35em;\">\n",
       "    Apple\n",
       "    <span style=\"font-size: 0.8em; font-weight: bold; line-height: 1; border-radius: 0.35em; vertical-align: middle; margin-left: 0.5rem\">ORG</span>\n",
       "</mark>\n",
       " has sold \n",
       "<mark class=\"entity\" style=\"background: #e4e7d2; padding: 0.45em 0.6em; margin: 0 0.25em; line-height: 1; border-radius: 0.35em;\">\n",
       "    almost 20 thousand\n",
       "    <span style=\"font-size: 0.8em; font-weight: bold; line-height: 1; border-radius: 0.35em; vertical-align: middle; margin-left: 0.5rem\">CARDINAL</span>\n",
       "</mark>\n",
       " \n",
       "<mark class=\"entity\" style=\"background: #7aecec; padding: 0.45em 0.6em; margin: 0 0.25em; line-height: 1; border-radius: 0.35em;\">\n",
       "    iPods\n",
       "    <span style=\"font-size: 0.8em; font-weight: bold; line-height: 1; border-radius: 0.35em; vertical-align: middle; margin-left: 0.5rem\">ORG</span>\n",
       "</mark>\n",
       " for a profit of \n",
       "<mark class=\"entity\" style=\"background: #e4e7d2; padding: 0.45em 0.6em; margin: 0 0.25em; line-height: 1; border-radius: 0.35em;\">\n",
       "    $6 million\n",
       "    <span style=\"font-size: 0.8em; font-weight: bold; line-height: 1; border-radius: 0.35em; vertical-align: middle; margin-left: 0.5rem\">MONEY</span>\n",
       "</mark>\n",
       ".</div></span>"
      ],
      "text/plain": [
       "<IPython.core.display.HTML object>"
      ]
     },
     "metadata": {},
     "output_type": "display_data"
    },
    {
     "data": {
      "text/html": [
       "<span class=\"tex2jax_ignore\"><div class=\"entities\" style=\"line-height: 2.5; direction: ltr\">By contrast, \n",
       "<mark class=\"entity\" style=\"background: #7aecec; padding: 0.45em 0.6em; margin: 0 0.25em; line-height: 1; border-radius: 0.35em;\">\n",
       "    Sony\n",
       "    <span style=\"font-size: 0.8em; font-weight: bold; line-height: 1; border-radius: 0.35em; vertical-align: middle; margin-left: 0.5rem\">ORG</span>\n",
       "</mark>\n",
       " only sold \n",
       "<mark class=\"entity\" style=\"background: #e4e7d2; padding: 0.45em 0.6em; margin: 0 0.25em; line-height: 1; border-radius: 0.35em;\">\n",
       "    8 thousand\n",
       "    <span style=\"font-size: 0.8em; font-weight: bold; line-height: 1; border-radius: 0.35em; vertical-align: middle; margin-left: 0.5rem\">CARDINAL</span>\n",
       "</mark>\n",
       " \n",
       "<mark class=\"entity\" style=\"background: #bfeeb7; padding: 0.45em 0.6em; margin: 0 0.25em; line-height: 1; border-radius: 0.35em;\">\n",
       "    Walkman\n",
       "    <span style=\"font-size: 0.8em; font-weight: bold; line-height: 1; border-radius: 0.35em; vertical-align: middle; margin-left: 0.5rem\">PRODUCT</span>\n",
       "</mark>\n",
       " music players.</div></span>"
      ],
      "text/plain": [
       "<IPython.core.display.HTML object>"
      ]
     },
     "metadata": {},
     "output_type": "display_data"
    }
   ],
   "source": [
    "# load libraries\n",
    "from spacy import displacy\n",
    "\n",
    "# create text\n",
    "doc = nlp(u'Over the last quarter, Apple has sold almost 20 thousand iPods for a profit of $6 million.'\n",
    "          u'By contrast, Sony only sold 8 thousand Walkman music players.')\n",
    "\n",
    "# visualize entities (show sentences on new lines)\n",
    "for sent in doc.sents:\n",
    "    displacy.render(nlp(sent.text), style='ent', jupyter=True)"
   ]
  },
  {
   "cell_type": "code",
   "execution_count": 9,
   "id": "brave-drawing",
   "metadata": {},
   "outputs": [
    {
     "data": {
      "text/html": [
       "<span class=\"tex2jax_ignore\"><div class=\"entities\" style=\"line-height: 2.5; direction: ltr\">Over the last quarter, \n",
       "<mark class=\"entity\" style=\"background: #aa9cfc; padding: 0.45em 0.6em; margin: 0 0.25em; line-height: 1; border-radius: 0.35em;\">\n",
       "    Apple\n",
       "    <span style=\"font-size: 0.8em; font-weight: bold; line-height: 1; border-radius: 0.35em; vertical-align: middle; margin-left: 0.5rem\">ORG</span>\n",
       "</mark>\n",
       " has sold almost 20 thousand \n",
       "<mark class=\"entity\" style=\"background: #aa9cfc; padding: 0.45em 0.6em; margin: 0 0.25em; line-height: 1; border-radius: 0.35em;\">\n",
       "    iPods\n",
       "    <span style=\"font-size: 0.8em; font-weight: bold; line-height: 1; border-radius: 0.35em; vertical-align: middle; margin-left: 0.5rem\">ORG</span>\n",
       "</mark>\n",
       " for a profit of $6 million.</div></span>"
      ],
      "text/plain": [
       "<IPython.core.display.HTML object>"
      ]
     },
     "metadata": {},
     "output_type": "display_data"
    },
    {
     "data": {
      "text/html": [
       "<span class=\"tex2jax_ignore\"><div class=\"entities\" style=\"line-height: 2.5; direction: ltr\">By contrast, \n",
       "<mark class=\"entity\" style=\"background: #aa9cfc; padding: 0.45em 0.6em; margin: 0 0.25em; line-height: 1; border-radius: 0.35em;\">\n",
       "    Sony\n",
       "    <span style=\"font-size: 0.8em; font-weight: bold; line-height: 1; border-radius: 0.35em; vertical-align: middle; margin-left: 0.5rem\">ORG</span>\n",
       "</mark>\n",
       " only sold 8 thousand \n",
       "<mark class=\"entity\" style=\"background: radial-gradient(yellow, red); padding: 0.45em 0.6em; margin: 0 0.25em; line-height: 1; border-radius: 0.35em;\">\n",
       "    Walkman\n",
       "    <span style=\"font-size: 0.8em; font-weight: bold; line-height: 1; border-radius: 0.35em; vertical-align: middle; margin-left: 0.5rem\">PRODUCT</span>\n",
       "</mark>\n",
       " music players.</div></span>"
      ],
      "text/plain": [
       "<IPython.core.display.HTML object>"
      ]
     },
     "metadata": {},
     "output_type": "display_data"
    }
   ],
   "source": [
    "# define custom rendering options (quite specific for colour options)\n",
    "colors = {'ORG':'#aa9cfc', 'DATE':'linear-gradient(90deg, #aa9cfc, #fc9ce7)', 'PRODUCT':'radial-gradient(yellow, red)'}\n",
    "options = {'ents':['PRODUCT', 'ORG'], 'colors':colors}\n",
    "\n",
    "# visualize entities (show sentences on new lines)\n",
    "for sent in doc.sents:\n",
    "    displacy.render(nlp(sent.text), style='ent', jupyter=True, options=options)"
   ]
  },
  {
   "cell_type": "markdown",
   "id": "assured-vehicle",
   "metadata": {},
   "source": [
    "## 3. Sentence Segmentation\n",
    "### Adding New Rules to Existing Set\n",
    "* Spacy provides a generator for splitting out sentences from your text\n",
    "* Note that the **doc.sents** code is a generator and cannot be indexed etc. (see error below)\n",
    "* Generators sequentially generate objects one at a time, rather than holding everything in memory\n",
    "* This is to save space because large text documents will contain many sentences and this would be very slow if stored in memory"
   ]
  },
  {
   "cell_type": "code",
   "execution_count": 10,
   "id": "literary-pizza",
   "metadata": {},
   "outputs": [
    {
     "name": "stdout",
     "output_type": "stream",
     "text": [
      "This is the first sentence.\n",
      "Here is the second sentence.\n",
      "Finally, this is the third sentence.\n"
     ]
    }
   ],
   "source": [
    "# create text\n",
    "doc = nlp(u'This is the first sentence. Here is the second sentence. Finally, this is the third sentence.')\n",
    "\n",
    "# iterate through and display sentences\n",
    "for sent in doc.sents:\n",
    "    print(sent)"
   ]
  },
  {
   "cell_type": "code",
   "execution_count": 11,
   "id": "infectious-provider",
   "metadata": {},
   "outputs": [
    {
     "ename": "TypeError",
     "evalue": "'generator' object is not subscriptable",
     "output_type": "error",
     "traceback": [
      "\u001b[1;31m---------------------------------------------------------------------------\u001b[0m",
      "\u001b[1;31mTypeError\u001b[0m                                 Traceback (most recent call last)",
      "\u001b[1;32m<ipython-input-11-043babcf8edd>\u001b[0m in \u001b[0;36m<module>\u001b[1;34m\u001b[0m\n\u001b[0;32m      1\u001b[0m \u001b[1;31m# results in error because this is a generator, not a subscriptable object\u001b[0m\u001b[1;33m\u001b[0m\u001b[1;33m\u001b[0m\u001b[1;33m\u001b[0m\u001b[0m\n\u001b[1;32m----> 2\u001b[1;33m \u001b[0mdoc\u001b[0m\u001b[1;33m.\u001b[0m\u001b[0msents\u001b[0m\u001b[1;33m[\u001b[0m\u001b[1;36m1\u001b[0m\u001b[1;33m]\u001b[0m\u001b[1;33m\u001b[0m\u001b[1;33m\u001b[0m\u001b[0m\n\u001b[0m\u001b[0;32m      3\u001b[0m \u001b[1;33m\u001b[0m\u001b[0m\n\u001b[0;32m      4\u001b[0m \u001b[1;31m# you can override this by storing sentences in a list of spans\u001b[0m\u001b[1;33m\u001b[0m\u001b[1;33m\u001b[0m\u001b[1;33m\u001b[0m\u001b[0m\n\u001b[0;32m      5\u001b[0m \u001b[1;31m# but remember that this object may be very large for large docs\u001b[0m\u001b[1;33m\u001b[0m\u001b[1;33m\u001b[0m\u001b[1;33m\u001b[0m\u001b[0m\n",
      "\u001b[1;31mTypeError\u001b[0m: 'generator' object is not subscriptable"
     ]
    }
   ],
   "source": [
    "# results in error because this is a generator, not a subscriptable object\n",
    "doc.sents[1]\n",
    "\n",
    "# you can override this by storing sentences in a list of spans\n",
    "# but remember that this object may be very large for large docs\n",
    "sentences = list(doc.sents)"
   ]
  },
  {
   "cell_type": "markdown",
   "id": "adjusted-implementation",
   "metadata": {},
   "source": [
    "Notes:\n",
    "* Default behaviour of sentence splitting is shown below\n",
    "* It will naively handle complex sentences which could contain quotes or sub-components that you might want to keep together\n",
    "* You can override this behaviour by adding new segmentation rules or changing existing rules"
   ]
  },
  {
   "cell_type": "code",
   "execution_count": 12,
   "id": "mental-scout",
   "metadata": {},
   "outputs": [
    {
     "name": "stdout",
     "output_type": "stream",
     "text": [
      "\"Management is doing the right things; leadership is doing the right things.\"\n",
      "-\n",
      "Peter Drucker\n"
     ]
    }
   ],
   "source": [
    "# create text\n",
    "doc = nlp(u'\"Management is doing the right things; leadership is doing the right things.\" - Peter Drucker')\n",
    "\n",
    "# iterate through and display sentences\n",
    "for sent in doc.sents:\n",
    "    print(sent)"
   ]
  },
  {
   "cell_type": "markdown",
   "id": "future-development",
   "metadata": {},
   "source": [
    "Notes:\n",
    "* You can use the index of each token to get its position in the document (i.e. token.i)\n",
    "* This allows you to set custom segmentation rules\n",
    "* Here, we essentially set ';' as an end to a sentence by ensuring the next token is flagged as a sentence start\n",
    "* **NOTE:** you must run the first two lines below (i.e. adding component to Spacy's language) otherwise you won't be able to edit/add steps to the pipeline\n",
    "* [Spacy Pipeline Docs](https://spacy.io/usage/processing-pipelines)"
   ]
  },
  {
   "cell_type": "code",
   "execution_count": 13,
   "id": "sealed-setting",
   "metadata": {
    "scrolled": true
   },
   "outputs": [
    {
     "data": {
      "text/plain": [
       "['tok2vec',\n",
       " 'tagger',\n",
       " 'set_custom_boundaries',\n",
       " 'parser',\n",
       " 'ner',\n",
       " 'attribute_ruler',\n",
       " 'lemmatizer']"
      ]
     },
     "execution_count": 13,
     "metadata": {},
     "output_type": "execute_result"
    }
   ],
   "source": [
    "# load libraries\n",
    "from spacy.language import Language\n",
    "\n",
    "# add my method to Spacy's language (otherwise next step fails)\n",
    "@Language.component(\"set_custom_boundaries\")\n",
    "\n",
    "# method to add segmentation rule(s)\n",
    "def set_custom_boundaries(doc):\n",
    "    \n",
    "    # iterate through everything except last token (avoids out of range error, because we look ahead 1 token in the next step)\n",
    "    for token in doc[:-1]:\n",
    "        \n",
    "        # find semi-colons\n",
    "        if token.text == ';':\n",
    "            \n",
    "            # set next token to sentence start (use token indexing in doc i.e. token.i)\n",
    "            doc[token.i + 1].is_sent_start = True\n",
    "            \n",
    "    # return doc once done\n",
    "    return doc\n",
    "\n",
    "# add new custom rule to nlp pipeline (before parser step)\n",
    "nlp.add_pipe(\"set_custom_boundaries\", before='parser')\n",
    "\n",
    "# check step has been added\n",
    "nlp.pipe_names"
   ]
  },
  {
   "cell_type": "markdown",
   "id": "delayed-experience",
   "metadata": {},
   "source": [
    "* Notice how now our nlp module splits our sentence on semi-colons as well as the other rules it previously applied\n",
    "* It will proceed through the above pipeline steps in order, hence why specifying our new rule's position in the pipeline is key\n",
    "* If it's before the tokenization step, we won't be able to reference token indices etc.\n",
    "* If it's later than the parsing step, the sentences will already have been split out before our rule is applied"
   ]
  },
  {
   "cell_type": "code",
   "execution_count": 14,
   "id": "billion-anderson",
   "metadata": {},
   "outputs": [
    {
     "name": "stdout",
     "output_type": "stream",
     "text": [
      "\"Management is doing the right things;\n",
      "leadership is doing the right things.\"\n",
      "-\n",
      "Peter Drucker\n"
     ]
    }
   ],
   "source": [
    "# create text\n",
    "doc = nlp(u'\"Management is doing the right things; leadership is doing the right things.\" - Peter Drucker')\n",
    "\n",
    "# iterate through and display sentences\n",
    "for sent in doc.sents:\n",
    "    print(sent)"
   ]
  },
  {
   "cell_type": "markdown",
   "id": "practical-chocolate",
   "metadata": {},
   "source": [
    "### Replacing All Rules with New Ones\n",
    "* In some cases, it may be useful to entirely replace the rules being used to split sentences in your text\n",
    "* For example, in the below text there are some quite unusual new line structures\n",
    "* It may be important to interpret these new lines (e.g. for poetry), as the splitting of sentences/rhythm etc. using these new lines may impact the meaning of the overall text\n",
    "* By default, Spacy splits sentences on full stops and new lines, but we may want it to only split on new lines and disregard full stops etc."
   ]
  },
  {
   "cell_type": "code",
   "execution_count": 15,
   "id": "thick-british",
   "metadata": {
    "scrolled": true
   },
   "outputs": [
    {
     "name": "stdout",
     "output_type": "stream",
     "text": [
      "This is a sentence.\n",
      "This is another.\n",
      "\n",
      "\n",
      "This is a \n",
      "third sentence.\n"
     ]
    }
   ],
   "source": [
    "# re-load library to undo above work\n",
    "nlp = spacy.load('en_core_web_sm')\n",
    "\n",
    "# create text\n",
    "doc = nlp(u'This is a sentence. This is another. \\n\\nThis is a \\nthird sentence.')\n",
    "\n",
    "# show sentences\n",
    "for sent in doc.sents:\n",
    "    print(sent)"
   ]
  },
  {
   "cell_type": "markdown",
   "id": "seasonal-failure",
   "metadata": {},
   "source": [
    "Notes:\n",
    "* Below we utilize Spacy's segmenter pipeline object to create our own, custom set of rules to add into the pipeline\n",
    "* Here, we define '\\n' as the separator we want to use as a sentence segmenter\n",
    "* And thus ignore any other markers (e.g. full stops)\n",
    "* Because we are using **yield** below, this is a **generator** function which sequentially produces one object at a time (much like the doc.sents generator Spacy provides by default)"
   ]
  },
  {
   "cell_type": "code",
   "execution_count": 16,
   "id": "organizational-species",
   "metadata": {},
   "outputs": [
    {
     "ename": "TypeError",
     "evalue": "Argument 'doc' has incorrect type (expected spacy.tokens.doc.Doc, got generator)",
     "output_type": "error",
     "traceback": [
      "\u001b[1;31m---------------------------------------------------------------------------\u001b[0m",
      "\u001b[1;31mTypeError\u001b[0m                                 Traceback (most recent call last)",
      "\u001b[1;32m<ipython-input-16-0a6f1eca749c>\u001b[0m in \u001b[0;36m<module>\u001b[1;34m\u001b[0m\n\u001b[0;32m     30\u001b[0m \u001b[1;33m\u001b[0m\u001b[0m\n\u001b[0;32m     31\u001b[0m \u001b[1;31m# create text\u001b[0m\u001b[1;33m\u001b[0m\u001b[1;33m\u001b[0m\u001b[1;33m\u001b[0m\u001b[0m\n\u001b[1;32m---> 32\u001b[1;33m \u001b[0mdoc\u001b[0m \u001b[1;33m=\u001b[0m \u001b[0mnlp\u001b[0m\u001b[1;33m(\u001b[0m\u001b[1;34mu'This is a sentence. This is another. \\n\\nThis is a \\nthird sentence.'\u001b[0m\u001b[1;33m)\u001b[0m\u001b[1;33m\u001b[0m\u001b[1;33m\u001b[0m\u001b[0m\n\u001b[0m\u001b[0;32m     33\u001b[0m \u001b[1;33m\u001b[0m\u001b[0m\n\u001b[0;32m     34\u001b[0m \u001b[1;31m# show sentences\u001b[0m\u001b[1;33m\u001b[0m\u001b[1;33m\u001b[0m\u001b[1;33m\u001b[0m\u001b[0m\n",
      "\u001b[1;32mC:\\ProgramData\\Anaconda3\\lib\\site-packages\\spacy\\language.py\u001b[0m in \u001b[0;36m__call__\u001b[1;34m(self, text, disable, component_cfg)\u001b[0m\n\u001b[0;32m    992\u001b[0m                 \u001b[1;32mraise\u001b[0m \u001b[0mValueError\u001b[0m\u001b[1;33m(\u001b[0m\u001b[0mErrors\u001b[0m\u001b[1;33m.\u001b[0m\u001b[0mE109\u001b[0m\u001b[1;33m.\u001b[0m\u001b[0mformat\u001b[0m\u001b[1;33m(\u001b[0m\u001b[0mname\u001b[0m\u001b[1;33m=\u001b[0m\u001b[0mname\u001b[0m\u001b[1;33m)\u001b[0m\u001b[1;33m)\u001b[0m \u001b[1;32mfrom\u001b[0m \u001b[0me\u001b[0m\u001b[1;33m\u001b[0m\u001b[1;33m\u001b[0m\u001b[0m\n\u001b[0;32m    993\u001b[0m             \u001b[1;32mexcept\u001b[0m \u001b[0mException\u001b[0m \u001b[1;32mas\u001b[0m \u001b[0me\u001b[0m\u001b[1;33m:\u001b[0m\u001b[1;33m\u001b[0m\u001b[1;33m\u001b[0m\u001b[0m\n\u001b[1;32m--> 994\u001b[1;33m                 \u001b[0merror_handler\u001b[0m\u001b[1;33m(\u001b[0m\u001b[0mname\u001b[0m\u001b[1;33m,\u001b[0m \u001b[0mproc\u001b[0m\u001b[1;33m,\u001b[0m \u001b[1;33m[\u001b[0m\u001b[0mdoc\u001b[0m\u001b[1;33m]\u001b[0m\u001b[1;33m,\u001b[0m \u001b[0me\u001b[0m\u001b[1;33m)\u001b[0m\u001b[1;33m\u001b[0m\u001b[1;33m\u001b[0m\u001b[0m\n\u001b[0m\u001b[0;32m    995\u001b[0m             \u001b[1;32mif\u001b[0m \u001b[0mdoc\u001b[0m \u001b[1;32mis\u001b[0m \u001b[1;32mNone\u001b[0m\u001b[1;33m:\u001b[0m\u001b[1;33m\u001b[0m\u001b[1;33m\u001b[0m\u001b[0m\n\u001b[0;32m    996\u001b[0m                 \u001b[1;32mraise\u001b[0m \u001b[0mValueError\u001b[0m\u001b[1;33m(\u001b[0m\u001b[0mErrors\u001b[0m\u001b[1;33m.\u001b[0m\u001b[0mE005\u001b[0m\u001b[1;33m.\u001b[0m\u001b[0mformat\u001b[0m\u001b[1;33m(\u001b[0m\u001b[0mname\u001b[0m\u001b[1;33m=\u001b[0m\u001b[0mname\u001b[0m\u001b[1;33m)\u001b[0m\u001b[1;33m)\u001b[0m\u001b[1;33m\u001b[0m\u001b[1;33m\u001b[0m\u001b[0m\n",
      "\u001b[1;32mC:\\ProgramData\\Anaconda3\\lib\\site-packages\\spacy\\util.py\u001b[0m in \u001b[0;36mraise_error\u001b[1;34m(proc_name, proc, docs, e)\u001b[0m\n\u001b[0;32m   1493\u001b[0m \u001b[1;33m\u001b[0m\u001b[0m\n\u001b[0;32m   1494\u001b[0m \u001b[1;32mdef\u001b[0m \u001b[0mraise_error\u001b[0m\u001b[1;33m(\u001b[0m\u001b[0mproc_name\u001b[0m\u001b[1;33m,\u001b[0m \u001b[0mproc\u001b[0m\u001b[1;33m,\u001b[0m \u001b[0mdocs\u001b[0m\u001b[1;33m,\u001b[0m \u001b[0me\u001b[0m\u001b[1;33m)\u001b[0m\u001b[1;33m:\u001b[0m\u001b[1;33m\u001b[0m\u001b[1;33m\u001b[0m\u001b[0m\n\u001b[1;32m-> 1495\u001b[1;33m     \u001b[1;32mraise\u001b[0m \u001b[0me\u001b[0m\u001b[1;33m\u001b[0m\u001b[1;33m\u001b[0m\u001b[0m\n\u001b[0m\u001b[0;32m   1496\u001b[0m \u001b[1;33m\u001b[0m\u001b[0m\n\u001b[0;32m   1497\u001b[0m \u001b[1;33m\u001b[0m\u001b[0m\n",
      "\u001b[1;32mC:\\ProgramData\\Anaconda3\\lib\\site-packages\\spacy\\language.py\u001b[0m in \u001b[0;36m__call__\u001b[1;34m(self, text, disable, component_cfg)\u001b[0m\n\u001b[0;32m    987\u001b[0m                 \u001b[0merror_handler\u001b[0m \u001b[1;33m=\u001b[0m \u001b[0mproc\u001b[0m\u001b[1;33m.\u001b[0m\u001b[0mget_error_handler\u001b[0m\u001b[1;33m(\u001b[0m\u001b[1;33m)\u001b[0m\u001b[1;33m\u001b[0m\u001b[1;33m\u001b[0m\u001b[0m\n\u001b[0;32m    988\u001b[0m             \u001b[1;32mtry\u001b[0m\u001b[1;33m:\u001b[0m\u001b[1;33m\u001b[0m\u001b[1;33m\u001b[0m\u001b[0m\n\u001b[1;32m--> 989\u001b[1;33m                 \u001b[0mdoc\u001b[0m \u001b[1;33m=\u001b[0m \u001b[0mproc\u001b[0m\u001b[1;33m(\u001b[0m\u001b[0mdoc\u001b[0m\u001b[1;33m,\u001b[0m \u001b[1;33m**\u001b[0m\u001b[0mcomponent_cfg\u001b[0m\u001b[1;33m.\u001b[0m\u001b[0mget\u001b[0m\u001b[1;33m(\u001b[0m\u001b[0mname\u001b[0m\u001b[1;33m,\u001b[0m \u001b[1;33m{\u001b[0m\u001b[1;33m}\u001b[0m\u001b[1;33m)\u001b[0m\u001b[1;33m)\u001b[0m\u001b[1;33m\u001b[0m\u001b[1;33m\u001b[0m\u001b[0m\n\u001b[0m\u001b[0;32m    990\u001b[0m             \u001b[1;32mexcept\u001b[0m \u001b[0mKeyError\u001b[0m \u001b[1;32mas\u001b[0m \u001b[0me\u001b[0m\u001b[1;33m:\u001b[0m\u001b[1;33m\u001b[0m\u001b[1;33m\u001b[0m\u001b[0m\n\u001b[0;32m    991\u001b[0m                 \u001b[1;31m# This typically happens if a component is not initialized\u001b[0m\u001b[1;33m\u001b[0m\u001b[1;33m\u001b[0m\u001b[1;33m\u001b[0m\u001b[0m\n",
      "\u001b[1;31mTypeError\u001b[0m: Argument 'doc' has incorrect type (expected spacy.tokens.doc.Doc, got generator)"
     ]
    }
   ],
   "source": [
    "# add my method to Spacy's language (otherwise next step fails)\n",
    "@Language.component(\"split_on_newlines\")\n",
    "\n",
    "# function to define sentence splitting rules\n",
    "def split_on_newlines(doc):\n",
    "    # set starting token index\n",
    "    start = 0\n",
    "    \n",
    "    # set flag for encountering newline\n",
    "    seen_newline = False\n",
    "    \n",
    "    # iterate through tokens\n",
    "    for word in doc:\n",
    "        # if new line\n",
    "        if seen_newline:\n",
    "            yield doc[start:word.i] # yield the sentence from start token to current token          \n",
    "            start = word.i # set next starting position to current token        \n",
    "            seen_newline = False # reset new line flag for following line\n",
    "            \n",
    "        # if we encounter a new line character\n",
    "        elif word.text.starts_with('\\n'):\n",
    "            # set new line flag to True\n",
    "            seen_newline = True\n",
    "    \n",
    "    # once all tokens processed, yield rest of doc\n",
    "    yield doc[start:]\n",
    "\n",
    "# add new custom rule to nlp pipeline (before parser step)\n",
    "nlp.add_pipe(\"split_on_newlines\", before='parser')\n",
    "\n",
    "# create text\n",
    "doc = nlp(u'This is a sentence. This is another. \\n\\nThis is a \\nthird sentence.')\n",
    "\n",
    "# show sentences\n",
    "for sent in doc.sents:\n",
    "    print(sent)"
   ]
  },
  {
   "cell_type": "code",
   "execution_count": null,
   "id": "alien-rabbit",
   "metadata": {},
   "outputs": [],
   "source": []
  },
  {
   "cell_type": "code",
   "execution_count": null,
   "id": "continent-bernard",
   "metadata": {},
   "outputs": [],
   "source": []
  },
  {
   "cell_type": "code",
   "execution_count": null,
   "id": "binary-quantum",
   "metadata": {},
   "outputs": [],
   "source": []
  },
  {
   "cell_type": "code",
   "execution_count": null,
   "id": "controversial-trauma",
   "metadata": {},
   "outputs": [],
   "source": []
  },
  {
   "cell_type": "code",
   "execution_count": null,
   "id": "mineral-indianapolis",
   "metadata": {},
   "outputs": [],
   "source": []
  }
 ],
 "metadata": {
  "kernelspec": {
   "display_name": "Python 3",
   "language": "python",
   "name": "python3"
  },
  "language_info": {
   "codemirror_mode": {
    "name": "ipython",
    "version": 3
   },
   "file_extension": ".py",
   "mimetype": "text/x-python",
   "name": "python",
   "nbconvert_exporter": "python",
   "pygments_lexer": "ipython3",
   "version": "3.7.7"
  }
 },
 "nbformat": 4,
 "nbformat_minor": 5
}
