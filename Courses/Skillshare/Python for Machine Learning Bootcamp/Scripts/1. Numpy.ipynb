{
 "cells": [
  {
   "cell_type": "markdown",
   "metadata": {},
   "source": [
    "# Python for Machine Learning Bootcamp\n",
    "## 1. Numpy\n",
    "### Lists vs. Arrays\n",
    "* Lists are standard Python objects (they come out of the box), whereas arrays are numpy specific objects.\n",
    "* Lists size can change (i.e. append/delete) whereas arrays cannot, their size/memory allocation is fixed."
   ]
  },
  {
   "cell_type": "code",
   "execution_count": 4,
   "metadata": {},
   "outputs": [
    {
     "name": "stdout",
     "output_type": "stream",
     "text": [
      "[0, 1, 2, 3, 4]\n",
      "[0 1 2 3 4]\n"
     ]
    }
   ],
   "source": [
    "# load module\n",
    "import numpy as np\n",
    "\n",
    "# enable intellisense\n",
    "%config IPCompleter.greedy=True\n",
    "\n",
    "# basic list\n",
    "list1 = [0,1,2,3,4]\n",
    "\n",
    "# create array\n",
    "arr1d = np.array(list1)\n",
    "\n",
    "# print array\n",
    "print(list1)\n",
    "print(arr1d)"
   ]
  },
  {
   "cell_type": "markdown",
   "metadata": {},
   "source": [
    "* Lists cannot have things added to them, whereas arrays can be incremented via sum operations."
   ]
  },
  {
   "cell_type": "code",
   "execution_count": 5,
   "metadata": {},
   "outputs": [
    {
     "ename": "TypeError",
     "evalue": "can only concatenate list (not \"int\") to list",
     "output_type": "error",
     "traceback": [
      "\u001b[1;31m---------------------------------------------------------------------------\u001b[0m",
      "\u001b[1;31mTypeError\u001b[0m                                 Traceback (most recent call last)",
      "\u001b[1;32m<ipython-input-5-a66ed14c8eee>\u001b[0m in \u001b[0;36m<module>\u001b[1;34m\u001b[0m\n\u001b[1;32m----> 1\u001b[1;33m \u001b[0mlist1\u001b[0m \u001b[1;33m+\u001b[0m \u001b[1;36m2\u001b[0m\u001b[1;33m\u001b[0m\u001b[1;33m\u001b[0m\u001b[0m\n\u001b[0m",
      "\u001b[1;31mTypeError\u001b[0m: can only concatenate list (not \"int\") to list"
     ]
    }
   ],
   "source": [
    "# attempt to increment list, this will not work\n",
    "list1 + 2"
   ]
  },
  {
   "cell_type": "code",
   "execution_count": 6,
   "metadata": {},
   "outputs": [
    {
     "data": {
      "text/plain": [
       "array([2, 3, 4, 5, 6])"
      ]
     },
     "execution_count": 6,
     "metadata": {},
     "output_type": "execute_result"
    }
   ],
   "source": [
    "# increment array, this increments all array items by value specified\n",
    "arr1d + 2"
   ]
  },
  {
   "cell_type": "markdown",
   "metadata": {},
   "source": [
    "* There are many basic actions you can perform with arrays."
   ]
  },
  {
   "cell_type": "code",
   "execution_count": 7,
   "metadata": {},
   "outputs": [
    {
     "data": {
      "text/plain": [
       "array([[1, 1, 1],\n",
       "       [2, 2, 2],\n",
       "       [3, 3, 3]])"
      ]
     },
     "execution_count": 7,
     "metadata": {},
     "output_type": "execute_result"
    }
   ],
   "source": [
    "# create list of lists\n",
    "list2 = [[1,1,1], [2,2,2], [3,3,3]]\n",
    "\n",
    "# convert to array\n",
    "arr2d = np.array(list2)\n",
    "\n",
    "# print array\n",
    "arr2d"
   ]
  },
  {
   "cell_type": "code",
   "execution_count": 8,
   "metadata": {},
   "outputs": [
    {
     "data": {
      "text/plain": [
       "numpy.ndarray"
      ]
     },
     "execution_count": 8,
     "metadata": {},
     "output_type": "execute_result"
    }
   ],
   "source": [
    "# check object type\n",
    "type(arr2d)"
   ]
  },
  {
   "cell_type": "code",
   "execution_count": 9,
   "metadata": {},
   "outputs": [
    {
     "data": {
      "text/plain": [
       "dtype('int32')"
      ]
     },
     "execution_count": 9,
     "metadata": {},
     "output_type": "execute_result"
    }
   ],
   "source": [
    "# check data type within array\n",
    "arr2d.dtype"
   ]
  },
  {
   "cell_type": "markdown",
   "metadata": {},
   "source": [
    "__NOTE:__\n",
    "* If you press shift + tab within the parentheses of a method (e.g. within the below \"array(...)\" method, then it will show you the different options for that method.\n",
    "* Shift + double tab will show you the full, expanded text relating to each method parameter."
   ]
  },
  {
   "cell_type": "code",
   "execution_count": 12,
   "metadata": {},
   "outputs": [
    {
     "name": "stdout",
     "output_type": "stream",
     "text": [
      "[[1. 1. 1.]\n",
      " [2. 2. 2.]\n",
      " [3. 3. 3.]]\n"
     ]
    }
   ],
   "source": [
    "# convert type of array \n",
    "arr2d = np.array(list2, dtype = 'float')\n",
    "\n",
    "# print array\n",
    "print(arr2d)"
   ]
  },
  {
   "cell_type": "code",
   "execution_count": 11,
   "metadata": {},
   "outputs": [
    {
     "data": {
      "text/plain": [
       "dtype('float64')"
      ]
     },
     "execution_count": 11,
     "metadata": {},
     "output_type": "execute_result"
    }
   ],
   "source": [
    "# check data type within array\n",
    "arr2d.dtype"
   ]
  },
  {
   "cell_type": "code",
   "execution_count": 20,
   "metadata": {},
   "outputs": [],
   "source": [
    "# convert type of array\n",
    "arr2d = arr2d.astype('str')\n",
    "arr2d = arr2d.astype('int')"
   ]
  },
  {
   "cell_type": "markdown",
   "metadata": {},
   "source": [
    "* Lists can contain multiple data types, whereas arrays must contain the same data type only"
   ]
  },
  {
   "cell_type": "code",
   "execution_count": 16,
   "metadata": {},
   "outputs": [
    {
     "name": "stdout",
     "output_type": "stream",
     "text": [
      "[0, 1, 2, 3, 4, '6']\n"
     ]
    }
   ],
   "source": [
    "# append string to list of ints\n",
    "list1.append('6')\n",
    "\n",
    "# show list\n",
    "print(list1)"
   ]
  },
  {
   "cell_type": "code",
   "execution_count": 21,
   "metadata": {},
   "outputs": [
    {
     "name": "stdout",
     "output_type": "stream",
     "text": [
      "[[1, 1, 1], [2, 2, 2], [3, 3, 3]]\n"
     ]
    }
   ],
   "source": [
    "# convert array into a list\n",
    "np2list = arr2d.tolist()\n",
    "\n",
    "# show lsit\n",
    "print(np2list)"
   ]
  },
  {
   "cell_type": "markdown",
   "metadata": {},
   "source": [
    "* You can convert arrays into many different object types"
   ]
  },
  {
   "cell_type": "code",
   "execution_count": 22,
   "metadata": {},
   "outputs": [
    {
     "data": {
      "text/plain": [
       "b'\\x01\\x00\\x00\\x00\\x01\\x00\\x00\\x00\\x01\\x00\\x00\\x00\\x02\\x00\\x00\\x00\\x02\\x00\\x00\\x00\\x02\\x00\\x00\\x00\\x03\\x00\\x00\\x00\\x03\\x00\\x00\\x00\\x03\\x00\\x00\\x00'"
      ]
     },
     "execution_count": 22,
     "metadata": {},
     "output_type": "execute_result"
    }
   ],
   "source": [
    "# convert array into string\n",
    "arr2d.tostring()"
   ]
  },
  {
   "cell_type": "code",
   "execution_count": 23,
   "metadata": {},
   "outputs": [
    {
     "data": {
      "text/plain": [
       "b'\\x01\\x00\\x00\\x00\\x01\\x00\\x00\\x00\\x01\\x00\\x00\\x00\\x02\\x00\\x00\\x00\\x02\\x00\\x00\\x00\\x02\\x00\\x00\\x00\\x03\\x00\\x00\\x00\\x03\\x00\\x00\\x00\\x03\\x00\\x00\\x00'"
      ]
     },
     "execution_count": 23,
     "metadata": {},
     "output_type": "execute_result"
    }
   ],
   "source": [
    "# convert array into bytes\n",
    "arr2d.tobytes()"
   ]
  },
  {
   "cell_type": "markdown",
   "metadata": {},
   "source": [
    "### Properties of Arrays"
   ]
  },
  {
   "cell_type": "code",
   "execution_count": 26,
   "metadata": {},
   "outputs": [
    {
     "name": "stdout",
     "output_type": "stream",
     "text": [
      "[[1, 1, 1], [2, 2, 2], [3, 3, 3]]\n",
      "[[1. 1. 1.]\n",
      " [2. 2. 2.]\n",
      " [3. 3. 3.]]\n"
     ]
    }
   ],
   "source": [
    "# show list 2\n",
    "print(list2)\n",
    "\n",
    "# convert array into float\n",
    "arr2d = arr2d.astype('float')\n",
    "\n",
    "# show arr2d\n",
    "print(arr2d)"
   ]
  },
  {
   "cell_type": "markdown",
   "metadata": {},
   "source": [
    "* Shape indicates rows and columns of object (i.e. dimensions)"
   ]
  },
  {
   "cell_type": "code",
   "execution_count": 28,
   "metadata": {},
   "outputs": [
    {
     "name": "stdout",
     "output_type": "stream",
     "text": [
      "Shape:  (3, 3)\n"
     ]
    }
   ],
   "source": [
    "# shape of array\n",
    "print('Shape: ', arr2d.shape)"
   ]
  },
  {
   "cell_type": "markdown",
   "metadata": {},
   "source": [
    "* Size indicates the count of items within the array (i.e. 3 x 3 here)"
   ]
  },
  {
   "cell_type": "code",
   "execution_count": 29,
   "metadata": {},
   "outputs": [
    {
     "name": "stdout",
     "output_type": "stream",
     "text": [
      "Size:  9\n"
     ]
    }
   ],
   "source": [
    "# size of array\n",
    "print('Size: ', arr2d.size)"
   ]
  },
  {
   "cell_type": "markdown",
   "metadata": {},
   "source": [
    "* Ndim gets the dimensions of an object, a simple array has 1 dimension, whilst the standard grid has 2 dimensions."
   ]
  },
  {
   "cell_type": "code",
   "execution_count": 32,
   "metadata": {},
   "outputs": [
    {
     "name": "stdout",
     "output_type": "stream",
     "text": [
      "2 1\n"
     ]
    }
   ],
   "source": [
    "# get dimensions of arrays\n",
    "print(arr2d.ndim, arr1d.ndim)"
   ]
  },
  {
   "cell_type": "markdown",
   "metadata": {},
   "source": [
    "* You can apply functions to arrays to modify their contents.\n",
    "* You can extract values from a 1d array using standard indexing."
   ]
  },
  {
   "cell_type": "code",
   "execution_count": 34,
   "metadata": {},
   "outputs": [
    {
     "name": "stdout",
     "output_type": "stream",
     "text": [
      "[  0   1  16  81 256]\n"
     ]
    },
    {
     "data": {
      "text/plain": [
       "1"
      ]
     },
     "execution_count": 34,
     "metadata": {},
     "output_type": "execute_result"
    }
   ],
   "source": [
    "# square values within array\n",
    "arr1d = arr1d * arr1d\n",
    "print(arr1d)\n",
    "\n",
    "# extract specific values\n",
    "arr1d[1]"
   ]
  },
  {
   "cell_type": "markdown",
   "metadata": {},
   "source": [
    "* For 2 dimensional arrays, you must specify the row and column combination to extract specific values."
   ]
  },
  {
   "cell_type": "code",
   "execution_count": 37,
   "metadata": {
    "scrolled": true
   },
   "outputs": [
    {
     "name": "stdout",
     "output_type": "stream",
     "text": [
      "[[1. 1. 1.]\n",
      " [2. 2. 2.]\n",
      " [3. 3. 3.]]\n"
     ]
    },
    {
     "data": {
      "text/plain": [
       "2.0"
      ]
     },
     "execution_count": 37,
     "metadata": {},
     "output_type": "execute_result"
    }
   ],
   "source": [
    "# print array\n",
    "print(arr2d)\n",
    "\n",
    "# extract row 1, column 0\n",
    "arr2d[1][0] # [R][C]"
   ]
  },
  {
   "cell_type": "markdown",
   "metadata": {},
   "source": [
    "* Boolean indexing and logic can be used on arrays."
   ]
  },
  {
   "cell_type": "code",
   "execution_count": 40,
   "metadata": {},
   "outputs": [
    {
     "name": "stdout",
     "output_type": "stream",
     "text": [
      "[[ True  True  True]\n",
      " [ True  True  True]\n",
      " [False False False]]\n"
     ]
    }
   ],
   "source": [
    "# check logic on array\n",
    "boolarr = arr2d<3\n",
    "\n",
    "# show results (True for <3, False for >=3)\n",
    "print(boolarr)"
   ]
  },
  {
   "cell_type": "markdown",
   "metadata": {},
   "source": [
    "* Basic functions can be performed on arrays.\n",
    "* Before the comma refers to rows, after the comma refers to columns.\n",
    "* Below we use square brackets to index the array, the '::' means we are selecting all rows/columns because we're not specifying start/stop\n",
    "* And the '-1' means the step is backwards and going through 1 item at a time\n",
    "* This is standard __[start, stop, step]__ indexing of an array/list"
   ]
  },
  {
   "cell_type": "code",
   "execution_count": 42,
   "metadata": {
    "scrolled": true
   },
   "outputs": [
    {
     "name": "stdout",
     "output_type": "stream",
     "text": [
      "[[3. 3. 3.]\n",
      " [2. 2. 2.]\n",
      " [1. 1. 1.]]\n"
     ]
    }
   ],
   "source": [
    "# reverse array order\n",
    "arr2d = arr2d[::-1, ::-1] # before comma changes row order, after comma changes column order\n",
    "print(arr2d)"
   ]
  },
  {
   "cell_type": "markdown",
   "metadata": {},
   "source": [
    "### Infinite and Nan\n",
    "* Cannot do any mathematical or operational functions on these types (e.g. mean, sum...)"
   ]
  },
  {
   "cell_type": "code",
   "execution_count": 43,
   "metadata": {},
   "outputs": [
    {
     "data": {
      "text/plain": [
       "nan"
      ]
     },
     "execution_count": 43,
     "metadata": {},
     "output_type": "execute_result"
    }
   ],
   "source": [
    "# not a number (e.g. output of incorrect function)\n",
    "np.nan"
   ]
  },
  {
   "cell_type": "code",
   "execution_count": 44,
   "metadata": {},
   "outputs": [
    {
     "data": {
      "text/plain": [
       "inf"
      ]
     },
     "execution_count": 44,
     "metadata": {},
     "output_type": "execute_result"
    }
   ],
   "source": [
    "# infinite number (e.g. divide by 0)\n",
    "np.inf"
   ]
  },
  {
   "cell_type": "code",
   "execution_count": 45,
   "metadata": {},
   "outputs": [
    {
     "name": "stdout",
     "output_type": "stream",
     "text": [
      "[[nan inf  3.]\n",
      " [ 2.  2.  2.]\n",
      " [ 1.  1.  1.]]\n"
     ]
    }
   ],
   "source": [
    "# insert nan and inf into array\n",
    "arr2d[0][0] = np.nan # assign value to position\n",
    "arr2d[0][1] = np.inf\n",
    "print(arr2d)"
   ]
  },
  {
   "cell_type": "code",
   "execution_count": 48,
   "metadata": {},
   "outputs": [
    {
     "name": "stdout",
     "output_type": "stream",
     "text": [
      "[[ True False False]\n",
      " [False False False]\n",
      " [False False False]]\n",
      "[[False  True False]\n",
      " [False False False]\n",
      " [False False False]]\n"
     ]
    }
   ],
   "source": [
    "# check which items are nan\n",
    "print(np.isnan(arr2d))\n",
    "\n",
    "# check which items are inf\n",
    "print(np.isinf(arr2d))"
   ]
  },
  {
   "cell_type": "code",
   "execution_count": 50,
   "metadata": {},
   "outputs": [
    {
     "data": {
      "text/plain": [
       "array([[ True,  True, False],\n",
       "       [False, False, False],\n",
       "       [False, False, False]])"
      ]
     },
     "execution_count": 50,
     "metadata": {},
     "output_type": "execute_result"
    }
   ],
   "source": [
    "# combine both to find any missing values\n",
    "missing_flag = np.isnan(arr2d) | np.isinf(arr2d)\n",
    "missing_flag"
   ]
  },
  {
   "cell_type": "code",
   "execution_count": 53,
   "metadata": {},
   "outputs": [
    {
     "data": {
      "text/plain": [
       "array([[0., 0., 3.],\n",
       "       [2., 2., 2.],\n",
       "       [1., 1., 1.]])"
      ]
     },
     "execution_count": 53,
     "metadata": {},
     "output_type": "execute_result"
    }
   ],
   "source": [
    "# replace inf and nan with 0\n",
    "arr2d[missing_flag] = 0\n",
    "arr2d"
   ]
  },
  {
   "cell_type": "markdown",
   "metadata": {},
   "source": [
    "### Numpy Statistical Operations\n",
    "* Lots of standard operations such as mean, max, min, var, std etc."
   ]
  },
  {
   "cell_type": "code",
   "execution_count": 54,
   "metadata": {},
   "outputs": [
    {
     "data": {
      "text/plain": [
       "1.3333333333333333"
      ]
     },
     "execution_count": 54,
     "metadata": {},
     "output_type": "execute_result"
    }
   ],
   "source": [
    "arr2d.mean()"
   ]
  },
  {
   "cell_type": "code",
   "execution_count": 55,
   "metadata": {},
   "outputs": [
    {
     "data": {
      "text/plain": [
       "3.0"
      ]
     },
     "execution_count": 55,
     "metadata": {},
     "output_type": "execute_result"
    }
   ],
   "source": [
    "arr2d.max()"
   ]
  },
  {
   "cell_type": "code",
   "execution_count": 56,
   "metadata": {},
   "outputs": [
    {
     "data": {
      "text/plain": [
       "0.0"
      ]
     },
     "execution_count": 56,
     "metadata": {},
     "output_type": "execute_result"
    }
   ],
   "source": [
    "arr2d.min()"
   ]
  },
  {
   "cell_type": "code",
   "execution_count": 57,
   "metadata": {},
   "outputs": [
    {
     "data": {
      "text/plain": [
       "0.9428090415820634"
      ]
     },
     "execution_count": 57,
     "metadata": {},
     "output_type": "execute_result"
    }
   ],
   "source": [
    "arr2d.std()"
   ]
  },
  {
   "cell_type": "code",
   "execution_count": 58,
   "metadata": {},
   "outputs": [
    {
     "data": {
      "text/plain": [
       "0.8888888888888888"
      ]
     },
     "execution_count": 58,
     "metadata": {},
     "output_type": "execute_result"
    }
   ],
   "source": [
    "arr2d.var()"
   ]
  },
  {
   "cell_type": "markdown",
   "metadata": {},
   "source": [
    "* Press tab after the '.' and it will show you all of the other operations you can perform on the array."
   ]
  },
  {
   "cell_type": "code",
   "execution_count": 59,
   "metadata": {},
   "outputs": [
    {
     "data": {
      "text/plain": [
       "array([[0., 0., 3.],\n",
       "       [2., 2., 2.],\n",
       "       [1., 1., 1.]])"
      ]
     },
     "execution_count": 59,
     "metadata": {},
     "output_type": "execute_result"
    }
   ],
   "source": [
    "arr2d.squeeze() # press shift + tab in brackets for explanation"
   ]
  },
  {
   "cell_type": "code",
   "execution_count": 60,
   "metadata": {},
   "outputs": [
    {
     "data": {
      "text/plain": [
       "array([ 0.,  0.,  3.,  5.,  7.,  9., 10., 11., 12.])"
      ]
     },
     "execution_count": 60,
     "metadata": {},
     "output_type": "execute_result"
    }
   ],
   "source": [
    "arr2d.cumsum() # cumulative sum of each value in array"
   ]
  },
  {
   "cell_type": "code",
   "execution_count": 63,
   "metadata": {
    "scrolled": true
   },
   "outputs": [
    {
     "data": {
      "text/plain": [
       "array([[0., 0.],\n",
       "       [2., 2.]])"
      ]
     },
     "execution_count": 63,
     "metadata": {},
     "output_type": "execute_result"
    }
   ],
   "source": [
    "# take first 2 rows and columns, goes from value before : up to (but not incl. value after :)\n",
    "arr = arr2d[:2,:2] # [R][C]\n",
    "arr"
   ]
  },
  {
   "cell_type": "markdown",
   "metadata": {},
   "source": [
    "* You can reshape a numpy array into any format that fits.\n",
    "* For a 3x3 grid the below options are the only options, using eg. reshape(2,4) wouldn't work because there are 9 values, not 8."
   ]
  },
  {
   "cell_type": "code",
   "execution_count": 66,
   "metadata": {},
   "outputs": [
    {
     "data": {
      "text/plain": [
       "array([[0., 0., 3.],\n",
       "       [2., 2., 2.],\n",
       "       [1., 1., 1.]])"
      ]
     },
     "execution_count": 66,
     "metadata": {},
     "output_type": "execute_result"
    }
   ],
   "source": [
    "arr2d.reshape(1,9)\n",
    "arr2d.reshape(9,1)\n",
    "arr2d.reshape(3,3)"
   ]
  },
  {
   "cell_type": "markdown",
   "metadata": {},
   "source": [
    "* You can also flatten arrays into 1d arrays (this is equivalent to the '.reshape(1,9)' from above."
   ]
  },
  {
   "cell_type": "code",
   "execution_count": 75,
   "metadata": {},
   "outputs": [
    {
     "data": {
      "text/plain": [
       "array([0., 0., 3., 2., 2., 2., 1., 1., 1.])"
      ]
     },
     "execution_count": 75,
     "metadata": {},
     "output_type": "execute_result"
    }
   ],
   "source": [
    "a = arr2d.flatten()\n",
    "a # this is a fresh copy of the original arr2d, changes to a won't affect arr2d"
   ]
  },
  {
   "cell_type": "markdown",
   "metadata": {},
   "source": [
    "* Ravel is more memory efficient than flatten. Flatten creates a copy of the original array, thus not affecting the parent. Whereas ravel changes the parent rather than creating a copy (this is called a reference)."
   ]
  },
  {
   "cell_type": "code",
   "execution_count": 76,
   "metadata": {},
   "outputs": [
    {
     "data": {
      "text/plain": [
       "array([0., 0., 3., 2., 2., 2., 1., 1., 1.])"
      ]
     },
     "execution_count": 76,
     "metadata": {},
     "output_type": "execute_result"
    }
   ],
   "source": [
    "b = arr2d.ravel()\n",
    "b # this is a reference to the original arr2d, changes to b affect arr2d"
   ]
  },
  {
   "cell_type": "markdown",
   "metadata": {},
   "source": [
    "* Supposedly in the below code, changes to a won't affect arr2d but changes to b will (however this doesn't appear to be working!)."
   ]
  },
  {
   "cell_type": "code",
   "execution_count": 79,
   "metadata": {},
   "outputs": [
    {
     "name": "stdout",
     "output_type": "stream",
     "text": [
      "[[0. 0. 3.]\n",
      " [2. 2. 2.]\n",
      " [1. 1. 1.]]\n"
     ]
    },
    {
     "data": {
      "text/plain": [
       "array([[0., 0., 3.],\n",
       "       [2., 2., 2.],\n",
       "       [1., 1., 1.]])"
      ]
     },
     "execution_count": 79,
     "metadata": {},
     "output_type": "execute_result"
    }
   ],
   "source": [
    "a[0] = -1\n",
    "print(arr2d)\n",
    "\n",
    "b[0] = -1\n",
    "arr2d"
   ]
  },
  {
   "cell_type": "markdown",
   "metadata": {},
   "source": [
    "### Sequences\n",
    "* Generate sequences of numbers with various parameters.\n",
    "* Parameters include type (object, int, float etc.), start/stop/step)."
   ]
  },
  {
   "cell_type": "code",
   "execution_count": 83,
   "metadata": {},
   "outputs": [
    {
     "name": "stdout",
     "output_type": "stream",
     "text": [
      "[1 3 5 7]\n"
     ]
    }
   ],
   "source": [
    "# create range from 1 to 7 in steps of 2 (does not include end of range specified)\n",
    "a = np.arange(1, 8, 2, dtype = 'object') # specify type here, object means string\n",
    "print(a)"
   ]
  },
  {
   "cell_type": "markdown",
   "metadata": {},
   "source": [
    "* Linspace is similar but generates a set amount of numbers between start and stop in a linearly spaced (i.e. eventy spaced) way."
   ]
  },
  {
   "cell_type": "code",
   "execution_count": 88,
   "metadata": {},
   "outputs": [
    {
     "data": {
      "text/plain": [
       "array([ 1.        , 17.33333333, 33.66666667, 50.        ])"
      ]
     },
     "execution_count": 88,
     "metadata": {},
     "output_type": "execute_result"
    }
   ],
   "source": [
    "# generate 4 nunbers between 1 and 50, evenly spaced\n",
    "np.linspace(1, 50, 4)"
   ]
  },
  {
   "cell_type": "code",
   "execution_count": 89,
   "metadata": {},
   "outputs": [
    {
     "data": {
      "text/plain": [
       "array([1.00000000e+01, 2.78255940e+06, 7.74263683e+11, 2.15443469e+17,\n",
       "       5.99484250e+22, 1.66810054e+28, 4.64158883e+33, 1.29154967e+39,\n",
       "       3.59381366e+44, 1.00000000e+50])"
      ]
     },
     "execution_count": 89,
     "metadata": {},
     "output_type": "execute_result"
    }
   ],
   "source": [
    "# generate numbers between 1 and 50 in a logarithmic scale, base 10\n",
    "np.logspace(1, 50, 10)"
   ]
  },
  {
   "cell_type": "code",
   "execution_count": 92,
   "metadata": {},
   "outputs": [
    {
     "data": {
      "text/plain": [
       "array([[0., 0.],\n",
       "       [0., 0.]])"
      ]
     },
     "execution_count": 92,
     "metadata": {},
     "output_type": "execute_result"
    }
   ],
   "source": [
    "# generate an array of specific values\n",
    "np.zeros([2,2])"
   ]
  },
  {
   "cell_type": "code",
   "execution_count": 93,
   "metadata": {},
   "outputs": [
    {
     "data": {
      "text/plain": [
       "array([[1., 1.],\n",
       "       [1., 1.]])"
      ]
     },
     "execution_count": 93,
     "metadata": {},
     "output_type": "execute_result"
    }
   ],
   "source": [
    "# generate an array of specific values\n",
    "np.ones([2,2])"
   ]
  },
  {
   "cell_type": "markdown",
   "metadata": {},
   "source": [
    "* You can create large arrays using sub-sections.\n",
    "* Tile appends new versions after each other, retaining original order.\n",
    "* Repeat multiplies each item next to itself."
   ]
  },
  {
   "cell_type": "code",
   "execution_count": 95,
   "metadata": {},
   "outputs": [
    {
     "data": {
      "text/plain": [
       "array([1, 2, 3, 1, 2, 3, 1, 2, 3])"
      ]
     },
     "execution_count": 95,
     "metadata": {},
     "output_type": "execute_result"
    }
   ],
   "source": [
    "# create single row to be repeated\n",
    "a = [1, 2, 3]\n",
    "\n",
    "# create array from sub-section\n",
    "b = np.tile(a, 3) # repeats a 3 times\n",
    "b"
   ]
  },
  {
   "cell_type": "code",
   "execution_count": 96,
   "metadata": {},
   "outputs": [
    {
     "data": {
      "text/plain": [
       "array([1, 1, 1, 2, 2, 2, 3, 3, 3])"
      ]
     },
     "execution_count": 96,
     "metadata": {},
     "output_type": "execute_result"
    }
   ],
   "source": [
    "# repeat each item in the original item in order\n",
    "np.repeat(a, 3)"
   ]
  },
  {
   "cell_type": "markdown",
   "metadata": {},
   "source": [
    "### Random Numbers"
   ]
  },
  {
   "cell_type": "code",
   "execution_count": 102,
   "metadata": {},
   "outputs": [
    {
     "data": {
      "text/plain": [
       "array([[0.96924004, 0.42660643, 0.69763458],\n",
       "       [0.81692623, 0.11082988, 0.21879002],\n",
       "       [0.61085334, 0.47716499, 0.5105914 ]])"
      ]
     },
     "execution_count": 102,
     "metadata": {},
     "output_type": "execute_result"
    }
   ],
   "source": [
    "# create random values in 3x3 grid\n",
    "# by default this is between 0 and 1\n",
    "np.random.rand(3, 3)"
   ]
  },
  {
   "cell_type": "code",
   "execution_count": 103,
   "metadata": {},
   "outputs": [
    {
     "data": {
      "text/plain": [
       "array([[-0.59403322, -0.87331152, -0.56172087],\n",
       "       [-0.21892688, -1.04301048, -0.15963469],\n",
       "       [ 0.83537078, -0.88104998, -1.18634497]])"
      ]
     },
     "execution_count": 103,
     "metadata": {},
     "output_type": "execute_result"
    }
   ],
   "source": [
    "# create random values but normally distributed\n",
    "# by default this is between -1 and 1\n",
    "np.random.randn(3, 3)"
   ]
  },
  {
   "cell_type": "code",
   "execution_count": 106,
   "metadata": {
    "scrolled": true
   },
   "outputs": [
    {
     "data": {
      "text/plain": [
       "array([[3, 4, 5],\n",
       "       [6, 2, 6],\n",
       "       [5, 6, 1]])"
      ]
     },
     "execution_count": 106,
     "metadata": {},
     "output_type": "execute_result"
    }
   ],
   "source": [
    "# generates single random integer between 0 and 10 in 3x3 grid\n",
    "# dtype lets you specify 'l' or 'h' for low or high to skew things\n",
    "np.random.randint(0, 10, [3, 3], dtype='l')"
   ]
  },
  {
   "cell_type": "markdown",
   "metadata": {},
   "source": [
    "* Seeds ensure that the random numbers generated are the same each time.\n",
    "* The above code will produce different random numbers each time because they are unseeded.\n",
    "* Whereas the below code will always produce the same random numbers because a seed has been produced."
   ]
  },
  {
   "cell_type": "code",
   "execution_count": 109,
   "metadata": {},
   "outputs": [
    {
     "data": {
      "text/plain": [
       "array([[ 1.76405235,  0.40015721,  0.97873798],\n",
       "       [ 2.2408932 ,  1.86755799, -0.97727788],\n",
       "       [ 0.95008842, -0.15135721, -0.10321885]])"
      ]
     },
     "execution_count": 109,
     "metadata": {},
     "output_type": "execute_result"
    }
   ],
   "source": [
    "# a seed ensures that the random numbers generated are identical each time\n",
    "np.random.seed(0)\n",
    "np.random.randn(3, 3)"
   ]
  },
  {
   "cell_type": "code",
   "execution_count": 112,
   "metadata": {},
   "outputs": [
    {
     "data": {
      "text/plain": [
       "array([0., 1., 2., 3.])"
      ]
     },
     "execution_count": 112,
     "metadata": {},
     "output_type": "execute_result"
    }
   ],
   "source": [
    "# show unique values within array\n",
    "np.unique(arr2d)"
   ]
  },
  {
   "cell_type": "code",
   "execution_count": 115,
   "metadata": {},
   "outputs": [
    {
     "name": "stdout",
     "output_type": "stream",
     "text": [
      "[[0. 0. 3.]\n",
      " [2. 2. 2.]\n",
      " [1. 1. 1.]] [0. 1. 2. 3.] [2 3 3 1]\n"
     ]
    }
   ],
   "source": [
    "# show unique values followed by the count of each\n",
    "uniques, counts = np.unique(arr2d, return_counts=True)\n",
    "print(arr2d, uniques, counts)"
   ]
  },
  {
   "cell_type": "markdown",
   "metadata": {},
   "source": [
    "### Conditional Indexing\n",
    "* np.where lets you extract things based on specific criteria."
   ]
  },
  {
   "cell_type": "code",
   "execution_count": 118,
   "metadata": {},
   "outputs": [
    {
     "name": "stdout",
     "output_type": "stream",
     "text": [
      "[ 8 94  8 56  1  3  4  5  7 23 18]\n"
     ]
    }
   ],
   "source": [
    "# create array\n",
    "arr = np.array([8,94,8,56,1,3,4,5,7,23,18])\n",
    "print(arr)"
   ]
  },
  {
   "cell_type": "code",
   "execution_count": 122,
   "metadata": {},
   "outputs": [
    {
     "name": "stdout",
     "output_type": "stream",
     "text": [
      "(array([ 1,  3,  9, 10], dtype=int64),)\n",
      "[94 56 23 18]\n",
      "[94 56 23 18]\n",
      "[False  True False  True False False False False False  True  True]\n"
     ]
    }
   ],
   "source": [
    "# get values greater than 10\n",
    "index_get10 = np.where(arr>10)\n",
    "\n",
    "# show index of results\n",
    "print(index_get10) # shows index of values, rather than values themselves\n",
    "\n",
    "# show actual values\n",
    "print(arr[index_get10])\n",
    "\n",
    "# alternate method\n",
    "print(arr[arr>10])\n",
    "\n",
    "# show boolean indexing of condition\n",
    "print(arr>10)"
   ]
  },
  {
   "cell_type": "code",
   "execution_count": 123,
   "metadata": {},
   "outputs": [
    {
     "data": {
      "text/plain": [
       "array(['lt10', 'gt10', 'lt10', 'gt10', 'lt10', 'lt10', 'lt10', 'lt10',\n",
       "       'lt10', 'gt10', 'gt10'], dtype='<U4')"
      ]
     },
     "execution_count": 123,
     "metadata": {},
     "output_type": "execute_result"
    }
   ],
   "source": [
    "# replace values with \"if condition then x, else y\" logic\n",
    "np.where(arr>10, 'gt10', 'lt10')"
   ]
  },
  {
   "cell_type": "markdown",
   "metadata": {},
   "source": [
    "* As well as getting max and min values, you can also get the index of these values if you like."
   ]
  },
  {
   "cell_type": "code",
   "execution_count": 126,
   "metadata": {},
   "outputs": [
    {
     "name": "stdout",
     "output_type": "stream",
     "text": [
      "[ 8 94  8 56  1  3  4  5  7 23 18]\n",
      "94\n",
      "1\n",
      "1\n",
      "4\n"
     ]
    }
   ],
   "source": [
    "print(arr)\n",
    "print(arr.max())\n",
    "print(arr.argmax())\n",
    "print(arr.min())\n",
    "print(arr.argmin())"
   ]
  },
  {
   "cell_type": "markdown",
   "metadata": {},
   "source": [
    "### Reading and Writing CSVs\n",
    "* Two main methods; genfromtxt() and loadtxt().\n",
    "* The first can read multiple data types (e.g. text, ints etc.) whilst the second can only read text.\n",
    "* If you get errors initially, look at the source data and see what conditions/parameters you need to add to your code to handle things like delimiters, headers etc."
   ]
  },
  {
   "cell_type": "code",
   "execution_count": 135,
   "metadata": {},
   "outputs": [
    {
     "data": {
      "text/plain": [
       "(392, 9)"
      ]
     },
     "execution_count": 135,
     "metadata": {},
     "output_type": "execute_result"
    }
   ],
   "source": [
    "# read in github text\n",
    "# use shift + tab to see options (lots here!)\n",
    "data = np.genfromtxt('https://raw.githubusercontent.com/selva86/datasets/master/Auto.csv',\n",
    "                     delimiter=',', skip_header=1, filling_values=-1000, dtype='float')\n",
    "\n",
    "# check rows and cols\n",
    "data.shape"
   ]
  },
  {
   "cell_type": "code",
   "execution_count": 134,
   "metadata": {},
   "outputs": [
    {
     "data": {
      "text/plain": [
       "array([[   18. ,     8. ,   307. ,   130. ,  3504. ,    12. ,    70. ,\n",
       "            1. , -1000. ],\n",
       "       [   15. ,     8. ,   350. ,   165. ,  3693. ,    11.5,    70. ,\n",
       "            1. , -1000. ],\n",
       "       [   18. ,     8. ,   318. ,   150. ,  3436. ,    11. ,    70. ,\n",
       "            1. , -1000. ]])"
      ]
     },
     "execution_count": 134,
     "metadata": {},
     "output_type": "execute_result"
    }
   ],
   "source": [
    "# turn off scientific notation (ie. e+01)\n",
    "np.set_printoptions(suppress=True)\n",
    "\n",
    "# inspect first 3 rows\n",
    "data[:3]"
   ]
  },
  {
   "cell_type": "code",
   "execution_count": 137,
   "metadata": {},
   "outputs": [
    {
     "name": "stderr",
     "output_type": "stream",
     "text": [
      "C:\\ProgramData\\Anaconda3\\lib\\site-packages\\ipykernel_launcher.py:3: VisibleDeprecationWarning: Reading unicode strings without specifying the encoding argument is deprecated. Set the encoding, use None for the system default.\n",
      "  This is separate from the ipykernel package so we can avoid doing imports until\n"
     ]
    },
    {
     "data": {
      "text/plain": [
       "array([(18., 8, 307., 130, 3504, 12. , 70, 1, b'\"chevrolet chevelle malibu\"'),\n",
       "       (15., 8, 350., 165, 3693, 11.5, 70, 1, b'\"buick skylark 320\"'),\n",
       "       (18., 8, 318., 150, 3436, 11. , 70, 1, b'\"plymouth satellite\"')],\n",
       "      dtype=[('f0', '<f8'), ('f1', '<i4'), ('f2', '<f8'), ('f3', '<i4'), ('f4', '<i4'), ('f5', '<f8'), ('f6', '<i4'), ('f7', '<i4'), ('f8', 'S38')])"
      ]
     },
     "execution_count": 137,
     "metadata": {},
     "output_type": "execute_result"
    }
   ],
   "source": [
    "# read in data\n",
    "data2 = np.genfromtxt('https://raw.githubusercontent.com/selva86/datasets/master/Auto.csv',\n",
    "                      delimiter=',', skip_header=1, dtype=None)\n",
    "\n",
    "# get first 3 rows\n",
    "data2[:3]"
   ]
  },
  {
   "cell_type": "code",
   "execution_count": 138,
   "metadata": {},
   "outputs": [],
   "source": [
    "# save data (by default this goes into the same folder as the script)\n",
    "np.savetxt('data.csv', data, delimiter=',')"
   ]
  },
  {
   "cell_type": "code",
   "execution_count": 139,
   "metadata": {},
   "outputs": [],
   "source": [
    "# save array as an actual numpy array (not as text etc.)\n",
    "np.save('data.npy', data)"
   ]
  },
  {
   "cell_type": "code",
   "execution_count": 140,
   "metadata": {},
   "outputs": [],
   "source": [
    "# saves multiple arrays together\n",
    "np.savez('data2.npz', data, data2)"
   ]
  },
  {
   "cell_type": "code",
   "execution_count": 144,
   "metadata": {},
   "outputs": [
    {
     "name": "stdout",
     "output_type": "stream",
     "text": [
      "['arr_0', 'arr_1']\n",
      "[(18. , 8, 307. , 130, 3504, 12. , 70, 1, b'\"chevrolet chevelle malibu\"')\n",
      " (15. , 8, 350. , 165, 3693, 11.5, 70, 1, b'\"buick skylark 320\"')\n",
      " (18. , 8, 318. , 150, 3436, 11. , 70, 1, b'\"plymouth satellite\"')\n",
      " (16. , 8, 304. , 150, 3433, 12. , 70, 1, b'\"amc rebel sst\"')\n",
      " (17. , 8, 302. , 140, 3449, 10.5, 70, 1, b'\"ford torino\"')\n",
      " (15. , 8, 429. , 198, 4341, 10. , 70, 1, b'\"ford galaxie 500\"')\n",
      " (14. , 8, 454. , 220, 4354,  9. , 70, 1, b'\"chevrolet impala\"')\n",
      " (14. , 8, 440. , 215, 4312,  8.5, 70, 1, b'\"plymouth fury iii\"')\n",
      " (14. , 8, 455. , 225, 4425, 10. , 70, 1, b'\"pontiac catalina\"')\n",
      " (15. , 8, 390. , 190, 3850,  8.5, 70, 1, b'\"amc ambassador dpl\"')\n",
      " (15. , 8, 383. , 170, 3563, 10. , 70, 1, b'\"dodge challenger se\"')\n",
      " (14. , 8, 340. , 160, 3609,  8. , 70, 1, b'\"plymouth \\'cuda 340\"')\n",
      " (15. , 8, 400. , 150, 3761,  9.5, 70, 1, b'\"chevrolet monte carlo\"')\n",
      " (14. , 8, 455. , 225, 3086, 10. , 70, 1, b'\"buick estate wagon (sw)\"')\n",
      " (24. , 4, 113. ,  95, 2372, 15. , 70, 3, b'\"toyota corona mark ii\"')\n",
      " (22. , 6, 198. ,  95, 2833, 15.5, 70, 1, b'\"plymouth duster\"')\n",
      " (18. , 6, 199. ,  97, 2774, 15.5, 70, 1, b'\"amc hornet\"')\n",
      " (21. , 6, 200. ,  85, 2587, 16. , 70, 1, b'\"ford maverick\"')\n",
      " (27. , 4,  97. ,  88, 2130, 14.5, 70, 3, b'\"datsun pl510\"')\n",
      " (26. , 4,  97. ,  46, 1835, 20.5, 70, 2, b'\"volkswagen 1131 deluxe sedan\"')\n",
      " (25. , 4, 110. ,  87, 2672, 17.5, 70, 2, b'\"peugeot 504\"')\n",
      " (24. , 4, 107. ,  90, 2430, 14.5, 70, 2, b'\"audi 100 ls\"')\n",
      " (25. , 4, 104. ,  95, 2375, 17.5, 70, 2, b'\"saab 99e\"')\n",
      " (26. , 4, 121. , 113, 2234, 12.5, 70, 2, b'\"bmw 2002\"')\n",
      " (21. , 6, 199. ,  90, 2648, 15. , 70, 1, b'\"amc gremlin\"')\n",
      " (10. , 8, 360. , 215, 4615, 14. , 70, 1, b'\"ford f250\"')\n",
      " (10. , 8, 307. , 200, 4376, 15. , 70, 1, b'\"chevy c20\"')\n",
      " (11. , 8, 318. , 210, 4382, 13.5, 70, 1, b'\"dodge d200\"')\n",
      " ( 9. , 8, 304. , 193, 4732, 18.5, 70, 1, b'\"hi 1200d\"')\n",
      " (27. , 4,  97. ,  88, 2130, 14.5, 71, 3, b'\"datsun pl510\"')\n",
      " (28. , 4, 140. ,  90, 2264, 15.5, 71, 1, b'\"chevrolet vega 2300\"')\n",
      " (25. , 4, 113. ,  95, 2228, 14. , 71, 3, b'\"toyota corona\"')\n",
      " (19. , 6, 232. , 100, 2634, 13. , 71, 1, b'\"amc gremlin\"')\n",
      " (16. , 6, 225. , 105, 3439, 15.5, 71, 1, b'\"plymouth satellite custom\"')\n",
      " (17. , 6, 250. , 100, 3329, 15.5, 71, 1, b'\"chevrolet chevelle malibu\"')\n",
      " (19. , 6, 250. ,  88, 3302, 15.5, 71, 1, b'\"ford torino 500\"')\n",
      " (18. , 6, 232. , 100, 3288, 15.5, 71, 1, b'\"amc matador\"')\n",
      " (14. , 8, 350. , 165, 4209, 12. , 71, 1, b'\"chevrolet impala\"')\n",
      " (14. , 8, 400. , 175, 4464, 11.5, 71, 1, b'\"pontiac catalina brougham\"')\n",
      " (14. , 8, 351. , 153, 4154, 13.5, 71, 1, b'\"ford galaxie 500\"')\n",
      " (14. , 8, 318. , 150, 4096, 13. , 71, 1, b'\"plymouth fury iii\"')\n",
      " (12. , 8, 383. , 180, 4955, 11.5, 71, 1, b'\"dodge monaco (sw)\"')\n",
      " (13. , 8, 400. , 170, 4746, 12. , 71, 1, b'\"ford country squire (sw)\"')\n",
      " (13. , 8, 400. , 175, 5140, 12. , 71, 1, b'\"pontiac safari (sw)\"')\n",
      " (18. , 6, 258. , 110, 2962, 13.5, 71, 1, b'\"amc hornet sportabout (sw)\"')\n",
      " (22. , 4, 140. ,  72, 2408, 19. , 71, 1, b'\"chevrolet vega (sw)\"')\n",
      " (19. , 6, 250. , 100, 3282, 15. , 71, 1, b'\"pontiac firebird\"')\n",
      " (18. , 6, 250. ,  88, 3139, 14.5, 71, 1, b'\"ford mustang\"')\n",
      " (23. , 4, 122. ,  86, 2220, 14. , 71, 1, b'\"mercury capri 2000\"')\n",
      " (28. , 4, 116. ,  90, 2123, 14. , 71, 2, b'\"opel 1900\"')\n",
      " (30. , 4,  79. ,  70, 2074, 19.5, 71, 2, b'\"peugeot 304\"')\n",
      " (30. , 4,  88. ,  76, 2065, 14.5, 71, 2, b'\"fiat 124b\"')\n",
      " (31. , 4,  71. ,  65, 1773, 19. , 71, 3, b'\"toyota corolla 1200\"')\n",
      " (35. , 4,  72. ,  69, 1613, 18. , 71, 3, b'\"datsun 1200\"')\n",
      " (27. , 4,  97. ,  60, 1834, 19. , 71, 2, b'\"volkswagen model 111\"')\n",
      " (26. , 4,  91. ,  70, 1955, 20.5, 71, 1, b'\"plymouth cricket\"')\n",
      " (24. , 4, 113. ,  95, 2278, 15.5, 72, 3, b'\"toyota corona hardtop\"')\n",
      " (25. , 4,  97.5,  80, 2126, 17. , 72, 1, b'\"dodge colt hardtop\"')\n",
      " (23. , 4,  97. ,  54, 2254, 23.5, 72, 2, b'\"volkswagen type 3\"')\n",
      " (20. , 4, 140. ,  90, 2408, 19.5, 72, 1, b'\"chevrolet vega\"')\n",
      " (21. , 4, 122. ,  86, 2226, 16.5, 72, 1, b'\"ford pinto runabout\"')\n",
      " (13. , 8, 350. , 165, 4274, 12. , 72, 1, b'\"chevrolet impala\"')\n",
      " (14. , 8, 400. , 175, 4385, 12. , 72, 1, b'\"pontiac catalina\"')\n",
      " (15. , 8, 318. , 150, 4135, 13.5, 72, 1, b'\"plymouth fury iii\"')\n",
      " (14. , 8, 351. , 153, 4129, 13. , 72, 1, b'\"ford galaxie 500\"')\n",
      " (17. , 8, 304. , 150, 3672, 11.5, 72, 1, b'\"amc ambassador sst\"')\n",
      " (11. , 8, 429. , 208, 4633, 11. , 72, 1, b'\"mercury marquis\"')\n",
      " (13. , 8, 350. , 155, 4502, 13.5, 72, 1, b'\"buick lesabre custom\"')\n",
      " (12. , 8, 350. , 160, 4456, 13.5, 72, 1, b'\"oldsmobile delta 88 royale\"')\n",
      " (13. , 8, 400. , 190, 4422, 12.5, 72, 1, b'\"chrysler newport royal\"')\n",
      " (19. , 3,  70. ,  97, 2330, 13.5, 72, 3, b'\"mazda rx2 coupe\"')\n",
      " (15. , 8, 304. , 150, 3892, 12.5, 72, 1, b'\"amc matador (sw)\"')\n",
      " (13. , 8, 307. , 130, 4098, 14. , 72, 1, b'\"chevrolet chevelle concours (sw)\"')\n",
      " (13. , 8, 302. , 140, 4294, 16. , 72, 1, b'\"ford gran torino (sw)\"')\n",
      " (14. , 8, 318. , 150, 4077, 14. , 72, 1, b'\"plymouth satellite custom (sw)\"')\n",
      " (18. , 4, 121. , 112, 2933, 14.5, 72, 2, b'\"volvo 145e (sw)\"')\n",
      " (22. , 4, 121. ,  76, 2511, 18. , 72, 2, b'\"volkswagen 411 (sw)\"')\n",
      " (21. , 4, 120. ,  87, 2979, 19.5, 72, 2, b'\"peugeot 504 (sw)\"')\n",
      " (26. , 4,  96. ,  69, 2189, 18. , 72, 2, b'\"renault 12 (sw)\"')\n",
      " (22. , 4, 122. ,  86, 2395, 16. , 72, 1, b'\"ford pinto (sw)\"')\n",
      " (28. , 4,  97. ,  92, 2288, 17. , 72, 3, b'\"datsun 510 (sw)\"')\n",
      " (23. , 4, 120. ,  97, 2506, 14.5, 72, 3, b'\"toyouta corona mark ii (sw)\"')\n",
      " (28. , 4,  98. ,  80, 2164, 15. , 72, 1, b'\"dodge colt (sw)\"')\n",
      " (27. , 4,  97. ,  88, 2100, 16.5, 72, 3, b'\"toyota corolla 1600 (sw)\"')\n",
      " (13. , 8, 350. , 175, 4100, 13. , 73, 1, b'\"buick century 350\"')\n",
      " (14. , 8, 304. , 150, 3672, 11.5, 73, 1, b'\"amc matador\"')\n",
      " (13. , 8, 350. , 145, 3988, 13. , 73, 1, b'\"chevrolet malibu\"')\n",
      " (14. , 8, 302. , 137, 4042, 14.5, 73, 1, b'\"ford gran torino\"')\n",
      " (15. , 8, 318. , 150, 3777, 12.5, 73, 1, b'\"dodge coronet custom\"')\n",
      " (12. , 8, 429. , 198, 4952, 11.5, 73, 1, b'\"mercury marquis brougham\"')\n",
      " (13. , 8, 400. , 150, 4464, 12. , 73, 1, b'\"chevrolet caprice classic\"')\n",
      " (13. , 8, 351. , 158, 4363, 13. , 73, 1, b'\"ford ltd\"')\n",
      " (14. , 8, 318. , 150, 4237, 14.5, 73, 1, b'\"plymouth fury gran sedan\"')\n",
      " (13. , 8, 440. , 215, 4735, 11. , 73, 1, b'\"chrysler new yorker brougham\"')\n",
      " (12. , 8, 455. , 225, 4951, 11. , 73, 1, b'\"buick electra 225 custom\"')\n",
      " (13. , 8, 360. , 175, 3821, 11. , 73, 1, b'\"amc ambassador brougham\"')\n",
      " (18. , 6, 225. , 105, 3121, 16.5, 73, 1, b'\"plymouth valiant\"')\n",
      " (16. , 6, 250. , 100, 3278, 18. , 73, 1, b'\"chevrolet nova custom\"')\n",
      " (18. , 6, 232. , 100, 2945, 16. , 73, 1, b'\"amc hornet\"')\n",
      " (18. , 6, 250. ,  88, 3021, 16.5, 73, 1, b'\"ford maverick\"')\n",
      " (23. , 6, 198. ,  95, 2904, 16. , 73, 1, b'\"plymouth duster\"')\n",
      " (26. , 4,  97. ,  46, 1950, 21. , 73, 2, b'\"volkswagen super beetle\"')\n",
      " (11. , 8, 400. , 150, 4997, 14. , 73, 1, b'\"chevrolet impala\"')\n",
      " (12. , 8, 400. , 167, 4906, 12.5, 73, 1, b'\"ford country\"')\n",
      " (13. , 8, 360. , 170, 4654, 13. , 73, 1, b'\"plymouth custom suburb\"')\n",
      " (12. , 8, 350. , 180, 4499, 12.5, 73, 1, b'\"oldsmobile vista cruiser\"')\n",
      " (18. , 6, 232. , 100, 2789, 15. , 73, 1, b'\"amc gremlin\"')\n",
      " (20. , 4,  97. ,  88, 2279, 19. , 73, 3, b'\"toyota carina\"')\n",
      " (21. , 4, 140. ,  72, 2401, 19.5, 73, 1, b'\"chevrolet vega\"')\n",
      " (22. , 4, 108. ,  94, 2379, 16.5, 73, 3, b'\"datsun 610\"')\n",
      " (18. , 3,  70. ,  90, 2124, 13.5, 73, 3, b'\"maxda rx3\"')\n",
      " (19. , 4, 122. ,  85, 2310, 18.5, 73, 1, b'\"ford pinto\"')\n",
      " (21. , 6, 155. , 107, 2472, 14. , 73, 1, b'\"mercury capri v6\"')\n",
      " (26. , 4,  98. ,  90, 2265, 15.5, 73, 2, b'\"fiat 124 sport coupe\"')\n",
      " (15. , 8, 350. , 145, 4082, 13. , 73, 1, b'\"chevrolet monte carlo s\"')\n",
      " (16. , 8, 400. , 230, 4278,  9.5, 73, 1, b'\"pontiac grand prix\"')\n",
      " (29. , 4,  68. ,  49, 1867, 19.5, 73, 2, b'\"fiat 128\"')\n",
      " (24. , 4, 116. ,  75, 2158, 15.5, 73, 2, b'\"opel manta\"')\n",
      " (20. , 4, 114. ,  91, 2582, 14. , 73, 2, b'\"audi 100ls\"')\n",
      " (19. , 4, 121. , 112, 2868, 15.5, 73, 2, b'\"volvo 144ea\"')\n",
      " (15. , 8, 318. , 150, 3399, 11. , 73, 1, b'\"dodge dart custom\"')\n",
      " (24. , 4, 121. , 110, 2660, 14. , 73, 2, b'\"saab 99le\"')\n",
      " (20. , 6, 156. , 122, 2807, 13.5, 73, 3, b'\"toyota mark ii\"')\n",
      " (11. , 8, 350. , 180, 3664, 11. , 73, 1, b'\"oldsmobile omega\"')\n",
      " (20. , 6, 198. ,  95, 3102, 16.5, 74, 1, b'\"plymouth duster\"')\n",
      " (19. , 6, 232. , 100, 2901, 16. , 74, 1, b'\"amc hornet\"')\n",
      " (15. , 6, 250. , 100, 3336, 17. , 74, 1, b'\"chevrolet nova\"')\n",
      " (31. , 4,  79. ,  67, 1950, 19. , 74, 3, b'\"datsun b210\"')\n",
      " (26. , 4, 122. ,  80, 2451, 16.5, 74, 1, b'\"ford pinto\"')\n",
      " (32. , 4,  71. ,  65, 1836, 21. , 74, 3, b'\"toyota corolla 1200\"')\n",
      " (25. , 4, 140. ,  75, 2542, 17. , 74, 1, b'\"chevrolet vega\"')\n",
      " (16. , 6, 250. , 100, 3781, 17. , 74, 1, b'\"chevrolet chevelle malibu classic\"')\n",
      " (16. , 6, 258. , 110, 3632, 18. , 74, 1, b'\"amc matador\"')\n",
      " (18. , 6, 225. , 105, 3613, 16.5, 74, 1, b'\"plymouth satellite sebring\"')\n",
      " (16. , 8, 302. , 140, 4141, 14. , 74, 1, b'\"ford gran torino\"')\n",
      " (13. , 8, 350. , 150, 4699, 14.5, 74, 1, b'\"buick century luxus (sw)\"')\n",
      " (14. , 8, 318. , 150, 4457, 13.5, 74, 1, b'\"dodge coronet custom (sw)\"')\n",
      " (14. , 8, 302. , 140, 4638, 16. , 74, 1, b'\"ford gran torino (sw)\"')\n",
      " (14. , 8, 304. , 150, 4257, 15.5, 74, 1, b'\"amc matador (sw)\"')\n",
      " (29. , 4,  98. ,  83, 2219, 16.5, 74, 2, b'\"audi fox\"')\n",
      " (26. , 4,  79. ,  67, 1963, 15.5, 74, 2, b'\"volkswagen dasher\"')\n",
      " (26. , 4,  97. ,  78, 2300, 14.5, 74, 2, b'\"opel manta\"')\n",
      " (31. , 4,  76. ,  52, 1649, 16.5, 74, 3, b'\"toyota corona\"')\n",
      " (32. , 4,  83. ,  61, 2003, 19. , 74, 3, b'\"datsun 710\"')\n",
      " (28. , 4,  90. ,  75, 2125, 14.5, 74, 1, b'\"dodge colt\"')\n",
      " (24. , 4,  90. ,  75, 2108, 15.5, 74, 2, b'\"fiat 128\"')\n",
      " (26. , 4, 116. ,  75, 2246, 14. , 74, 2, b'\"fiat 124 tc\"')\n",
      " (24. , 4, 120. ,  97, 2489, 15. , 74, 3, b'\"honda civic\"')\n",
      " (26. , 4, 108. ,  93, 2391, 15.5, 74, 3, b'\"subaru\"')\n",
      " (31. , 4,  79. ,  67, 2000, 16. , 74, 2, b'\"fiat x1.9\"')\n",
      " (19. , 6, 225. ,  95, 3264, 16. , 75, 1, b'\"plymouth valiant custom\"')\n",
      " (18. , 6, 250. , 105, 3459, 16. , 75, 1, b'\"chevrolet nova\"')\n",
      " (15. , 6, 250. ,  72, 3432, 21. , 75, 1, b'\"mercury monarch\"')\n",
      " (15. , 6, 250. ,  72, 3158, 19.5, 75, 1, b'\"ford maverick\"')\n",
      " (16. , 8, 400. , 170, 4668, 11.5, 75, 1, b'\"pontiac catalina\"')\n",
      " (15. , 8, 350. , 145, 4440, 14. , 75, 1, b'\"chevrolet bel air\"')\n",
      " (16. , 8, 318. , 150, 4498, 14.5, 75, 1, b'\"plymouth grand fury\"')\n",
      " (14. , 8, 351. , 148, 4657, 13.5, 75, 1, b'\"ford ltd\"')\n",
      " (17. , 6, 231. , 110, 3907, 21. , 75, 1, b'\"buick century\"')\n",
      " (16. , 6, 250. , 105, 3897, 18.5, 75, 1, b'\"chevroelt chevelle malibu\"')\n",
      " (15. , 6, 258. , 110, 3730, 19. , 75, 1, b'\"amc matador\"')\n",
      " (18. , 6, 225. ,  95, 3785, 19. , 75, 1, b'\"plymouth fury\"')\n",
      " (21. , 6, 231. , 110, 3039, 15. , 75, 1, b'\"buick skyhawk\"')\n",
      " (20. , 8, 262. , 110, 3221, 13.5, 75, 1, b'\"chevrolet monza 2+2\"')\n",
      " (13. , 8, 302. , 129, 3169, 12. , 75, 1, b'\"ford mustang ii\"')\n",
      " (29. , 4,  97. ,  75, 2171, 16. , 75, 3, b'\"toyota corolla\"')\n",
      " (23. , 4, 140. ,  83, 2639, 17. , 75, 1, b'\"ford pinto\"')\n",
      " (20. , 6, 232. , 100, 2914, 16. , 75, 1, b'\"amc gremlin\"')\n",
      " (23. , 4, 140. ,  78, 2592, 18.5, 75, 1, b'\"pontiac astro\"')\n",
      " (24. , 4, 134. ,  96, 2702, 13.5, 75, 3, b'\"toyota corona\"')\n",
      " (25. , 4,  90. ,  71, 2223, 16.5, 75, 2, b'\"volkswagen dasher\"')\n",
      " (24. , 4, 119. ,  97, 2545, 17. , 75, 3, b'\"datsun 710\"')\n",
      " (18. , 6, 171. ,  97, 2984, 14.5, 75, 1, b'\"ford pinto\"')\n",
      " (29. , 4,  90. ,  70, 1937, 14. , 75, 2, b'\"volkswagen rabbit\"')\n",
      " (19. , 6, 232. ,  90, 3211, 17. , 75, 1, b'\"amc pacer\"')\n",
      " (23. , 4, 115. ,  95, 2694, 15. , 75, 2, b'\"audi 100ls\"')\n",
      " (23. , 4, 120. ,  88, 2957, 17. , 75, 2, b'\"peugeot 504\"')\n",
      " (22. , 4, 121. ,  98, 2945, 14.5, 75, 2, b'\"volvo 244dl\"')\n",
      " (25. , 4, 121. , 115, 2671, 13.5, 75, 2, b'\"saab 99le\"')\n",
      " (33. , 4,  91. ,  53, 1795, 17.5, 75, 3, b'\"honda civic cvcc\"')\n",
      " (28. , 4, 107. ,  86, 2464, 15.5, 76, 2, b'\"fiat 131\"')\n",
      " (25. , 4, 116. ,  81, 2220, 16.9, 76, 2, b'\"opel 1900\"')\n",
      " (25. , 4, 140. ,  92, 2572, 14.9, 76, 1, b'\"capri ii\"')\n",
      " (26. , 4,  98. ,  79, 2255, 17.7, 76, 1, b'\"dodge colt\"')\n",
      " (27. , 4, 101. ,  83, 2202, 15.3, 76, 2, b'\"renault 12tl\"')\n",
      " (17.5, 8, 305. , 140, 4215, 13. , 76, 1, b'\"chevrolet chevelle malibu classic\"')\n",
      " (16. , 8, 318. , 150, 4190, 13. , 76, 1, b'\"dodge coronet brougham\"')\n",
      " (15.5, 8, 304. , 120, 3962, 13.9, 76, 1, b'\"amc matador\"')\n",
      " (14.5, 8, 351. , 152, 4215, 12.8, 76, 1, b'\"ford gran torino\"')\n",
      " (22. , 6, 225. , 100, 3233, 15.4, 76, 1, b'\"plymouth valiant\"')\n",
      " (22. , 6, 250. , 105, 3353, 14.5, 76, 1, b'\"chevrolet nova\"')\n",
      " (24. , 6, 200. ,  81, 3012, 17.6, 76, 1, b'\"ford maverick\"')\n",
      " (22.5, 6, 232. ,  90, 3085, 17.6, 76, 1, b'\"amc hornet\"')\n",
      " (29. , 4,  85. ,  52, 2035, 22.2, 76, 1, b'\"chevrolet chevette\"')\n",
      " (24.5, 4,  98. ,  60, 2164, 22.1, 76, 1, b'\"chevrolet woody\"')\n",
      " (29. , 4,  90. ,  70, 1937, 14.2, 76, 2, b'\"vw rabbit\"')\n",
      " (33. , 4,  91. ,  53, 1795, 17.4, 76, 3, b'\"honda civic\"')\n",
      " (20. , 6, 225. , 100, 3651, 17.7, 76, 1, b'\"dodge aspen se\"')\n",
      " (18. , 6, 250. ,  78, 3574, 21. , 76, 1, b'\"ford granada ghia\"')\n",
      " (18.5, 6, 250. , 110, 3645, 16.2, 76, 1, b'\"pontiac ventura sj\"')\n",
      " (17.5, 6, 258. ,  95, 3193, 17.8, 76, 1, b'\"amc pacer d/l\"')\n",
      " (29.5, 4,  97. ,  71, 1825, 12.2, 76, 2, b'\"volkswagen rabbit\"')\n",
      " (32. , 4,  85. ,  70, 1990, 17. , 76, 3, b'\"datsun b-210\"')\n",
      " (28. , 4,  97. ,  75, 2155, 16.4, 76, 3, b'\"toyota corolla\"')\n",
      " (26.5, 4, 140. ,  72, 2565, 13.6, 76, 1, b'\"ford pinto\"')\n",
      " (20. , 4, 130. , 102, 3150, 15.7, 76, 2, b'\"volvo 245\"')\n",
      " (13. , 8, 318. , 150, 3940, 13.2, 76, 1, b'\"plymouth volare premier v8\"')\n",
      " (19. , 4, 120. ,  88, 3270, 21.9, 76, 2, b'\"peugeot 504\"')\n",
      " (19. , 6, 156. , 108, 2930, 15.5, 76, 3, b'\"toyota mark ii\"')\n",
      " (16.5, 6, 168. , 120, 3820, 16.7, 76, 2, b'\"mercedes-benz 280s\"')\n",
      " (16.5, 8, 350. , 180, 4380, 12.1, 76, 1, b'\"cadillac seville\"')\n",
      " (13. , 8, 350. , 145, 4055, 12. , 76, 1, b'\"chevy c10\"')\n",
      " (13. , 8, 302. , 130, 3870, 15. , 76, 1, b'\"ford f108\"')\n",
      " (13. , 8, 318. , 150, 3755, 14. , 76, 1, b'\"dodge d100\"')\n",
      " (31.5, 4,  98. ,  68, 2045, 18.5, 77, 3, b'\"honda accord cvcc\"')\n",
      " (30. , 4, 111. ,  80, 2155, 14.8, 77, 1, b'\"buick opel isuzu deluxe\"')\n",
      " (36. , 4,  79. ,  58, 1825, 18.6, 77, 2, b'\"renault 5 gtl\"')\n",
      " (25.5, 4, 122. ,  96, 2300, 15.5, 77, 1, b'\"plymouth arrow gs\"')\n",
      " (33.5, 4,  85. ,  70, 1945, 16.8, 77, 3, b'\"datsun f-10 hatchback\"')\n",
      " (17.5, 8, 305. , 145, 3880, 12.5, 77, 1, b'\"chevrolet caprice classic\"')\n",
      " (17. , 8, 260. , 110, 4060, 19. , 77, 1, b'\"oldsmobile cutlass supreme\"')\n",
      " (15.5, 8, 318. , 145, 4140, 13.7, 77, 1, b'\"dodge monaco brougham\"')\n",
      " (15. , 8, 302. , 130, 4295, 14.9, 77, 1, b'\"mercury cougar brougham\"')\n",
      " (17.5, 6, 250. , 110, 3520, 16.4, 77, 1, b'\"chevrolet concours\"')\n",
      " (20.5, 6, 231. , 105, 3425, 16.9, 77, 1, b'\"buick skylark\"')\n",
      " (19. , 6, 225. , 100, 3630, 17.7, 77, 1, b'\"plymouth volare custom\"')\n",
      " (18.5, 6, 250. ,  98, 3525, 19. , 77, 1, b'\"ford granada\"')\n",
      " (16. , 8, 400. , 180, 4220, 11.1, 77, 1, b'\"pontiac grand prix lj\"')\n",
      " (15.5, 8, 350. , 170, 4165, 11.4, 77, 1, b'\"chevrolet monte carlo landau\"')\n",
      " (15.5, 8, 400. , 190, 4325, 12.2, 77, 1, b'\"chrysler cordoba\"')\n",
      " (16. , 8, 351. , 149, 4335, 14.5, 77, 1, b'\"ford thunderbird\"')\n",
      " (29. , 4,  97. ,  78, 1940, 14.5, 77, 2, b'\"volkswagen rabbit custom\"')\n",
      " (24.5, 4, 151. ,  88, 2740, 16. , 77, 1, b'\"pontiac sunbird coupe\"')\n",
      " (26. , 4,  97. ,  75, 2265, 18.2, 77, 3, b'\"toyota corolla liftback\"')\n",
      " (25.5, 4, 140. ,  89, 2755, 15.8, 77, 1, b'\"ford mustang ii 2+2\"')\n",
      " (30.5, 4,  98. ,  63, 2051, 17. , 77, 1, b'\"chevrolet chevette\"')\n",
      " (33.5, 4,  98. ,  83, 2075, 15.9, 77, 1, b'\"dodge colt m/m\"')\n",
      " (30. , 4,  97. ,  67, 1985, 16.4, 77, 3, b'\"subaru dl\"')\n",
      " (30.5, 4,  97. ,  78, 2190, 14.1, 77, 2, b'\"volkswagen dasher\"')\n",
      " (22. , 6, 146. ,  97, 2815, 14.5, 77, 3, b'\"datsun 810\"')\n",
      " (21.5, 4, 121. , 110, 2600, 12.8, 77, 2, b'\"bmw 320i\"')\n",
      " (21.5, 3,  80. , 110, 2720, 13.5, 77, 3, b'\"mazda rx-4\"')\n",
      " (43.1, 4,  90. ,  48, 1985, 21.5, 78, 2, b'\"volkswagen rabbit custom diesel\"')\n",
      " (36.1, 4,  98. ,  66, 1800, 14.4, 78, 1, b'\"ford fiesta\"')\n",
      " (32.8, 4,  78. ,  52, 1985, 19.4, 78, 3, b'\"mazda glc deluxe\"')\n",
      " (39.4, 4,  85. ,  70, 2070, 18.6, 78, 3, b'\"datsun b210 gx\"')\n",
      " (36.1, 4,  91. ,  60, 1800, 16.4, 78, 3, b'\"honda civic cvcc\"')\n",
      " (19.9, 8, 260. , 110, 3365, 15.5, 78, 1, b'\"oldsmobile cutlass salon brougham\"')\n",
      " (19.4, 8, 318. , 140, 3735, 13.2, 78, 1, b'\"dodge diplomat\"')\n",
      " (20.2, 8, 302. , 139, 3570, 12.8, 78, 1, b'\"mercury monarch ghia\"')\n",
      " (19.2, 6, 231. , 105, 3535, 19.2, 78, 1, b'\"pontiac phoenix lj\"')\n",
      " (20.5, 6, 200. ,  95, 3155, 18.2, 78, 1, b'\"chevrolet malibu\"')\n",
      " (20.2, 6, 200. ,  85, 2965, 15.8, 78, 1, b'\"ford fairmont (auto)\"')\n",
      " (25.1, 4, 140. ,  88, 2720, 15.4, 78, 1, b'\"ford fairmont (man)\"')\n",
      " (20.5, 6, 225. , 100, 3430, 17.2, 78, 1, b'\"plymouth volare\"')\n",
      " (19.4, 6, 232. ,  90, 3210, 17.2, 78, 1, b'\"amc concord\"')\n",
      " (20.6, 6, 231. , 105, 3380, 15.8, 78, 1, b'\"buick century special\"')\n",
      " (20.8, 6, 200. ,  85, 3070, 16.7, 78, 1, b'\"mercury zephyr\"')\n",
      " (18.6, 6, 225. , 110, 3620, 18.7, 78, 1, b'\"dodge aspen\"')\n",
      " (18.1, 6, 258. , 120, 3410, 15.1, 78, 1, b'\"amc concord d/l\"')\n",
      " (19.2, 8, 305. , 145, 3425, 13.2, 78, 1, b'\"chevrolet monte carlo landau\"')\n",
      " (17.7, 6, 231. , 165, 3445, 13.4, 78, 1, b'\"buick regal sport coupe (turbo)\"')\n",
      " (18.1, 8, 302. , 139, 3205, 11.2, 78, 1, b'\"ford futura\"')\n",
      " (17.5, 8, 318. , 140, 4080, 13.7, 78, 1, b'\"dodge magnum xe\"')\n",
      " (30. , 4,  98. ,  68, 2155, 16.5, 78, 1, b'\"chevrolet chevette\"')\n",
      " (27.5, 4, 134. ,  95, 2560, 14.2, 78, 3, b'\"toyota corona\"')\n",
      " (27.2, 4, 119. ,  97, 2300, 14.7, 78, 3, b'\"datsun 510\"')\n",
      " (30.9, 4, 105. ,  75, 2230, 14.5, 78, 1, b'\"dodge omni\"')\n",
      " (21.1, 4, 134. ,  95, 2515, 14.8, 78, 3, b'\"toyota celica gt liftback\"')\n",
      " (23.2, 4, 156. , 105, 2745, 16.7, 78, 1, b'\"plymouth sapporo\"')\n",
      " (23.8, 4, 151. ,  85, 2855, 17.6, 78, 1, b'\"oldsmobile starfire sx\"')\n",
      " (23.9, 4, 119. ,  97, 2405, 14.9, 78, 3, b'\"datsun 200-sx\"')\n",
      " (20.3, 5, 131. , 103, 2830, 15.9, 78, 2, b'\"audi 5000\"')\n",
      " (17. , 6, 163. , 125, 3140, 13.6, 78, 2, b'\"volvo 264gl\"')\n",
      " (21.6, 4, 121. , 115, 2795, 15.7, 78, 2, b'\"saab 99gle\"')\n",
      " (16.2, 6, 163. , 133, 3410, 15.8, 78, 2, b'\"peugeot 604sl\"')\n",
      " (31.5, 4,  89. ,  71, 1990, 14.9, 78, 2, b'\"volkswagen scirocco\"')\n",
      " (29.5, 4,  98. ,  68, 2135, 16.6, 78, 3, b'\"honda accord lx\"')\n",
      " (21.5, 6, 231. , 115, 3245, 15.4, 79, 1, b'\"pontiac lemans v6\"')\n",
      " (19.8, 6, 200. ,  85, 2990, 18.2, 79, 1, b'\"mercury zephyr 6\"')\n",
      " (22.3, 4, 140. ,  88, 2890, 17.3, 79, 1, b'\"ford fairmont 4\"')\n",
      " (20.2, 6, 232. ,  90, 3265, 18.2, 79, 1, b'\"amc concord dl 6\"')\n",
      " (20.6, 6, 225. , 110, 3360, 16.6, 79, 1, b'\"dodge aspen 6\"')\n",
      " (17. , 8, 305. , 130, 3840, 15.4, 79, 1, b'\"chevrolet caprice classic\"')\n",
      " (17.6, 8, 302. , 129, 3725, 13.4, 79, 1, b'\"ford ltd landau\"')\n",
      " (16.5, 8, 351. , 138, 3955, 13.2, 79, 1, b'\"mercury grand marquis\"')\n",
      " (18.2, 8, 318. , 135, 3830, 15.2, 79, 1, b'\"dodge st. regis\"')\n",
      " (16.9, 8, 350. , 155, 4360, 14.9, 79, 1, b'\"buick estate wagon (sw)\"')\n",
      " (15.5, 8, 351. , 142, 4054, 14.3, 79, 1, b'\"ford country squire (sw)\"')\n",
      " (19.2, 8, 267. , 125, 3605, 15. , 79, 1, b'\"chevrolet malibu classic (sw)\"')\n",
      " (18.5, 8, 360. , 150, 3940, 13. , 79, 1, b'\"chrysler lebaron town @ country (sw)\"')\n",
      " (31.9, 4,  89. ,  71, 1925, 14. , 79, 2, b'\"vw rabbit custom\"')\n",
      " (34.1, 4,  86. ,  65, 1975, 15.2, 79, 3, b'\"maxda glc deluxe\"')\n",
      " (35.7, 4,  98. ,  80, 1915, 14.4, 79, 1, b'\"dodge colt hatchback custom\"')\n",
      " (27.4, 4, 121. ,  80, 2670, 15. , 79, 1, b'\"amc spirit dl\"')\n",
      " (25.4, 5, 183. ,  77, 3530, 20.1, 79, 2, b'\"mercedes benz 300d\"')\n",
      " (23. , 8, 350. , 125, 3900, 17.4, 79, 1, b'\"cadillac eldorado\"')\n",
      " (27.2, 4, 141. ,  71, 3190, 24.8, 79, 2, b'\"peugeot 504\"')\n",
      " (23.9, 8, 260. ,  90, 3420, 22.2, 79, 1, b'\"oldsmobile cutlass salon brougham\"')\n",
      " (34.2, 4, 105. ,  70, 2200, 13.2, 79, 1, b'\"plymouth horizon\"')\n",
      " (34.5, 4, 105. ,  70, 2150, 14.9, 79, 1, b'\"plymouth horizon tc3\"')\n",
      " (31.8, 4,  85. ,  65, 2020, 19.2, 79, 3, b'\"datsun 210\"')\n",
      " (37.3, 4,  91. ,  69, 2130, 14.7, 79, 2, b'\"fiat strada custom\"')\n",
      " (28.4, 4, 151. ,  90, 2670, 16. , 79, 1, b'\"buick skylark limited\"')\n",
      " (28.8, 6, 173. , 115, 2595, 11.3, 79, 1, b'\"chevrolet citation\"')\n",
      " (26.8, 6, 173. , 115, 2700, 12.9, 79, 1, b'\"oldsmobile omega brougham\"')\n",
      " (33.5, 4, 151. ,  90, 2556, 13.2, 79, 1, b'\"pontiac phoenix\"')\n",
      " (41.5, 4,  98. ,  76, 2144, 14.7, 80, 2, b'\"vw rabbit\"')\n",
      " (38.1, 4,  89. ,  60, 1968, 18.8, 80, 3, b'\"toyota corolla tercel\"')\n",
      " (32.1, 4,  98. ,  70, 2120, 15.5, 80, 1, b'\"chevrolet chevette\"')\n",
      " (37.2, 4,  86. ,  65, 2019, 16.4, 80, 3, b'\"datsun 310\"')\n",
      " (28. , 4, 151. ,  90, 2678, 16.5, 80, 1, b'\"chevrolet citation\"')\n",
      " (26.4, 4, 140. ,  88, 2870, 18.1, 80, 1, b'\"ford fairmont\"')\n",
      " (24.3, 4, 151. ,  90, 3003, 20.1, 80, 1, b'\"amc concord\"')\n",
      " (19.1, 6, 225. ,  90, 3381, 18.7, 80, 1, b'\"dodge aspen\"')\n",
      " (34.3, 4,  97. ,  78, 2188, 15.8, 80, 2, b'\"audi 4000\"')\n",
      " (29.8, 4, 134. ,  90, 2711, 15.5, 80, 3, b'\"toyota corona liftback\"')\n",
      " (31.3, 4, 120. ,  75, 2542, 17.5, 80, 3, b'\"mazda 626\"')\n",
      " (37. , 4, 119. ,  92, 2434, 15. , 80, 3, b'\"datsun 510 hatchback\"')\n",
      " (32.2, 4, 108. ,  75, 2265, 15.2, 80, 3, b'\"toyota corolla\"')\n",
      " (46.6, 4,  86. ,  65, 2110, 17.9, 80, 3, b'\"mazda glc\"')\n",
      " (27.9, 4, 156. , 105, 2800, 14.4, 80, 1, b'\"dodge colt\"')\n",
      " (40.8, 4,  85. ,  65, 2110, 19.2, 80, 3, b'\"datsun 210\"')\n",
      " (44.3, 4,  90. ,  48, 2085, 21.7, 80, 2, b'\"vw rabbit c (diesel)\"')\n",
      " (43.4, 4,  90. ,  48, 2335, 23.7, 80, 2, b'\"vw dasher (diesel)\"')\n",
      " (36.4, 5, 121. ,  67, 2950, 19.9, 80, 2, b'\"audi 5000s (diesel)\"')\n",
      " (30. , 4, 146. ,  67, 3250, 21.8, 80, 2, b'\"mercedes-benz 240d\"')\n",
      " (44.6, 4,  91. ,  67, 1850, 13.8, 80, 3, b'\"honda civic 1500 gl\"')\n",
      " (33.8, 4,  97. ,  67, 2145, 18. , 80, 3, b'\"subaru dl\"')\n",
      " (29.8, 4,  89. ,  62, 1845, 15.3, 80, 2, b'\"vokswagen rabbit\"')\n",
      " (32.7, 6, 168. , 132, 2910, 11.4, 80, 3, b'\"datsun 280-zx\"')\n",
      " (23.7, 3,  70. , 100, 2420, 12.5, 80, 3, b'\"mazda rx-7 gs\"')\n",
      " (35. , 4, 122. ,  88, 2500, 15.1, 80, 2, b'\"triumph tr7 coupe\"')\n",
      " (32.4, 4, 107. ,  72, 2290, 17. , 80, 3, b'\"honda accord\"')\n",
      " (27.2, 4, 135. ,  84, 2490, 15.7, 81, 1, b'\"plymouth reliant\"')\n",
      " (26.6, 4, 151. ,  84, 2635, 16.4, 81, 1, b'\"buick skylark\"')\n",
      " (25.8, 4, 156. ,  92, 2620, 14.4, 81, 1, b'\"dodge aries wagon (sw)\"')\n",
      " (23.5, 6, 173. , 110, 2725, 12.6, 81, 1, b'\"chevrolet citation\"')\n",
      " (30. , 4, 135. ,  84, 2385, 12.9, 81, 1, b'\"plymouth reliant\"')\n",
      " (39.1, 4,  79. ,  58, 1755, 16.9, 81, 3, b'\"toyota starlet\"')\n",
      " (39. , 4,  86. ,  64, 1875, 16.4, 81, 1, b'\"plymouth champ\"')\n",
      " (35.1, 4,  81. ,  60, 1760, 16.1, 81, 3, b'\"honda civic 1300\"')\n",
      " (32.3, 4,  97. ,  67, 2065, 17.8, 81, 3, b'\"subaru\"')\n",
      " (37. , 4,  85. ,  65, 1975, 19.4, 81, 3, b'\"datsun 210 mpg\"')\n",
      " (37.7, 4,  89. ,  62, 2050, 17.3, 81, 3, b'\"toyota tercel\"')\n",
      " (34.1, 4,  91. ,  68, 1985, 16. , 81, 3, b'\"mazda glc 4\"')\n",
      " (34.7, 4, 105. ,  63, 2215, 14.9, 81, 1, b'\"plymouth horizon 4\"')\n",
      " (34.4, 4,  98. ,  65, 2045, 16.2, 81, 1, b'\"ford escort 4w\"')\n",
      " (29.9, 4,  98. ,  65, 2380, 20.7, 81, 1, b'\"ford escort 2h\"')\n",
      " (33. , 4, 105. ,  74, 2190, 14.2, 81, 2, b'\"volkswagen jetta\"')\n",
      " (33.7, 4, 107. ,  75, 2210, 14.4, 81, 3, b'\"honda prelude\"')\n",
      " (32.4, 4, 108. ,  75, 2350, 16.8, 81, 3, b'\"toyota corolla\"')\n",
      " (32.9, 4, 119. , 100, 2615, 14.8, 81, 3, b'\"datsun 200sx\"')\n",
      " (31.6, 4, 120. ,  74, 2635, 18.3, 81, 3, b'\"mazda 626\"')\n",
      " (28.1, 4, 141. ,  80, 3230, 20.4, 81, 2, b'\"peugeot 505s turbo diesel\"')\n",
      " (30.7, 6, 145. ,  76, 3160, 19.6, 81, 2, b'\"volvo diesel\"')\n",
      " (25.4, 6, 168. , 116, 2900, 12.6, 81, 3, b'\"toyota cressida\"')\n",
      " (24.2, 6, 146. , 120, 2930, 13.8, 81, 3, b'\"datsun 810 maxima\"')\n",
      " (22.4, 6, 231. , 110, 3415, 15.8, 81, 1, b'\"buick century\"')\n",
      " (26.6, 8, 350. , 105, 3725, 19. , 81, 1, b'\"oldsmobile cutlass ls\"')\n",
      " (20.2, 6, 200. ,  88, 3060, 17.1, 81, 1, b'\"ford granada gl\"')\n",
      " (17.6, 6, 225. ,  85, 3465, 16.6, 81, 1, b'\"chrysler lebaron salon\"')\n",
      " (28. , 4, 112. ,  88, 2605, 19.6, 82, 1, b'\"chevrolet cavalier\"')\n",
      " (27. , 4, 112. ,  88, 2640, 18.6, 82, 1, b'\"chevrolet cavalier wagon\"')\n",
      " (34. , 4, 112. ,  88, 2395, 18. , 82, 1, b'\"chevrolet cavalier 2-door\"')\n",
      " (31. , 4, 112. ,  85, 2575, 16.2, 82, 1, b'\"pontiac j2000 se hatchback\"')\n",
      " (29. , 4, 135. ,  84, 2525, 16. , 82, 1, b'\"dodge aries se\"')\n",
      " (27. , 4, 151. ,  90, 2735, 18. , 82, 1, b'\"pontiac phoenix\"')\n",
      " (24. , 4, 140. ,  92, 2865, 16.4, 82, 1, b'\"ford fairmont futura\"')\n",
      " (36. , 4, 105. ,  74, 1980, 15.3, 82, 2, b'\"volkswagen rabbit l\"')\n",
      " (37. , 4,  91. ,  68, 2025, 18.2, 82, 3, b'\"mazda glc custom l\"')\n",
      " (31. , 4,  91. ,  68, 1970, 17.6, 82, 3, b'\"mazda glc custom\"')\n",
      " (38. , 4, 105. ,  63, 2125, 14.7, 82, 1, b'\"plymouth horizon miser\"')\n",
      " (36. , 4,  98. ,  70, 2125, 17.3, 82, 1, b'\"mercury lynx l\"')\n",
      " (36. , 4, 120. ,  88, 2160, 14.5, 82, 3, b'\"nissan stanza xe\"')\n",
      " (36. , 4, 107. ,  75, 2205, 14.5, 82, 3, b'\"honda accord\"')\n",
      " (34. , 4, 108. ,  70, 2245, 16.9, 82, 3, b'\"toyota corolla\"')\n",
      " (38. , 4,  91. ,  67, 1965, 15. , 82, 3, b'\"honda civic\"')\n",
      " (32. , 4,  91. ,  67, 1965, 15.7, 82, 3, b'\"honda civic (auto)\"')\n",
      " (38. , 4,  91. ,  67, 1995, 16.2, 82, 3, b'\"datsun 310 gx\"')\n",
      " (25. , 6, 181. , 110, 2945, 16.4, 82, 1, b'\"buick century limited\"')\n",
      " (38. , 6, 262. ,  85, 3015, 17. , 82, 1, b'\"oldsmobile cutlass ciera (diesel)\"')\n",
      " (26. , 4, 156. ,  92, 2585, 14.5, 82, 1, b'\"chrysler lebaron medallion\"')\n",
      " (22. , 6, 232. , 112, 2835, 14.7, 82, 1, b'\"ford granada l\"')\n",
      " (32. , 4, 144. ,  96, 2665, 13.9, 82, 3, b'\"toyota celica gt\"')\n",
      " (36. , 4, 135. ,  84, 2370, 13. , 82, 1, b'\"dodge charger 2.2\"')\n",
      " (27. , 4, 151. ,  90, 2950, 17.3, 82, 1, b'\"chevrolet camaro\"')\n",
      " (27. , 4, 140. ,  86, 2790, 15.6, 82, 1, b'\"ford mustang gl\"')\n",
      " (44. , 4,  97. ,  52, 2130, 24.6, 82, 2, b'\"vw pickup\"')\n",
      " (32. , 4, 135. ,  84, 2295, 11.6, 82, 1, b'\"dodge rampage\"')\n",
      " (28. , 4, 120. ,  79, 2625, 18.6, 82, 1, b'\"ford ranger\"')\n",
      " (31. , 4, 119. ,  82, 2720, 19.4, 82, 1, b'\"chevy s-10\"')]\n"
     ]
    }
   ],
   "source": [
    "# load data into memory from file\n",
    "d = np.load('data2.npz')\n",
    "\n",
    "# check number of arrays/files\n",
    "print(d.files)\n",
    "\n",
    "# extract specific array\n",
    "print(d['arr_1'])"
   ]
  },
  {
   "cell_type": "markdown",
   "metadata": {},
   "source": [
    "### Concatenate Arrays\n",
    "* 3 major methods of vertical concatenation; np.concatenate, np.vstack, np.r_\n",
    "* 3 major methods of horizontal concatenation; np.concatenate, np.hstack, np.c_"
   ]
  },
  {
   "cell_type": "code",
   "execution_count": 149,
   "metadata": {},
   "outputs": [
    {
     "data": {
      "text/plain": [
       "array([[0., 0., 0., 0.],\n",
       "       [0., 0., 0., 0.],\n",
       "       [0., 0., 0., 0.],\n",
       "       [0., 0., 0., 0.],\n",
       "       [1., 1., 1., 1.],\n",
       "       [1., 1., 1., 1.],\n",
       "       [1., 1., 1., 1.],\n",
       "       [1., 1., 1., 1.]])"
      ]
     },
     "execution_count": 149,
     "metadata": {},
     "output_type": "execute_result"
    }
   ],
   "source": [
    "# create dummy arrays\n",
    "arr1 = np.zeros([4,4])\n",
    "arr2 = np.ones([4,4])\n",
    "\n",
    "# concatenate by rows\n",
    "np.concatenate([arr1, arr2], axis=0) # 0 axis means rows, this is default\n",
    "np.vstack([arr1, arr2])\n",
    "np.r_[arr1, arr2]"
   ]
  },
  {
   "cell_type": "code",
   "execution_count": 153,
   "metadata": {},
   "outputs": [
    {
     "data": {
      "text/plain": [
       "array([[0., 0., 0., 0., 1., 1., 1., 1.],\n",
       "       [0., 0., 0., 0., 1., 1., 1., 1.],\n",
       "       [0., 0., 0., 0., 1., 1., 1., 1.],\n",
       "       [0., 0., 0., 0., 1., 1., 1., 1.]])"
      ]
     },
     "execution_count": 153,
     "metadata": {},
     "output_type": "execute_result"
    }
   ],
   "source": [
    "# 3 methods of horizontal concatenation\n",
    "np.concatenate([arr1, arr2], axis=1) # 1 axis means columns\n",
    "np.hstack([arr1, arr2])\n",
    "np.c_[arr1, arr2]"
   ]
  },
  {
   "cell_type": "markdown",
   "metadata": {},
   "source": [
    "### Sorting Arrays"
   ]
  },
  {
   "cell_type": "code",
   "execution_count": 155,
   "metadata": {},
   "outputs": [
    {
     "data": {
      "text/plain": [
       "array([[6, 5, 5, 7, 5],\n",
       "       [5, 4, 5, 5, 9],\n",
       "       [5, 4, 8, 6, 6],\n",
       "       [1, 2, 6, 4, 1],\n",
       "       [6, 1, 2, 3, 5],\n",
       "       [3, 1, 4, 3, 1],\n",
       "       [8, 6, 1, 3, 8],\n",
       "       [3, 3, 4, 4, 3],\n",
       "       [4, 5, 2, 3, 2],\n",
       "       [5, 7, 9, 3, 4]])"
      ]
     },
     "execution_count": 155,
     "metadata": {},
     "output_type": "execute_result"
    }
   ],
   "source": [
    "# create dummy array\n",
    "arr = np.random.randint(1, 10, size=[10,5]) # size is rows and cols\n",
    "arr"
   ]
  },
  {
   "cell_type": "code",
   "execution_count": 156,
   "metadata": {
    "scrolled": true
   },
   "outputs": [
    {
     "data": {
      "text/plain": [
       "array([[5, 5, 5, 6, 7],\n",
       "       [4, 5, 5, 5, 9],\n",
       "       [4, 5, 6, 6, 8],\n",
       "       [1, 1, 2, 4, 6],\n",
       "       [1, 2, 3, 5, 6],\n",
       "       [1, 1, 3, 3, 4],\n",
       "       [1, 3, 6, 8, 8],\n",
       "       [3, 3, 3, 4, 4],\n",
       "       [2, 2, 3, 4, 5],\n",
       "       [3, 4, 5, 7, 9]])"
      ]
     },
     "execution_count": 156,
     "metadata": {},
     "output_type": "execute_result"
    }
   ],
   "source": [
    "# sort array (sorts within rows only)\n",
    "np.sort(arr)"
   ]
  },
  {
   "cell_type": "markdown",
   "metadata": {},
   "source": [
    "* The below code sorts both rows and columns, however it doesn't retain whole rows, so the first row below (11131) doesn't exist anywhere in the above code."
   ]
  },
  {
   "cell_type": "code",
   "execution_count": 157,
   "metadata": {},
   "outputs": [
    {
     "data": {
      "text/plain": [
       "array([[1, 1, 1, 3, 1],\n",
       "       [3, 1, 2, 3, 1],\n",
       "       [3, 2, 2, 3, 2],\n",
       "       [4, 3, 4, 3, 3],\n",
       "       [5, 4, 4, 3, 4],\n",
       "       [5, 4, 5, 4, 5],\n",
       "       [5, 5, 5, 4, 5],\n",
       "       [6, 5, 6, 5, 6],\n",
       "       [6, 6, 8, 6, 8],\n",
       "       [8, 7, 9, 7, 9]])"
      ]
     },
     "execution_count": 157,
     "metadata": {},
     "output_type": "execute_result"
    }
   ],
   "source": [
    "# sort array (sort rows and columns BUT loses row and column contents)\n",
    "np.sort(arr, axis=0) # axis 0 means sort rows"
   ]
  },
  {
   "cell_type": "markdown",
   "metadata": {},
   "source": [
    "* To solve this issue, we can separately get the sort order of whatever we want to sort by (in this case, the first column).\n",
    "* Then we apply that sort order to the array to sort it without losing row integrity."
   ]
  },
  {
   "cell_type": "code",
   "execution_count": 163,
   "metadata": {},
   "outputs": [
    {
     "data": {
      "text/plain": [
       "array([3, 5, 7, 8, 1, 2, 9, 0, 4, 6], dtype=int64)"
      ]
     },
     "execution_count": 163,
     "metadata": {},
     "output_type": "execute_result"
    }
   ],
   "source": [
    "# sort first column only (showing index order of each item)\n",
    "sorted_index = arr[:,0].argsort()\n",
    "sorted_index"
   ]
  },
  {
   "cell_type": "code",
   "execution_count": 162,
   "metadata": {},
   "outputs": [
    {
     "data": {
      "text/plain": [
       "array([[1, 2, 6, 4, 1],\n",
       "       [3, 1, 4, 3, 1],\n",
       "       [3, 3, 4, 4, 3],\n",
       "       [4, 5, 2, 3, 2],\n",
       "       [5, 4, 5, 5, 9],\n",
       "       [5, 4, 8, 6, 6],\n",
       "       [5, 7, 9, 3, 4],\n",
       "       [6, 5, 5, 7, 5],\n",
       "       [6, 1, 2, 3, 5],\n",
       "       [8, 6, 1, 3, 8]])"
      ]
     },
     "execution_count": 162,
     "metadata": {},
     "output_type": "execute_result"
    }
   ],
   "source": [
    "# sort array based on first column order\n",
    "arr[sorted_index]"
   ]
  },
  {
   "cell_type": "markdown",
   "metadata": {},
   "source": [
    "### Working with Dates"
   ]
  },
  {
   "cell_type": "code",
   "execution_count": 165,
   "metadata": {},
   "outputs": [
    {
     "data": {
      "text/plain": [
       "numpy.datetime64('2020-05-28')"
      ]
     },
     "execution_count": 165,
     "metadata": {},
     "output_type": "execute_result"
    }
   ],
   "source": [
    "# create date\n",
    "d = np.datetime64('2020-05-28')\n",
    "d"
   ]
  },
  {
   "cell_type": "code",
   "execution_count": 166,
   "metadata": {},
   "outputs": [
    {
     "data": {
      "text/plain": [
       "numpy.datetime64('2020-05-29')"
      ]
     },
     "execution_count": 166,
     "metadata": {},
     "output_type": "execute_result"
    }
   ],
   "source": [
    "# increment date by 1 day\n",
    "d + 1"
   ]
  },
  {
   "cell_type": "code",
   "execution_count": 168,
   "metadata": {},
   "outputs": [
    {
     "data": {
      "text/plain": [
       "numpy.datetime64('2020-05-28T15:00:00')"
      ]
     },
     "execution_count": 168,
     "metadata": {},
     "output_type": "execute_result"
    }
   ],
   "source": [
    "# create date with hours\n",
    "d = np.datetime64('2020-05-28 15:00:00')\n",
    "d"
   ]
  },
  {
   "cell_type": "code",
   "execution_count": 170,
   "metadata": {},
   "outputs": [
    {
     "data": {
      "text/plain": [
       "numpy.datetime64('2020-05-28T15:16:40')"
      ]
     },
     "execution_count": 170,
     "metadata": {},
     "output_type": "execute_result"
    }
   ],
   "source": [
    "# add 16m40s (16 * 60 + 40)\n",
    "d + 1000 # adding seconds, smallest unit in datetime value"
   ]
  },
  {
   "cell_type": "code",
   "execution_count": 175,
   "metadata": {
    "scrolled": true
   },
   "outputs": [
    {
     "data": {
      "text/plain": [
       "numpy.datetime64('2020-05-28T15:01:00')"
      ]
     },
     "execution_count": 175,
     "metadata": {},
     "output_type": "execute_result"
    }
   ],
   "source": [
    "# create single day\n",
    "oneday = np.timedelta64(1, 'D') # d for day\n",
    "\n",
    "# add to datetime\n",
    "d + oneday\n",
    "\n",
    "# create one minute\n",
    "oneminute = np.timedelta64(1, 'm')\n",
    "\n",
    "# add to datetime\n",
    "d + oneminute"
   ]
  },
  {
   "cell_type": "markdown",
   "metadata": {},
   "source": [
    "__NOTE:__\n",
    "* A standard range and a numpy arange are broadly the same thing, the main difference is that a numpy range (arange) is far quicker."
   ]
  },
  {
   "cell_type": "code",
   "execution_count": 177,
   "metadata": {},
   "outputs": [
    {
     "data": {
      "text/plain": [
       "array(['2020-01-01', '2020-01-02'], dtype='datetime64[D]')"
      ]
     },
     "execution_count": 177,
     "metadata": {},
     "output_type": "execute_result"
    }
   ],
   "source": [
    "# create a daterange\n",
    "dates = np.arange(np.datetime64('2020-01-01'), np.datetime64('2020-05-28'))\n",
    "dates[:2]"
   ]
  },
  {
   "cell_type": "markdown",
   "metadata": {},
   "source": [
    "### Advanced Numpy Functions\n",
    "* The below function is basic and runs quickly on a single number input.\n",
    "* However, if we were to apply this to a huge array, we want an efficient way to do that - __vectorize__."
   ]
  },
  {
   "cell_type": "code",
   "execution_count": 181,
   "metadata": {},
   "outputs": [
    {
     "data": {
      "text/plain": [
       "121"
      ]
     },
     "execution_count": 181,
     "metadata": {},
     "output_type": "execute_result"
    }
   ],
   "source": [
    "# define basic function/method\n",
    "def foo(x):\n",
    "    if x%2 == 1:\n",
    "        return x**2\n",
    "    else:\n",
    "        return x/2\n",
    "    \n",
    "# call function on single int\n",
    "foo(11)"
   ]
  },
  {
   "cell_type": "code",
   "execution_count": 184,
   "metadata": {},
   "outputs": [
    {
     "data": {
      "text/plain": [
       "array([[ 3., 25., 25., 49., 25.],\n",
       "       [25.,  2., 25., 25., 81.],\n",
       "       [25.,  2.,  4.,  3.,  3.],\n",
       "       [ 1.,  1.,  3.,  2.,  1.],\n",
       "       [ 3.,  1.,  1.,  9., 25.],\n",
       "       [ 9.,  1.,  2.,  9.,  1.],\n",
       "       [ 4.,  3.,  1.,  9.,  4.],\n",
       "       [ 9.,  9.,  2.,  2.,  9.],\n",
       "       [ 2., 25.,  1.,  9.,  1.],\n",
       "       [25., 49., 81.,  9.,  2.]])"
      ]
     },
     "execution_count": 184,
     "metadata": {},
     "output_type": "execute_result"
    }
   ],
   "source": [
    "# call fucntion using vectorize\n",
    "foo_v = np.vectorize(foo, otypes=[float])\n",
    "\n",
    "# apply function to array using vectorize\n",
    "foo_v(arr)"
   ]
  }
 ],
 "metadata": {
  "kernelspec": {
   "display_name": "Python 3",
   "language": "python",
   "name": "python3"
  },
  "language_info": {
   "codemirror_mode": {
    "name": "ipython",
    "version": 3
   },
   "file_extension": ".py",
   "mimetype": "text/x-python",
   "name": "python",
   "nbconvert_exporter": "python",
   "pygments_lexer": "ipython3",
   "version": "3.7.6"
  }
 },
 "nbformat": 4,
 "nbformat_minor": 4
}
