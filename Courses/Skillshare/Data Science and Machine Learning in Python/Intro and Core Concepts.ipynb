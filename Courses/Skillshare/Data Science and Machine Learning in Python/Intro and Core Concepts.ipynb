{
 "cells": [
  {
   "cell_type": "markdown",
   "metadata": {},
   "source": [
    "# Basics\n",
    "## 1) Mean, Median and Mode\n",
    "### Mean vs. Median"
   ]
  },
  {
   "cell_type": "code",
   "execution_count": 19,
   "metadata": {
    "scrolled": true
   },
   "outputs": [
    {
     "data": {
      "text/plain": [
       "26848.337960928977"
      ]
     },
     "execution_count": 19,
     "metadata": {},
     "output_type": "execute_result"
    }
   ],
   "source": [
    "# load libs\n",
    "import numpy as np\n",
    "\n",
    "# random data and mean\n",
    "incomes = np.random.normal(27000, 15000, 10000) # normal dist\n",
    "np.mean(incomes)"
   ]
  },
  {
   "cell_type": "code",
   "execution_count": 20,
   "metadata": {},
   "outputs": [
    {
     "data": {
      "image/png": "[encoded data removed]",
      "text/plain": [
       "<Figure size 432x288 with 1 Axes>"
      ]
     },
     "metadata": {
      "needs_background": "light"
     },
     "output_type": "display_data"
    }
   ],
   "source": [
    "# show plots in notebook\n",
    "%matplotlib inline\n",
    "\n",
    "# load libs\n",
    "import matplotlib.pyplot as plt\n",
    "\n",
    "# plot histogram with 50 buckets\n",
    "plt.hist(incomes, 50)\n",
    "plt.show()"
   ]
  },
  {
   "cell_type": "code",
   "execution_count": 3,
   "metadata": {},
   "outputs": [
    {
     "data": {
      "text/plain": [
       "27091.858854778468"
      ]
     },
     "execution_count": 3,
     "metadata": {},
     "output_type": "execute_result"
    }
   ],
   "source": [
    "np.median(incomes)"
   ]
  },
  {
   "cell_type": "code",
   "execution_count": 4,
   "metadata": {},
   "outputs": [
    {
     "data": {
      "text/plain": [
       "26983.27527726109"
      ]
     },
     "execution_count": 4,
     "metadata": {},
     "output_type": "execute_result"
    }
   ],
   "source": [
    "np.mean(incomes)"
   ]
  },
  {
   "cell_type": "markdown",
   "metadata": {},
   "source": [
    "* median and mean are broadly the same because our data is normally distributed\n",
    "* however, if we add in an outlier, this will increase the mean significantly but the median should barely change"
   ]
  },
  {
   "cell_type": "code",
   "execution_count": 7,
   "metadata": {},
   "outputs": [
    {
     "data": {
      "text/plain": [
       "27092.473324634397"
      ]
     },
     "execution_count": 7,
     "metadata": {},
     "output_type": "execute_result"
    }
   ],
   "source": [
    "# add outlier\n",
    "incomes = np.append(incomes, [1000000000])\n",
    "np.median(incomes)"
   ]
  },
  {
   "cell_type": "code",
   "execution_count": 8,
   "metadata": {},
   "outputs": [
    {
     "data": {
      "text/plain": [
       "126970.57821943915"
      ]
     },
     "execution_count": 8,
     "metadata": {},
     "output_type": "execute_result"
    }
   ],
   "source": [
    "np.mean(incomes)"
   ]
  },
  {
   "cell_type": "markdown",
   "metadata": {},
   "source": [
    "### Mode"
   ]
  },
  {
   "cell_type": "code",
   "execution_count": 11,
   "metadata": {},
   "outputs": [
    {
     "data": {
      "text/plain": [
       "array([45, 86, 76, 26, 88, 24, 47, 56, 42, 58, 48, 21, 34, 48, 46, 83, 33,\n",
       "       80, 70, 25, 39, 30, 18, 46, 78, 44, 34, 34, 74, 76, 50, 33, 77, 61,\n",
       "       58, 63, 62, 68, 40, 64, 49, 55, 24, 29, 61, 60, 25, 47, 60, 64, 79,\n",
       "       73, 21, 62, 78, 68, 50, 49, 43, 77, 44, 82, 87, 52, 55, 80, 68, 21,\n",
       "       78, 66, 44, 36, 87, 19, 56, 49, 56, 74, 89, 52, 87, 35, 27, 83, 31,\n",
       "       84, 18, 26, 39, 72, 42, 48, 36, 41, 77, 48, 76, 78, 78, 55, 44, 78,\n",
       "       40, 78, 61, 43, 53, 38, 47, 70, 82, 79, 61, 41, 82, 68, 46, 82, 73,\n",
       "       52, 57, 80, 45, 89, 83, 47, 61, 47, 53, 75, 69, 76, 49, 86, 30, 64,\n",
       "       66, 82, 57, 89, 50, 23, 66, 31, 58, 45, 72, 23, 39, 40, 51, 76, 87,\n",
       "       72, 48, 39, 72, 61, 81, 46, 23, 51, 55, 46, 70, 79, 57, 18, 85, 31,\n",
       "       54, 37, 67, 76, 81, 75, 51, 27, 22, 65, 55, 30, 55, 58, 27, 82, 30,\n",
       "       83, 68, 24, 23, 42, 19, 52, 77, 75, 75, 55, 64, 52, 21, 49, 59, 88,\n",
       "       73, 31, 79, 58, 65, 18, 40, 77, 27, 28, 72, 79, 48, 25, 70, 81, 87,\n",
       "       38, 39, 43, 77, 40, 84, 36, 85, 43, 49, 62, 74, 57, 54, 63, 44, 67,\n",
       "       23, 58, 18, 25, 22, 48, 28, 75, 34, 40, 42, 63, 30, 34, 51, 55, 51,\n",
       "       64, 65, 82, 45, 21, 50, 46, 61, 36, 60, 30, 88, 46, 53, 56, 67, 53,\n",
       "       53, 19, 46, 19, 73, 46, 56, 18, 43, 61, 84, 24, 64, 53, 57, 26, 86,\n",
       "       18, 83, 53, 60, 86, 59, 65, 53, 85, 59, 53, 73, 27, 27, 26, 65, 60,\n",
       "       30, 85, 74, 47, 51, 74, 77, 74, 68, 62, 69, 69, 42, 89, 71, 62, 28,\n",
       "       71, 79, 57, 38, 37, 28, 36, 55, 64, 64, 87, 19, 52, 76, 49, 83, 88,\n",
       "       69, 46, 22, 89, 33, 48, 66, 77, 52, 18, 43, 78, 74, 66, 50, 49, 57,\n",
       "       86, 52, 35, 52, 30, 44, 42, 23, 62, 26, 71, 44, 32, 22, 39, 25, 89,\n",
       "       63, 18, 88, 22, 20, 70, 45, 20, 64, 77, 77, 73, 50, 80, 36, 42, 59,\n",
       "       84, 59, 27, 39, 84, 39, 41, 21, 44, 24, 73, 85, 51, 69, 64, 20, 47,\n",
       "       60, 61, 46, 42, 77, 28, 44, 73, 27, 77, 68, 25, 19, 41, 46, 26, 51,\n",
       "       53, 65, 60, 80, 55, 87, 35, 41, 58, 49, 53, 28, 26, 30, 47, 35, 63,\n",
       "       27, 55, 67, 85, 68, 43, 88, 41, 42, 35, 63, 87, 41, 21, 68, 59, 61,\n",
       "       51, 73, 61, 26, 46, 62, 71, 81, 87, 79, 85, 85, 35, 81, 58, 76, 33,\n",
       "       63, 80, 58, 22, 76, 44, 78, 48, 53, 32, 39, 48, 56, 80, 48, 77, 56,\n",
       "       84, 22, 27, 28, 26, 32, 65])"
      ]
     },
     "execution_count": 11,
     "metadata": {},
     "output_type": "execute_result"
    }
   ],
   "source": [
    "# create random dataset\n",
    "ages = np.random.randint(18, high=90, size=500) # 500 numbers between 18 and 90\n",
    "ages"
   ]
  },
  {
   "cell_type": "code",
   "execution_count": 12,
   "metadata": {},
   "outputs": [
    {
     "data": {
      "text/plain": [
       "ModeResult(mode=array([46]), count=array([13]))"
      ]
     },
     "execution_count": 12,
     "metadata": {},
     "output_type": "execute_result"
    }
   ],
   "source": [
    "# load libs\n",
    "from scipy import stats # alternate way of getting mean/median/mode\n",
    "stats.mode(ages) # shows mode and count of this value in dataset"
   ]
  },
  {
   "cell_type": "markdown",
   "metadata": {},
   "source": [
    "### Exercise\n",
    "NOTE:\n",
    "* 'np.random.normal' takes 3 args; loc, scale and size\n",
    "* loc is the mean of the distribution (i.e. where the middle of the bell curve is for a normal distribution). If you don't specify this it'll be 0\n",
    "* scale is the standard deviation of the data (i.e. how spread out the data is) and this defaults to 1 if not specified\n",
    "* size dictates how many values make up your distribution. Providing a single integer (e.g. 1000) means 1000 datapoints in a 1 dimensional numpy array will be used. You can also pass 2, 3 and more dimensional numpy arrays (e.g. via (2, 3) in the size argument"
   ]
  },
  {
   "cell_type": "code",
   "execution_count": 21,
   "metadata": {},
   "outputs": [
    {
     "data": {
      "image/png": "[encoded data removed]",
      "text/plain": [
       "<Figure size 432x288 with 1 Axes>"
      ]
     },
     "metadata": {
      "needs_background": "light"
     },
     "output_type": "display_data"
    }
   ],
   "source": [
    "# import libs\n",
    "import numpy as np\n",
    "import matplotlib.pyplot as plt\n",
    "\n",
    "# create dummy data\n",
    "incomes = np.random.normal(100.0, 20.0, 10000)\n",
    "\n",
    "# show data\n",
    "plt.hist(incomes, 50)\n",
    "plt.show()"
   ]
  },
  {
   "cell_type": "code",
   "execution_count": 22,
   "metadata": {},
   "outputs": [
    {
     "data": {
      "text/plain": [
       "99.85669988151625"
      ]
     },
     "execution_count": 22,
     "metadata": {},
     "output_type": "execute_result"
    }
   ],
   "source": [
    "np.median(incomes)"
   ]
  },
  {
   "cell_type": "code",
   "execution_count": 23,
   "metadata": {},
   "outputs": [
    {
     "data": {
      "text/plain": [
       "99.77109844651146"
      ]
     },
     "execution_count": 23,
     "metadata": {},
     "output_type": "execute_result"
    }
   ],
   "source": [
    "np.mean(incomes)"
   ]
  },
  {
   "cell_type": "code",
   "execution_count": 24,
   "metadata": {},
   "outputs": [
    {
     "data": {
      "text/plain": [
       "ModeResult(mode=array([8.51308283]), count=array([1]))"
      ]
     },
     "execution_count": 24,
     "metadata": {},
     "output_type": "execute_result"
    }
   ],
   "source": [
    "# load libs\n",
    "from scipy import stats\n",
    "\n",
    "# get mode\n",
    "stats.mode(incomes) # not useful for continuous/float data"
   ]
  },
  {
   "cell_type": "markdown",
   "metadata": {},
   "source": [
    "## Standard Deviation and Variance\n",
    "* In the below example you can see that when you add or remove one standard deviation from the mean (e.g. 80 or 120) the values start to drop off a lot and this is visual proof that data points lying outside 1 s.d. from the mean are more like outliers"
   ]
  },
  {
   "cell_type": "code",
   "execution_count": 41,
   "metadata": {
    "scrolled": false
   },
   "outputs": [
    {
     "data": {
      "image/png": "[encoded data removed]",
      "text/plain": [
       "<Figure size 432x288 with 1 Axes>"
      ]
     },
     "metadata": {
      "needs_background": "light"
     },
     "output_type": "display_data"
    }
   ],
   "source": [
    "# load libs\n",
    "import numpy as np\n",
    "import matplotlib.pyplot as plt\n",
    "\n",
    "# generate dummy data\n",
    "incomes = np.random.normal(100.0, 20.0, 10000)\n",
    "\n",
    "# plot data\n",
    "plt.hist(incomes, 50)\n",
    "plt.show()"
   ]
  },
  {
   "cell_type": "markdown",
   "metadata": {},
   "source": [
    "* Note that the below standard deviation is very close to 20 because of what we specified above (i.e. std of 20.0)"
   ]
  },
  {
   "cell_type": "code",
   "execution_count": 42,
   "metadata": {},
   "outputs": [
    {
     "data": {
      "text/plain": [
       "19.95870355282592"
      ]
     },
     "execution_count": 42,
     "metadata": {},
     "output_type": "execute_result"
    }
   ],
   "source": [
    "# really easy to get standard deviation...\n",
    "incomes.std()"
   ]
  },
  {
   "cell_type": "code",
   "execution_count": 43,
   "metadata": {},
   "outputs": [
    {
     "data": {
      "text/plain": [
       "398.34984750958597"
      ]
     },
     "execution_count": 43,
     "metadata": {},
     "output_type": "execute_result"
    }
   ],
   "source": [
    "# ... and variance (simply the square of s.d.)\n",
    "incomes.var()"
   ]
  },
  {
   "cell_type": "markdown",
   "metadata": {},
   "source": [
    "## Distribution Examples\n",
    "### a) Uniform Distribution\n",
    "* You would expect a probability of 0% below -10 or above 10 with a constant/even probability of every value between -10 and 10"
   ]
  },
  {
   "cell_type": "code",
   "execution_count": 44,
   "metadata": {},
   "outputs": [
    {
     "data": {
      "image/png": "[encoded data removed]",
      "text/plain": [
       "<Figure size 432x288 with 1 Axes>"
      ]
     },
     "metadata": {
      "needs_background": "light"
     },
     "output_type": "display_data"
    }
   ],
   "source": [
    "# create uniform distribution (i.e. even probability of occurrence)\n",
    "values = np.random.uniform(-10.0, 10.0, 100000)\n",
    "plt.hist(values, 50)\n",
    "plt.show()"
   ]
  },
  {
   "cell_type": "markdown",
   "metadata": {},
   "source": [
    "### Normal / Gaussian\n",
    "* norm.pdf plots a range in a normal distribution, showing the probability density function"
   ]
  },
  {
   "cell_type": "code",
   "execution_count": 45,
   "metadata": {
    "scrolled": true
   },
   "outputs": [
    {
     "data": {
      "text/plain": [
       "[<matplotlib.lines.Line2D at 0x2a3920f8708>]"
      ]
     },
     "execution_count": 45,
     "metadata": {},
     "output_type": "execute_result"
    },
    {
     "data": {
      "image/png": "[encoded data removed]",
      "text/plain": [
       "<Figure size 432x288 with 1 Axes>"
      ]
     },
     "metadata": {
      "needs_background": "light"
     },
     "output_type": "display_data"
    }
   ],
   "source": [
    "# load libs\n",
    "from scipy.stats import norm\n",
    "\n",
    "# create numpy array\n",
    "x = np.arange(-3, 3, 0.001) # -3 to 3 with increments of 0.001\n",
    "\n",
    "#plot data\n",
    "plt.plot(x, norm.pdf(x)) # pdf = prob. density function"
   ]
  },
  {
   "cell_type": "markdown",
   "metadata": {},
   "source": [
    "* Note that in the below example, the normal distribution isn't perfect (a few peaks and troughs amongst the curve) due to randomness and uncertainty built into random number generation"
   ]
  },
  {
   "cell_type": "code",
   "execution_count": 46,
   "metadata": {},
   "outputs": [
    {
     "data": {
      "image/png": "[encoded data removed]",
      "text/plain": [
       "<Figure size 432x288 with 1 Axes>"
      ]
     },
     "metadata": {
      "needs_background": "light"
     },
     "output_type": "display_data"
    }
   ],
   "source": [
    "mu = 5.0 # mean\n",
    "sigma = 2.0 # standard deviation\n",
    "values = np.random.normal(mu, sigma, 10000) # create normal dist using values\n",
    "plt.hist(values, 50)\n",
    "plt.show()"
   ]
  },
  {
   "cell_type": "markdown",
   "metadata": {},
   "source": [
    "### Exponential PDF / \"Power Law\"\n",
    "* Use exponential probability distribution function to plot arange in an exponentially decreasing nature between two parameters"
   ]
  },
  {
   "cell_type": "code",
   "execution_count": 47,
   "metadata": {},
   "outputs": [
    {
     "data": {
      "text/plain": [
       "[<matplotlib.lines.Line2D at 0x2a3920f1808>]"
      ]
     },
     "execution_count": 47,
     "metadata": {},
     "output_type": "execute_result"
    },
    {
     "data": {
      "image/png": "[encoded data removed]",
      "text/plain": [
       "<Figure size 432x288 with 1 Axes>"
      ]
     },
     "metadata": {
      "needs_background": "light"
     },
     "output_type": "display_data"
    }
   ],
   "source": [
    "# load libs\n",
    "from scipy.stats import expon\n",
    "\n",
    "# plot exponential data\n",
    "x = np.arange(0, 10, 0.001)\n",
    "plt.plot(x, expon.pdf(x))"
   ]
  },
  {
   "cell_type": "markdown",
   "metadata": {},
   "source": [
    "### Binomial Probability Mass Function\n",
    "* Deals with discrete data"
   ]
  },
  {
   "cell_type": "code",
   "execution_count": 60,
   "metadata": {},
   "outputs": [
    {
     "data": {
      "text/plain": [
       "[<matplotlib.lines.Line2D at 0x2a393741848>]"
      ]
     },
     "execution_count": 60,
     "metadata": {},
     "output_type": "execute_result"
    },
    {
     "data": {
      "image/png": "[encoded data removed]",
      "text/plain": [
       "<Figure size 432x288 with 1 Axes>"
      ]
     },
     "metadata": {
      "needs_background": "light"
     },
     "output_type": "display_data"
    }
   ],
   "source": [
    "# load libs\n",
    "from scipy.stats import binom\n",
    "\n",
    "# plot data\n",
    "n, p = 10, 0.5 # shape parameters\n",
    "x = np.arange(0, 10, 0.001) # discrete values between 0 and 10\n",
    "plt.plot(x, binom.pmf(x, n, p)) # shape parameters shift it left and right"
   ]
  },
  {
   "cell_type": "markdown",
   "metadata": {},
   "source": [
    "### Poisson Probability Mass Function\n",
    "* Looks roughly like a normal distribution\n",
    "* Allows you to predict possibility of values based on existing data\n",
    "* Below we are saying that if the current mean/value is 500, what is the probability of getting other values\n",
    "* So for our range (between 400 and 600, there is a really small chance of getting 550 based on our model, but 500 is clearly the most likely value to get"
   ]
  },
  {
   "cell_type": "code",
   "execution_count": 61,
   "metadata": {},
   "outputs": [
    {
     "data": {
      "text/plain": [
       "[<matplotlib.lines.Line2D at 0x2a39376e388>]"
      ]
     },
     "execution_count": 61,
     "metadata": {},
     "output_type": "execute_result"
    },
    {
     "data": {
      "image/png": "[encoded data removed]",
      "text/plain": [
       "<Figure size 432x288 with 1 Axes>"
      ]
     },
     "metadata": {
      "needs_background": "light"
     },
     "output_type": "display_data"
    }
   ],
   "source": [
    "# load libs\n",
    "from scipy.stats import poisson\n",
    "\n",
    "# define and plot\n",
    "mu = 500 # mean/existing value\n",
    "x = np.arange(400, 600, 0.5) # data range/possible values\n",
    "plt.plot(x, poisson.pmf(x, mu))"
   ]
  },
  {
   "cell_type": "markdown",
   "metadata": {},
   "source": [
    "# Percentiles and Moments\n",
    "## Percentiles"
   ]
  },
  {
   "cell_type": "code",
   "execution_count": 62,
   "metadata": {},
   "outputs": [
    {
     "data": {
      "image/png": "[encoded data removed]",
      "text/plain": [
       "<Figure size 432x288 with 1 Axes>"
      ]
     },
     "metadata": {
      "needs_background": "light"
     },
     "output_type": "display_data"
    }
   ],
   "source": [
    "# create data (std of 0.5)\n",
    "vals = np.random.normal(0, 0.5, 10000) # 10,000 data points around 0 mean\n",
    "\n",
    "# plot data\n",
    "plt.hist(vals, 50)\n",
    "plt.show()"
   ]
  },
  {
   "cell_type": "code",
   "execution_count": 64,
   "metadata": {},
   "outputs": [
    {
     "data": {
      "text/plain": [
       "0.0026605804873129028"
      ]
     },
     "execution_count": 64,
     "metadata": {},
     "output_type": "execute_result"
    }
   ],
   "source": [
    "# check 50th percentile value (i.e. median, close to 0 here)\n",
    "np.percentile(vals, 50)"
   ]
  },
  {
   "cell_type": "code",
   "execution_count": 65,
   "metadata": {},
   "outputs": [
    {
     "data": {
      "text/plain": [
       "0.6266142628428079"
      ]
     },
     "execution_count": 65,
     "metadata": {},
     "output_type": "execute_result"
    }
   ],
   "source": [
    "# check 90th percentile value (i.e. 90% of data is less than this value)\n",
    "np.percentile(vals, 90)"
   ]
  },
  {
   "cell_type": "code",
   "execution_count": 67,
   "metadata": {},
   "outputs": [
    {
     "data": {
      "text/plain": [
       "-0.4149347120581577"
      ]
     },
     "execution_count": 67,
     "metadata": {},
     "output_type": "execute_result"
    }
   ],
   "source": [
    "# check 20th percentile value (i.e. 80% of data is more than this value)\n",
    "np.percentile(vals, 20)"
   ]
  },
  {
   "cell_type": "markdown",
   "metadata": {},
   "source": [
    "## Moments\n",
    "Moments are ways of describing the shape and form of a distribution:\n",
    "* First moment = mean\n",
    "* Second moment = variance\n",
    "* Third moment = skew\n",
    "* Fourth moment = kurtosis (height/sharpness of peak, thickness of tail)"
   ]
  },
  {
   "cell_type": "code",
   "execution_count": 68,
   "metadata": {},
   "outputs": [
    {
     "data": {
      "image/png": "[encoded data removed]",
      "text/plain": [
       "<Figure size 432x288 with 1 Axes>"
      ]
     },
     "metadata": {
      "needs_background": "light"
     },
     "output_type": "display_data"
    }
   ],
   "source": [
    "# create data\n",
    "vals = np.random.normal(0, 0.5, 10000)\n",
    "\n",
    "# plot data\n",
    "plt.hist(vals, 50)\n",
    "plt.show()"
   ]
  },
  {
   "cell_type": "code",
   "execution_count": 69,
   "metadata": {},
   "outputs": [
    {
     "data": {
      "text/plain": [
       "-0.003382427797783241"
      ]
     },
     "execution_count": 69,
     "metadata": {},
     "output_type": "execute_result"
    }
   ],
   "source": [
    "# first moment (just the mean)\n",
    "np.mean(vals)"
   ]
  },
  {
   "cell_type": "code",
   "execution_count": 70,
   "metadata": {},
   "outputs": [
    {
     "data": {
      "text/plain": [
       "0.25035981769981425"
      ]
     },
     "execution_count": 70,
     "metadata": {},
     "output_type": "execute_result"
    }
   ],
   "source": [
    "# second moment (just the variance)\n",
    "np.var(vals)"
   ]
  },
  {
   "cell_type": "code",
   "execution_count": 71,
   "metadata": {},
   "outputs": [
    {
     "data": {
      "text/plain": [
       "0.01170194407401217"
      ]
     },
     "execution_count": 71,
     "metadata": {},
     "output_type": "execute_result"
    }
   ],
   "source": [
    "# load libs\n",
    "import scipy.stats as sp\n",
    "\n",
    "# third moment (skew of data)\n",
    "sp.skew(vals) # slightly +ve as curve above is slightly to right of mean"
   ]
  },
  {
   "cell_type": "code",
   "execution_count": 72,
   "metadata": {},
   "outputs": [
    {
     "data": {
      "text/plain": [
       "0.0362146424258154"
      ]
     },
     "execution_count": 72,
     "metadata": {},
     "output_type": "execute_result"
    }
   ],
   "source": [
    "# fourth moment (kurtosis - basically 0 here for the normal distribution)\n",
    "sp.kurtosis(vals) # +ve as it's quite pointy with thinner tails"
   ]
  },
  {
   "cell_type": "markdown",
   "metadata": {},
   "source": [
    "## Covariance and Correlation\n",
    "* Identifying relationships between two (or more) variables\n",
    "* Covariance = variance from mean for 2 vectors (arrays, variables etc.), calculate the dot product of both variables diff. to mean and divide by sample size\n",
    "* Close to 0 means no relationship but it's hard to tell what a large covariance is, so divide by standard deviation of both vectors to normalise values and then you get correlation which ranges between -1 (negative correlation) and 1 (positive correlation) where 0 is no correlation\n",
    "* Remember that correlation does not imply causation, you need a controlled test to ensure correlation is due to the vectors involved, otherwise it could simply be another variable causing the correlation that you've not accounted for\n",
    "* In the below example, the covariance is close to 0 hence almost no relationship between these 2 things"
   ]
  },
  {
   "cell_type": "code",
   "execution_count": 11,
   "metadata": {},
   "outputs": [
    {
     "data": {
      "text/plain": [
       "0.22017546495086313"
      ]
     },
     "execution_count": 11,
     "metadata": {},
     "output_type": "execute_result"
    },
    {
     "data": {
      "image/png": "[encoded data removed]",
      "text/plain": [
       "<Figure size 432x288 with 1 Axes>"
      ]
     },
     "metadata": {
      "needs_background": "light"
     },
     "output_type": "display_data"
    }
   ],
   "source": [
    "# load libs\n",
    "import numpy as np\n",
    "import seaborn as sns\n",
    "import matplotlib.pyplot as plt\n",
    "%matplotlib inline\n",
    "\n",
    "# find difference to mean for each value in vector (deviation from mean)\n",
    "def de_mean(x):\n",
    "    xmean = np.mean(x)\n",
    "    return [xi - xmean for xi in x]\n",
    "\n",
    "# calculate covariance via dot product of 2 vectors diff. to mean / sample size\n",
    "def covariance(x, y):\n",
    "    n = len(x)\n",
    "    return np.dot(de_mean(x), de_mean(y)) / (n-1) # n-1 because sample not full pop\n",
    "\n",
    "# generate data via random normal distributions\n",
    "pageSpeeds = np.random.normal(3.0, 1.0, 1000)\n",
    "purchaseAmount = np.random.normal(50.0, 10.0, 1000)\n",
    "\n",
    "# scatter chart of both datasets/vectors\n",
    "plt.scatter(pageSpeeds, purchaseAmount)\n",
    "\n",
    "# calculate covariance of both\n",
    "covariance(pageSpeeds, purchaseAmount)"
   ]
  },
  {
   "cell_type": "code",
   "execution_count": 12,
   "metadata": {},
   "outputs": [
    {
     "data": {
      "text/plain": [
       "-10.274648498127783"
      ]
     },
     "execution_count": 12,
     "metadata": {},
     "output_type": "execute_result"
    },
    {
     "data": {
      "image/png": "[encoded data removed]",
      "text/plain": [
       "<Figure size 432x288 with 1 Axes>"
      ]
     },
     "metadata": {
      "needs_background": "light"
     },
     "output_type": "display_data"
    }
   ],
   "source": [
    "# make purchaseAmount directly related to pageSpeeds and check again\n",
    "purchaseAmount = np.random.normal(50.0, 10.0, 1000) / pageSpeeds\n",
    "plt.scatter(pageSpeeds, purchaseAmount)\n",
    "\n",
    "# covariance is much bigger this time but need correlation to understand size\n",
    "covariance(pageSpeeds, purchaseAmount)"
   ]
  },
  {
   "cell_type": "code",
   "execution_count": 14,
   "metadata": {},
   "outputs": [
    {
     "data": {
      "text/plain": [
       "-0.5716502840424911"
      ]
     },
     "execution_count": 14,
     "metadata": {},
     "output_type": "execute_result"
    }
   ],
   "source": [
    "# correlation is covariance divided by std of both vectors\n",
    "def correlation(x, y):\n",
    "    stddevx = x.std()\n",
    "    stddevy = y.std()\n",
    "    return covariance(x, y) / stddevx / stddevy # check for div by 0 normally\n",
    "\n",
    "# correlation ranges between -1 and 1 to show strength of correlation\n",
    "correlation(pageSpeeds, purchaseAmount)"
   ]
  },
  {
   "cell_type": "code",
   "execution_count": 16,
   "metadata": {},
   "outputs": [
    {
     "data": {
      "text/plain": [
       "array([[ 1.        , -0.57107863],\n",
       "       [-0.57107863,  1.        ]])"
      ]
     },
     "execution_count": 16,
     "metadata": {},
     "output_type": "execute_result"
    }
   ],
   "source": [
    "# numpy can do all of this correlation for us, the above was to show the logic\n",
    "# below array shows every possibly combo of variables included\n",
    "# hence perfect correlation between self variables\n",
    "np.corrcoef(pageSpeeds, purchaseAmount)"
   ]
  },
  {
   "cell_type": "code",
   "execution_count": 18,
   "metadata": {},
   "outputs": [
    {
     "data": {
      "text/plain": [
       "array([[ 1.01815521, -3.05446563],\n",
       "       [-3.05446563,  9.16339688]])"
      ]
     },
     "execution_count": 18,
     "metadata": {},
     "output_type": "execute_result"
    }
   ],
   "source": [
    "# it can also calculate covariance\n",
    "np.cov(pageSpeeds, purchaseAmount)"
   ]
  },
  {
   "cell_type": "markdown",
   "metadata": {},
   "source": [
    "## Conditional Probability\n",
    "* What are the chances of something, based on something else having already happened\n",
    "* A real world example is the Amazon feature \"people who bought X, also bought Y\"\n",
    "* If two events depend on each other, what's the probability that both will occur?\n",
    "* Below we've created a dummy scenario where the older you are, the more likely you are to buy and then running a conditional probability function to prove this"
   ]
  },
  {
   "cell_type": "code",
   "execution_count": 19,
   "metadata": {},
   "outputs": [],
   "source": [
    "# load libs\n",
    "import numpy as np\n",
    "from numpy import random\n",
    "\n",
    "# seed the random generator (same numbers each time)\n",
    "random.seed(0)\n",
    "\n",
    "# generate data\n",
    "totals = {20:0, 30:0, 40:0, 50:0, 60:0, 70:0}\n",
    "purchases = {20:0, 30:0, 40:0, 50:0, 60:0, 70:0}\n",
    "totalPurchases = 0 # track purchases regardless of age\n",
    "\n",
    "# iterate through 100000 \"people\"\n",
    "for _ in range(100000): # underscore shows you don't care what the value is\n",
    "    # randomly select from possible ages (p increases with age)\n",
    "    ageDecade = random.choice([20, 30, 40, 50, 60, 70])\n",
    "    \n",
    "    # calculate probability based on age\n",
    "    purchaseProbability = float(ageDecade) / 100.0\n",
    "    \n",
    "    # increment dictionary value against relevant key\n",
    "    totals[ageDecade] += 1\n",
    "    \n",
    "    # if random number < probability, increment count against age and purchases\n",
    "    # essentially rolling the dice, if value between 0 and 1 < p then purchase\n",
    "    if (random.random() < purchaseProbability):\n",
    "        totalPurchases += 1\n",
    "        purchases[ageDecade] += 1"
   ]
  },
  {
   "cell_type": "code",
   "execution_count": 20,
   "metadata": {},
   "outputs": [
    {
     "data": {
      "text/plain": [
       "{20: 16576, 30: 16619, 40: 16632, 50: 16805, 60: 16664, 70: 16704}"
      ]
     },
     "execution_count": 20,
     "metadata": {},
     "output_type": "execute_result"
    }
   ],
   "source": [
    "totals"
   ]
  },
  {
   "cell_type": "code",
   "execution_count": 21,
   "metadata": {},
   "outputs": [
    {
     "data": {
      "text/plain": [
       "{20: 3392, 30: 4974, 40: 6670, 50: 8319, 60: 9944, 70: 11713}"
      ]
     },
     "execution_count": 21,
     "metadata": {},
     "output_type": "execute_result"
    }
   ],
   "source": [
    "purchases"
   ]
  },
  {
   "cell_type": "code",
   "execution_count": 22,
   "metadata": {},
   "outputs": [
    {
     "data": {
      "text/plain": [
       "45012"
      ]
     },
     "execution_count": 22,
     "metadata": {},
     "output_type": "execute_result"
    }
   ],
   "source": [
    "totalPurchases"
   ]
  },
  {
   "cell_type": "markdown",
   "metadata": {},
   "source": [
    "P(E|F) where E is 'purchase' and F is 'you're in your 30s'. The probability of someone in their 30s buyding something is the % of how many 30 year olds bought something"
   ]
  },
  {
   "cell_type": "code",
   "execution_count": 23,
   "metadata": {},
   "outputs": [
    {
     "name": "stdout",
     "output_type": "stream",
     "text": [
      "Purchase | 30s): 0.29929598652145134\n"
     ]
    }
   ],
   "source": [
    "PEF = float(purchases[30]) / float(totals[30])\n",
    "print('Purchase | 30s): ' + str(PEF))"
   ]
  },
  {
   "cell_type": "markdown",
   "metadata": {},
   "source": [
    "P(F) is the probability of someone being in their 30s, which is just the % of 30 year olds in the sample"
   ]
  },
  {
   "cell_type": "code",
   "execution_count": 24,
   "metadata": {},
   "outputs": [
    {
     "name": "stdout",
     "output_type": "stream",
     "text": [
      "P(30s): 0.16619\n"
     ]
    }
   ],
   "source": [
    "PF = float(totals[30]) / 100000.0\n",
    "print('P(30s): ' + str(PF))"
   ]
  },
  {
   "cell_type": "markdown",
   "metadata": {},
   "source": [
    "P(E) is the change of someone buying something regardless of age"
   ]
  },
  {
   "cell_type": "code",
   "execution_count": 25,
   "metadata": {},
   "outputs": [
    {
     "name": "stdout",
     "output_type": "stream",
     "text": [
      "P(purchase): 0.45012\n"
     ]
    }
   ],
   "source": [
    "PE = float(totalPurchases) / 100000.0\n",
    "print('P(purchase): ' + str(PE))"
   ]
  },
  {
   "cell_type": "markdown",
   "metadata": {},
   "source": [
    "If E and F (i.e. chance of purchasing and chance of being 30) are related, then we would expect P(E|F) to be roughly the same as P(E). However, above we see that PE and PF are different to each other and PEF therefore a dependency is likely present\n",
    "\n",
    "P(E,F) is the chance of being both in your 30s and purchasing something (across the whole population)"
   ]
  },
  {
   "cell_type": "code",
   "execution_count": 26,
   "metadata": {},
   "outputs": [
    {
     "name": "stdout",
     "output_type": "stream",
     "text": [
      "P(30s, purchase): 0.04974\n"
     ]
    }
   ],
   "source": [
    "print(\"P(30s, purchase): \" + str(float(purchases[30]) / 100000.0))"
   ]
  },
  {
   "cell_type": "markdown",
   "metadata": {},
   "source": [
    "We can also look at the probability of both things separately (i.e. being 30 and purchasing as separate methods"
   ]
  },
  {
   "cell_type": "code",
   "execution_count": 27,
   "metadata": {},
   "outputs": [
    {
     "name": "stdout",
     "output_type": "stream",
     "text": [
      "P(30s) * P(Purchase): 0.07480544280000001\n"
     ]
    }
   ],
   "source": [
    "print('P(30s) * P(Purchase): ' + str(PE * PF))"
   ]
  },
  {
   "cell_type": "markdown",
   "metadata": {},
   "source": [
    "The two above methods are different ways of working out the probability of the combination of things happening. If the result of these two methods are significantly different (which they are in this case) then that's another clue you have a dependency\n",
    "\n",
    "As such, we can check if P(E|F) = P(E,F)/P(F) to suggest conditional probability"
   ]
  },
  {
   "cell_type": "code",
   "execution_count": 28,
   "metadata": {},
   "outputs": [
    {
     "name": "stdout",
     "output_type": "stream",
     "text": [
      "0.29929598652145134\n"
     ]
    }
   ],
   "source": [
    "print((purchases[30] / 100000.0) / PF)"
   ]
  },
  {
   "cell_type": "markdown",
   "metadata": {},
   "source": [
    "The above value is the same as the P(E|F) that we worked out earlier, therefore it is consistent with the above and suggests there is a dependency"
   ]
  },
  {
   "cell_type": "markdown",
   "metadata": {},
   "source": [
    "## Bayes' Theorem\n",
    "* Based on conditional probability\n",
    "* Probability of A given B is equal to p(A) times p(B|A) over P(B)\n",
    "* So let's say that A is being a drug dealer, B is testing positive for a drugs test\n",
    "* The probability of being a drug dealer given that you've tested positive for a drugs test is equal to the probability of being a drug dealer, multiplied by the probability of testing positive for a drug's test given that you're a drug dealer already, divided by the probability of testing positive for a drugs test\n",
    "* Key to remember that P(B|A) does not equal P(A|B)\n",
    "* This is very useful in areas such as scientific research, you have to ensure you're not getting false positives\n",
    "* It's a really useful test because it accurately calculates conditional probability in situations that might sound like high or low probability areas but are actually not the case because of the complex inter-workings of conditional probabilities"
   ]
  }
 ],
 "metadata": {
  "kernelspec": {
   "display_name": "Python 3",
   "language": "python",
   "name": "python3"
  },
  "language_info": {
   "codemirror_mode": {
    "name": "ipython",
    "version": 3
   },
   "file_extension": ".py",
   "mimetype": "text/x-python",
   "name": "python",
   "nbconvert_exporter": "python",
   "pygments_lexer": "ipython3",
   "version": "3.7.6"
  }
 },
 "nbformat": 4,
 "nbformat_minor": 4
}
