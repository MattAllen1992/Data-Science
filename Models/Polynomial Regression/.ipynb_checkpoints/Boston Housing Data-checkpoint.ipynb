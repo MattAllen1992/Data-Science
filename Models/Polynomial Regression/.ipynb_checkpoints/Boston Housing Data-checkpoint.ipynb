{
 "cells": [
  {
   "cell_type": "markdown",
   "metadata": {},
   "source": [
    "# Polynomial Regression\n",
    "## Non-Linear Relationships\n",
    "**Project Links:**\n",
    "* https://towardsdatascience.com/polynomial-regression-bbe8b9d97491\n",
    "* https://www.analyticsvidhya.com/blog/2020/03/polynomial-regression-python/\n",
    "\n",
    "Often, data will not be distributed in a simple linear fashion, as such we may have to run more complex polynomial functions (which introduce more turns/kinks depending on the complexity/number of degrees of the model). An example of a linear vs. polynomial regression on some dummy data can be seen below."
   ]
  },
  {
   "cell_type": "code",
   "execution_count": 33,
   "metadata": {},
   "outputs": [
    {
     "data": {
      "image/png": "[encoded data removed]",
      "text/plain": [
       "<Figure size 432x288 with 1 Axes>"
      ]
     },
     "metadata": {
      "needs_background": "light"
     },
     "output_type": "display_data"
    }
   ],
   "source": [
    "# load libraries\n",
    "import numpy as np\n",
    "import matplotlib.pyplot as plt\n",
    "\n",
    "# generate randomly distributed polynomial data\n",
    "np.random.seed(0)\n",
    "x = 2 - 3 * np.random.normal(0, 1, 20)\n",
    "y = x - 2 * (x ** 2) + 0.5 * (x ** 3) + np.random.normal(-3, 3, 20)\n",
    "\n",
    "# plot data\n",
    "plt.scatter(x,y, s=10)\n",
    "plt.show()"
   ]
  },
  {
   "cell_type": "markdown",
   "metadata": {},
   "source": [
    "The data appears to be non-linear, with a single or maybe double curve in it's distribution, but let's try using a linear regression to see how well a simplistic, straight-line model fits our dataset."
   ]
  },
  {
   "cell_type": "code",
   "execution_count": 34,
   "metadata": {},
   "outputs": [
    {
     "data": {
      "image/png": "[encoded data removed]",
      "text/plain": [
       "<Figure size 432x288 with 1 Axes>"
      ]
     },
     "metadata": {
      "needs_background": "light"
     },
     "output_type": "display_data"
    },
    {
     "name": "stdout",
     "output_type": "stream",
     "text": [
      "RMSE:  15.908242501429998\n",
      "r-squared:  0.6386750054827146\n"
     ]
    }
   ],
   "source": [
    "# generate randomly distributed polynomial data\n",
    "np.random.seed(0)\n",
    "x = 2 - 3 * np.random.normal(0, 1, 20)\n",
    "y = x - 2 * (x ** 2) + 0.5 * (x ** 3) + np.random.normal(-3, 3, 20)\n",
    "\n",
    "# transform data to fit model\n",
    "x = x[:, np.newaxis] # turn 1D array from one row to many rows\n",
    "y = y[:, np.newaxis] # literally add a dimension (1D to 2D)\n",
    "\n",
    "# load libraries\n",
    "from sklearn.linear_model import LinearRegression\n",
    "from sklearn.metrics import mean_squared_error, r2_score\n",
    "\n",
    "# build model object\n",
    "regr = LinearRegression()\n",
    "\n",
    "# fit model to data\n",
    "regr.fit(x, y)\n",
    "\n",
    "# predict regression line\n",
    "y_pred = regr.predict(x)\n",
    "\n",
    "# plot data\n",
    "plt.scatter(x, y, s=10)\n",
    "plt.plot(x, y_pred)\n",
    "plt.show()\n",
    "\n",
    "# calculate accuracy/error of regression line\n",
    "print(\"RMSE: \", mean_squared_error(y, y_pred, squared=False))\n",
    "print(\"r-squared: \", r2_score(y, y_pred))"
   ]
  },
  {
   "cell_type": "markdown",
   "metadata": {},
   "source": [
    "You can see that the straight line is under-fitting our data. It doesn't describe the main cluster of data particularly well and also fails to account for the extreme low values at the start of our x-values. The r-squared and RMSE scores show that it's not fitting our data particularly well too with r-squared at 64% whilst our RMSE (i.e. the standard deviation of our error) being quite high at 15.\n",
    "\n",
    "Instead, let's attempt to fit a polynomial function to our data and see how that improves the results. Here, we are simply increasing the complexity of the model. So whilst the formula of a straight line is\n",
    "\n",
    "$$ y = \\theta_0\\ + \\theta_1x\\ $$\n",
    "\n",
    "The equation of a polynomial (the simplest possible, a second degree function) could be\n",
    "\n",
    "$$ y = \\theta_0\\ + \\theta_1x\\ + ... + \\theta_nx^n\\ $$\n",
    "\n",
    "Here, $ \\theta_0\\ $ is the bias (more later), the other $ \\theta\\ $ values are the co-efficients of each feature and $ n $ is the degree of the polynomial\n",
    "\n",
    "**NOTE:** In truth, the above function is still linear as the parameters/co-efficients/weights of $\\theta\\$ and the single x feature are linear, it's just that the function we're fitting is quadratic in nature."
   ]
  },
  {
   "cell_type": "code",
   "execution_count": 49,
   "metadata": {
    "scrolled": true
   },
   "outputs": [
    {
     "name": "stdout",
     "output_type": "stream",
     "text": [
      "(PolyReg 2D) RMSE:  10.120437473614711\n",
      "(PolyReg 2D) r-squared:  0.8537647164420812\n"
     ]
    },
    {
     "data": {
      "image/png": "[encoded data removed]",
      "text/plain": [
       "<Figure size 432x288 with 1 Axes>"
      ]
     },
     "metadata": {
      "needs_background": "light"
     },
     "output_type": "display_data"
    }
   ],
   "source": [
    "# generate randomly distributed polynomial data\n",
    "np.random.seed(0)\n",
    "x = 2 - 3 * np.random.normal(0, 1, 20)\n",
    "y = x - 2 * (x ** 2) + 0.5 * (x ** 3) + np.random.normal(-3, 3, 20)\n",
    "\n",
    "# transform data to fit model\n",
    "x = x[:, np.newaxis] # turn 1D array from one row to many rows\n",
    "y = y[:, np.newaxis] # literally add a dimension (1D to 2D)\n",
    "\n",
    "# load libraries\n",
    "import operator\n",
    "from sklearn.preprocessing import PolynomialFeatures\n",
    "\n",
    "# define degree of polynomial (e.g. if degree is 2, generate [1, a, b, a^2, b^2, ab] matrix)\n",
    "polynomial_features = PolynomialFeatures(degree=2)\n",
    "\n",
    "# apply 2nd degree polynomial function to features\n",
    "x_poly_2 = polynomial_features.fit_transform(x)\n",
    "\n",
    "# build model object\n",
    "model = LinearRegression()\n",
    "\n",
    "# fit model to polynomial data\n",
    "model.fit(x_poly_2, y)\n",
    "\n",
    "# make polynomial predictions\n",
    "y_poly_pred_2 = model.predict(x_poly_2)\n",
    "\n",
    "# calculate error\n",
    "print(\"(PolyReg 2D) RMSE: \", mean_squared_error(y, y_poly_pred_2, squared=False))\n",
    "print(\"(PolyReg 2D) r-squared: \", r2_score(y, y_poly_pred_2))\n",
    "\n",
    "# plot data\n",
    "plt.scatter(x, y, s=10)\n",
    "sort_axis = operator.itemgetter(0) # sort the values of x before line plot\n",
    "sorted_zip = sorted(zip(x, y_poly_pred_2), key=sort_axis)\n",
    "x_2, y_poly_pred_2 = zip(*sorted_zip)\n",
    "plt.plot(x_2, y_poly_pred_2, color='m')\n",
    "plt.show()"
   ]
  },
  {
   "cell_type": "markdown",
   "metadata": {},
   "source": [
    "You can clearly see that the 2 degree polynomial is a better fit for the data than the linear regression, the RMSE and r-squared values back this up.\n",
    "\n",
    "An alternative way to running the code above is below, this method uses a pipeline instead to simplify the process. I've also adjusted the degrees of the polynomial to use a 3 degree function and assess the accuracy of this in comparison with the above, 2 degree model."
   ]
  },
  {
   "cell_type": "code",
   "execution_count": 51,
   "metadata": {},
   "outputs": [
    {
     "name": "stdout",
     "output_type": "stream",
     "text": [
      "(PolyReg 3D) RMSE:  3.449895507408724\n",
      "(PolyReg 3D) r-squared:  0.9830071790386679\n"
     ]
    },
    {
     "data": {
      "image/png": "[encoded data removed]",
      "text/plain": [
       "<Figure size 720x432 with 1 Axes>"
      ]
     },
     "metadata": {
      "needs_background": "light"
     },
     "output_type": "display_data"
    }
   ],
   "source": [
    "# generate randomly distributed polynomial data\n",
    "np.random.seed(0)\n",
    "x = 2 - 3 * np.random.normal(0, 1, 20)\n",
    "y = x - 2 * (x ** 2) + 0.5 * (x ** 3) + np.random.normal(-3, 3, 20)\n",
    "\n",
    "# transform data to fit model\n",
    "x = x[:, np.newaxis] # turn 1D array from one row to many rows\n",
    "y = y[:, np.newaxis] # literally add a dimension (1D to 2D)\n",
    "\n",
    "# load libraries\n",
    "from sklearn.pipeline import Pipeline\n",
    "\n",
    "# define components of pipeline\n",
    "stages = [('poly', PolynomialFeatures(degree=3)), ('model', LinearRegression())]\n",
    "\n",
    "# create pipeline\n",
    "pipe = Pipeline(stages)\n",
    "\n",
    "# fit pipeline stages to data\n",
    "pipe.fit(x, y)\n",
    "\n",
    "# make predictions (i.e. regression curve)\n",
    "y_poly_pred_3 = pipe.predict(x)\n",
    "\n",
    "# calculate error\n",
    "print(\"(PolyReg 3D) RMSE: \", mean_squared_error(y, y_poly_pred_3, squared=False))\n",
    "print(\"(PolyReg 3D) r-squared: \", r2_score(y, y_poly_pred_3))\n",
    "\n",
    "# sort predicted values with respect to predictor\n",
    "sorted_zip = sorted(zip(x, y_poly_pred_3)) # create sorted 2d array of x and pred\n",
    "x_poly_3, y_poly_pred_3 = zip(*sorted_zip) # * is the unpacking operator, it splits both parts of each tuple into sep. arrays\n",
    "\n",
    "# plot data\n",
    "plt.figure(figsize=(10,6))\n",
    "plt.scatter(x,y,s=15)\n",
    "plt.plot(x, y_pred, color='r', label='Linear Regression')\n",
    "#plt.plot(x_poly_2, y_poly_pred_2, color='g',label='Polynomial Regression (2D)')\n",
    "plt.plot(x_poly_3, y_poly_pred_3, color='y',label='Polynomial Regression (3D)')\n",
    "plt.xlabel('Predictor', fontsize=16)\n",
    "plt.ylabel('Target', fontsize=16)\n",
    "plt.legend()\n",
    "plt.show()"
   ]
  },
  {
   "cell_type": "markdown",
   "metadata": {},
   "source": [
    "Increasing the degrees of the polynomial results in an even more accurate prediction of our data, you can see that our r-squared value has increased to 98% which is very high whilst our RMSE (standard deviation of error) has dropped significantly to just under 3.5. One thing to be cautious of here though is over-fitting, you can in theory increase your degrees of polynomials until you achieve a perfect line with a 100% fit, but whilst this model would perfectly fit your sample data, it would likely be a poor predictor of real world data. During overfitting, the model is so sensitive that it picks up noise from the dataset that is not relevant to the general patterns you're trying to detect. You can prevent overfitting by reducing the degrees of your polynomial but also by increasing your sample size to help your model identify the major patterns and ignore the noise.\n",
    "\n",
    "Conversely, you don't want to pick a polynomial with too low a fit, as this would be under-fitted and wouldn't be correctly identifying patterns in your dataset.\n",
    "\n",
    "However, even with all of this said, there are a few things to be considered when picking the optimum parameters for our model.\n",
    "\n",
    "## Bias vs. Variance (The Classic Trade-Off)\n",
    "**Bias** is the error associated with underfitting. Essentially, if your model is too simplistic, it will fail to pick up the significant patterns and relationships between your features and targets/labels and as such will be a poor predictor of new samples.\n",
    "\n",
    "**Variance** is the error associated with overfitting. Here, your line/curve passes through almost every point, making it an excellent predictor of your sample set, but it also picks up lots of noise and makes it incredibly sensitive to new data, thus making it a poor predictor of real-world data.\n",
    "\n",
    "An ideal model would be simplistic (i.e. few degrees, assumptions etc.) and have low bias and variance, but this is often not possible in the real-world therefore there must be a trade-off where you have medium to low bias and variance as the model complexity increases.\n",
    "\n",
    "## Boston Housing Data\n",
    "Let's apply what we've demonstrated above to some real data."
   ]
  },
  {
   "cell_type": "code",
   "execution_count": 86,
   "metadata": {},
   "outputs": [
    {
     "name": "stdout",
     "output_type": "stream",
     "text": [
      "Training RMSE:  4.703071027847755\n",
      "Training r-squared:  0.7425094297364766\n",
      "Test RMSE:  3.7848198845450263\n",
      "Test r-squared:  0.8170372495892192\n"
     ]
    }
   ],
   "source": [
    "# load libraries and data\n",
    "from sklearn.datasets import load_boston\n",
    "from sklearn.model_selection import train_test_split\n",
    "import pandas as pd\n",
    "\n",
    "# load data\n",
    "boston_data = load_boston()\n",
    "\n",
    "# convert to df\n",
    "boston = pd.DataFrame(boston_data['data'], columns=boston_data['feature_names'])\n",
    "\n",
    "# extract features and targets\n",
    "X = boston[['LSTAT', 'RM']]\n",
    "y = boston_data['target']\n",
    "\n",
    "# split into train and test data\n",
    "X_train, X_test, y_train, y_test = train_test_split(X, y, test_size = 0.2, random_state=5)\n",
    "\n",
    "# define a function which creates a polynomial regression for the given degree\n",
    "def polynomial(degree):    \n",
    "    # build pipeline\n",
    "    stages = [('poly', PolynomialFeatures(degree=degree)), ('model', LinearRegression())]\n",
    "    \n",
    "    # create pipeline\n",
    "    pipe = Pipeline(stages)\n",
    "    \n",
    "    # fit pipeline to data\n",
    "    pipe.fit(X_train, y_train)\n",
    "    \n",
    "    # make predictions using model\n",
    "    y_train_pred = pipe.predict(X_train)\n",
    "    y_test_pred = pipe.predict(X_test)\n",
    "    \n",
    "    # calculate training error\n",
    "    print(\"Training RMSE: \", mean_squared_error(y_train, y_train_pred, squared=False))\n",
    "    print(\"Training r-squared: \", r2_score(y_train, y_train_pred))\n",
    "    \n",
    "    # calculate test error\n",
    "    print(\"Test RMSE: \", mean_squared_error(y_test, y_test_pred, squared=False))\n",
    "    print(\"Test r-squared: \", r2_score(y_test, y_test_pred))\n",
    "\n",
    "# call function for various degrees\n",
    "polynomial(2)"
   ]
  },
  {
   "cell_type": "markdown",
   "metadata": {},
   "source": [
    "You can see from the scores above that our final model scores are pretty high and this is a far better model than using a simple linear regression."
   ]
  }
 ],
 "metadata": {
  "kernelspec": {
   "display_name": "Python 3",
   "language": "python",
   "name": "python3"
  },
  "language_info": {
   "codemirror_mode": {
    "name": "ipython",
    "version": 3
   },
   "file_extension": ".py",
   "mimetype": "text/x-python",
   "name": "python",
   "nbconvert_exporter": "python",
   "pygments_lexer": "ipython3",
   "version": "3.7.9"
  }
 },
 "nbformat": 4,
 "nbformat_minor": 4
}
