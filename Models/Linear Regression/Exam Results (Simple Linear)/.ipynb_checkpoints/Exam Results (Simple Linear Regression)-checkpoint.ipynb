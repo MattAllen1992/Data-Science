{
 "cells": [
  {
   "cell_type": "markdown",
   "metadata": {},
   "source": [
    "# Exam Results: Simple Linear Regression\n",
    "## Intro\n",
    "**Supervised learning** is a process in which the algorithm is provided with both the **features** (independent variables) and **labels** (dependent variable) so that it can learn the relationship between inputs and outputs and use these to predict and quantify the relationships between them.\n",
    "\n",
    "The two main types of supervised learning are **regression and classification**, the former identifying relationships between **continous data** whilst the latter assesses **discrete, categorical data**. Univariate (or simple) linear regression is the simplest form of regression, looking at the linear relationship between a single feature and a single label. Here, we will analyse the relationship between amount of hours studied for an exam and the result achieved (link to data and project below):\n",
    "\n",
    "Project Link: https://stackabuse.com/linear-regression-in-python-with-scikit-learn/\n",
    "\n",
    "## Linear Relationships\n",
    "First, let's plot the data to demonstrate it's linearity. It is only because we have identified the linear relationship between these variables through observation of this plot that we know to use a linear model in this instance."
   ]
  },
  {
   "cell_type": "code",
   "execution_count": 41,
   "metadata": {},
   "outputs": [
    {
     "data": {
      "text/plain": [
       "Text(0.5, 1.0, 'Hours Studied vs. Exam Score')"
      ]
     },
     "execution_count": 41,
     "metadata": {},
     "output_type": "execute_result"
    },
    {
     "data": {
      "image/png": "[encoded data removed]",
      "text/plain": [
       "<Figure size 432x288 with 1 Axes>"
      ]
     },
     "metadata": {
      "needs_background": "light"
     },
     "output_type": "display_data"
    }
   ],
   "source": [
    "# load libraries\n",
    "import numpy as np\n",
    "import pandas as pd\n",
    "import matplotlib.pyplot as plt\n",
    "\n",
    "# show plots in notebook\n",
    "%matplotlib inline\n",
    "\n",
    "# load data\n",
    "exam_df = pd.read_csv('student_scores.csv')\n",
    "\n",
    "# plot data\n",
    "plt.scatter(exam_df['Hours'], exam_df['Scores'])\n",
    "plt.xlabel('Hour Studied')\n",
    "plt.ylabel('Score (%)')\n",
    "plt.title('Hours Studied vs. Exam Score')"
   ]
  },
  {
   "cell_type": "markdown",
   "metadata": {},
   "source": [
    "The first thing to notice is the linearity of the data, as one set of values increases, so does the other in a linear manner. A straight line has the equation **y = mx + c** where y and x are simply the two variables values, **m is the gradient** of the line and **c is the y-intercept**. Therefore, when trying to determine a line of best fit to describe our data, the only things we can vary are the gradient and the y-intercept.\n",
    "\n",
    "Linear regression algorithms aim to determine the **line of best fit** by varying these two parameters in order to create a line which **minimises the error** between the line values and the corresponding data values (X, y).\n",
    "\n",
    "We will come onto **multiple linear regression** later, but the process is broadly the same except this time the dependent variable (y) is dependent on more than one independent variable. If we draw a **line** to fit two-dimensional data (i.e. 1 feature, 1 label) then we must draw a **plane** for three-dimensional data and a **hyper-plane** for more than three-dimensional data.\n",
    "\n",
    "## Linear Regression\n",
    "We will now run a simple linear regression on the above data, this dataset is incredibly small and simplistic (25 rows, 2 columns, no nulls etc.) therefore we don't need to do any investigation or cleaning initially.\n",
    "\n",
    "Instead, we will complete the following steps:\n",
    "* Extract our features (X) and labels (y)\n",
    "* Split data into train and test subsets\n",
    "* Fit a model to our training data\n",
    "* Apply the model to our test data and compare the predicted values to the actual values\n",
    "* Tune the model if necessary\n",
    "* Use the finalised model to make predictions on new data\n",
    "\n",
    "**Note:** really quick tutorial for running linear regression and plotting outcomes - https://towardsdatascience.com/linear-regression-in-6-lines-of-python-5e1d0cd05b8d"
   ]
  },
  {
   "cell_type": "code",
   "execution_count": 69,
   "metadata": {},
   "outputs": [
    {
     "name": "stdout",
     "output_type": "stream",
     "text": [
      "y-intercept: -1.5369573315500702\n",
      "Gradient: [10.46110829]\n"
     ]
    },
    {
     "data": {
      "text/plain": [
       "[<matplotlib.lines.Line2D at 0x180cc455e08>]"
      ]
     },
     "execution_count": 69,
     "metadata": {},
     "output_type": "execute_result"
    },
    {
     "data": {
      "image/png": "[encoded data removed]",
      "text/plain": [
       "<Figure size 432x288 with 1 Axes>"
      ]
     },
     "metadata": {
      "needs_background": "light"
     },
     "output_type": "display_data"
    }
   ],
   "source": [
    "# extract features and labels (NOTE: X must be 1D numpy array)\n",
    "X = exam_df.iloc[:, :-1].values\n",
    "y = exam_df.iloc[:, 1].values\n",
    "\n",
    "# load libraries\n",
    "from sklearn.model_selection import train_test_split\n",
    "from sklearn.linear_model import LinearRegression\n",
    "\n",
    "# split train and test data (80% train, 20% test, random_state to ensure consistent results each time)\n",
    "X_train, X_test, y_train, y_test = train_test_split(X, y, test_size=0.2, random_state=1)\n",
    "\n",
    "# instantiate linear regression model\n",
    "regr = LinearRegression()\n",
    "\n",
    "# fit model to training data\n",
    "regr.fit(X_train, y_train)\n",
    "\n",
    "# print y-intercept and gradient of fitted line\n",
    "print('y-intercept: ' + str(regr.intercept_) + '\\n' + 'Gradient: ' + str(regr.coef_))\n",
    "\n",
    "# make y predictions using existing X values\n",
    "y_pred = regr.predict(X)\n",
    "\n",
    "# plot regression line/fitted model over our input data\n",
    "plt.scatter(X, y)\n",
    "plt.plot(X, y_pred, color='red')"
   ]
  },
  {
   "cell_type": "markdown",
   "metadata": {},
   "source": [
    "The gradient from the above fitted line gives an indication of the effect of changing hours studied (independent variable) on exam score (dependent variable). For example, if the value was 10, that would mean that when you increase the hours studied by 1, the exam score would on average increase by 10%.\n",
    "\n",
    "As you can see from the above plot, our model line looks like a fairly good predictor of hours studied vs. exam scores, running almost exactly through the middle of our data points. This means that when we use our model to predict y-values based on our X inputs and the equation we've determined to produce the minimised error scores, we create our red regression line which we can compare to our actual data.\n",
    "\n",
    "## Making Predictions\n",
    "\n",
    "Now that we have built our model, we can use it to predict specific exam scores based on new examples of hours studied."
   ]
  },
  {
   "cell_type": "code",
   "execution_count": 72,
   "metadata": {},
   "outputs": [
    {
     "data": {
      "text/html": [
       "<div>\n",
       "<style scoped>\n",
       "    .dataframe tbody tr th:only-of-type {\n",
       "        vertical-align: middle;\n",
       "    }\n",
       "\n",
       "    .dataframe tbody tr th {\n",
       "        vertical-align: top;\n",
       "    }\n",
       "\n",
       "    .dataframe thead th {\n",
       "        text-align: right;\n",
       "    }\n",
       "</style>\n",
       "<table border=\"1\" class=\"dataframe\">\n",
       "  <thead>\n",
       "    <tr style=\"text-align: right;\">\n",
       "      <th></th>\n",
       "      <th>Actual</th>\n",
       "      <th>Predicted</th>\n",
       "    </tr>\n",
       "  </thead>\n",
       "  <tbody>\n",
       "    <tr>\n",
       "      <th>0</th>\n",
       "      <td>17</td>\n",
       "      <td>9.970262</td>\n",
       "    </tr>\n",
       "    <tr>\n",
       "      <th>1</th>\n",
       "      <td>42</td>\n",
       "      <td>32.984700</td>\n",
       "    </tr>\n",
       "    <tr>\n",
       "      <th>2</th>\n",
       "      <td>24</td>\n",
       "      <td>18.339148</td>\n",
       "    </tr>\n",
       "    <tr>\n",
       "      <th>3</th>\n",
       "      <td>75</td>\n",
       "      <td>87.382463</td>\n",
       "    </tr>\n",
       "    <tr>\n",
       "      <th>4</th>\n",
       "      <td>54</td>\n",
       "      <td>48.676362</td>\n",
       "    </tr>\n",
       "  </tbody>\n",
       "</table>\n",
       "</div>"
      ],
      "text/plain": [
       "   Actual  Predicted\n",
       "0      17   9.970262\n",
       "1      42  32.984700\n",
       "2      24  18.339148\n",
       "3      75  87.382463\n",
       "4      54  48.676362"
      ]
     },
     "execution_count": 72,
     "metadata": {},
     "output_type": "execute_result"
    }
   ],
   "source": [
    "# predict y values from test data\n",
    "y_pred = regr.predict(X_test)\n",
    "\n",
    "# combine into df and compare actual vs. predicted values\n",
    "data = zip(y_test, y_pred)\n",
    "comp = pd.DataFrame(data=data, columns=['Actual', 'Predicted'])\n",
    "comp"
   ]
  },
  {
   "cell_type": "markdown",
   "metadata": {},
   "source": [
    "As you can see, the predictions are OK but not perfect. It's worth bearing in mind that our dataset is tiny (25 samples), meaning that the training set is just 20 samples whils the test set is just 5 samples, this isn't much to go off and means our model can only be so accurate.\n",
    "\n",
    "## Model Accuracy\n",
    "It's all good and well building a model, but to ensure that it is a good predictor of real world data we need to understand how accurate it is at predicting outcomes in our current dataset and also get a feel for whether or not we've over or under-trained the model to our sample data.\n",
    "\n",
    "There are different ways of calculating the accuracy of our model, for linear regression there are 3 main methods:\n",
    "* **MAE:** mean absolute error (sum of actual vs. predicted variance)\n",
    "* **MSE:** mean squared error (same as above but squared)\n",
    "* **RMSE:** root mean squared error (same as above but square rooted)\n",
    "\n",
    "Each has it's own pros and cons (details at link below), but for now SKLearn has all of these in-built so we can run them all and assess the results.\n",
    "\n",
    "**Which error measurement to use:** https://www.dataquest.io/blog/understanding-regression-error-metrics/"
   ]
  },
  {
   "cell_type": "code",
   "execution_count": 77,
   "metadata": {},
   "outputs": [
    {
     "name": "stdout",
     "output_type": "stream",
     "text": [
      "Mean Absolute Error:  7.88\n",
      "Mean Squared Error:  68.88\n",
      "Root Mean Squared Error:  8.3\n",
      "Mean of Test Scores:  51.48\n",
      "Proportion RMSE of Mean Test Scores:  0.16\n"
     ]
    }
   ],
   "source": [
    "# load libraries\n",
    "from sklearn import metrics\n",
    "\n",
    "# calculate errors, means and proportions\n",
    "mae = round(metrics.mean_absolute_error(y_test, y_pred),2)\n",
    "mse = round(metrics.mean_squared_error(y_test, y_pred),2)\n",
    "rmse = round(np.sqrt(metrics.mean_squared_error(y_test, y_pred)),2)\n",
    "mean_scores = round(exam_df['Scores'].mean(),2)\n",
    "prop = round(rmse/mean_scores, 2)\n",
    "\n",
    "# run all 3 error measurements\n",
    "print('Mean Absolute Error: ', mae)\n",
    "print('Mean Squared Error: ', mse)\n",
    "print('Root Mean Squared Error: ', rmse)\n",
    "\n",
    "# show mean of all test scores\n",
    "print('Mean of Test Scores: ', mean_scores)\n",
    "\n",
    "# show proportion of RMSE of test scores mean\n",
    "print('Proportion RMSE of Mean Test Scores: ', prop)"
   ]
  },
  {
   "cell_type": "markdown",
   "metadata": {},
   "source": [
    "RMSE (and the other error scores) aren't useful by themselves, they will vary drastically depending on what your data is and what variables you're looking at. As a general rule, if you look at the proportion of RMSE out of your mean test scores, this can tell you how good your model is. Ideally you'd want your **RMSE to be less than 10% of your independent variable's mean**, so our model is OK but not great in this instance.\n",
    "\n",
    "## To Do\n",
    "* How to determine if your model is over/under-fitted.\n",
    "* How to adjust your model if it is either over/under-fitted.\n",
    "* Useful resources for over/under-fitting:\n",
    "    * https://scikit-learn.org/stable/auto_examples/model_selection/plot_underfitting_overfitting.html\n",
    "    * https://stackoverflow.com/questions/43045426/linear-regression-overfitting\n",
    "* Use k-folds cross-validation to see if other models or parameter combinations are more effective on this dataset.\n",
    "* Useful resources for k-folds cross-validation:\n",
    "    * https://scikit-learn.org/stable/modules/cross_validation.html\n",
    "* Read up on train/test split and see if there are ways to run multiple different train/test combinations or if I need to validate/assess the method, randomness etc. of the split process."
   ]
  },
  {
   "cell_type": "code",
   "execution_count": null,
   "metadata": {},
   "outputs": [],
   "source": []
  }
 ],
 "metadata": {
  "kernelspec": {
   "display_name": "Python 3",
   "language": "python",
   "name": "python3"
  },
  "language_info": {
   "codemirror_mode": {
    "name": "ipython",
    "version": 3
   },
   "file_extension": ".py",
   "mimetype": "text/x-python",
   "name": "python",
   "nbconvert_exporter": "python",
   "pygments_lexer": "ipython3",
   "version": "3.7.9"
  }
 },
 "nbformat": 4,
 "nbformat_minor": 4
}
