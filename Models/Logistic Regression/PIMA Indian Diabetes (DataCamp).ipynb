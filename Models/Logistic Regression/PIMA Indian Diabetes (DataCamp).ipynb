{
 "cells": [
  {
   "cell_type": "markdown",
   "metadata": {},
   "source": [
    "# PIMA Indian Diabetes\n",
    "## Intro and Core Functions\n",
    "**Project Link:** https://www.datacamp.com/community/tutorials/understanding-logistic-regression-python\n",
    "\n",
    "**Latex Syntax:** https://gtribello.github.io/mathNET/assets/notebook-writing.html\n",
    "\n",
    "Logistic regression is a classification method that uses a **probability threshold to bucket results into classes**. The most common example of this is a binary logistic regression where the output/target/**dependent variable can only take a value of 0 or 1**.\n",
    "\n",
    "A logistic regression function is essentially a **linear regression with the sigmoid function applied to it**. For example, the linear regression function is as follows:\n",
    "\n",
    "$$ h(\\theta) = \\theta _0 + \\theta_1 x_1 + ... + \\theta _n x_n $$\n",
    "\n",
    "Here, each x value is an independent variable and the theta values are parameters which can be optimized to fit your linear regression. The sigmoid function is as follows:\n",
    "\n",
    "$$ p = \\frac{1}{1+e^{-y}} $$\n",
    "\n",
    "Therefore if you substitute in your linear regression function to your sigmoid function, you end up with your logistic regression function:\n",
    "\n",
    "$$ p = \\frac{1}{1+e^{-(\\theta _0 + \\theta_1 x_1 + ... + \\theta _n x_n)}} $$\n",
    "\n",
    "Key characteristics of a logistic regression to bear in mind are:\n",
    "* Dependent variable follows a Bernoulli distribution (e.g. single instance of a coin toss)\n",
    "* The estimation method is **maxiumum likelihood estimation**. Likelihood means the probability of getting the actual results you're seeing (i.e. target variable values) given your hypothesis (i.e. your logistic regression function). This method/model will determine/estimate parameter values that give your actually observed results with the highest probability. In layman's terms it's the method used under the hood to fit your logistic regression as best possible to your data (the equivalent of the OLS method of distance/error reduction in linear regression).\n",
    "* Model accuracy here is not determined using an $ r^2 $ value, instead it used concordance/KS-statistics (more later).\n",
    "\n",
    "## Maximum Likelihood Estimator vs. Ordinary Least Squares\n",
    "**Linear regression uses ordinary least squares** to fit it's parameters and regression line (by simply minimizing the square of the variance between actual and predicted values) whilst **logistic regression uses maximum likelihood estimation** (by determining the optimal parameters that give your actual observed values with the highest probability). In layman's terms, **OLS minimizes distance whilst MLE determines parameters most likely to produce observed values**.\n",
    "\n",
    "**Both methods are used to determine parameters for the model**. OLS draws a regression line through the data with the intent of reducing the distance between the prediction line and actual data averaged across all points. Whilst MLE aims to define the mean and standard deviation of your data in order to build a distribution that gives the best likelihood of explaining your data points, this distribution can then be applied to test data in order to most accurately predict values given the same hypothesis (i.e. model function / distribution).\n",
    "\n",
    "As an example, if your actual data was normally distributed around a mean of 0 with a standard deviation of 1, you would use MLE to determine that a mean of 0 and standard deviation of 1 are the optimum parameters that give the highest chance of explaining your actual data. This would then give you a model which predicted a normal distribution (imagine the classic normal distribution line on a chart). Then, when you came to look at test data, you could use these optimized parameters to calculate the predicted target values given the same distribution as your MLE function calculated.\n",
    "\n",
    "Finally, OLS doesn't make any stochastic assumptions of the data (i.e. it doesn't make random predictions to test scenarios), whereas MLE assumes a joint probability mass function (i.e. the probability map when combining your multiple feature variables - for 2 variables this would be a bivariate distribution). There are a lot of technical components behind this short paragraph, but the key thing to bear in mind is that different statistical methods (e.g. OLS vs. MLE) work better in some cases rather than others and it's their assumptions which determine which data they'll work best on. In the case of binary logistic regression, our output variable can only be a 0 or a 1 and this is one factor/assumption which means that MLE is a good method for building a regression model for this data. The root of this are the statistical mechanics underneath, which will require lots of reading to fully understand, but just bear in mind for now that MLE is the method used in logistic regression because it fits best with the underlying data by definition.\n",
    "\n",
    "**MLE explained:** https://www.youtube.com/watch?v=XepXtl9YKwc\n",
    "\n",
    "**Joint Probability Mass Function:** https://en.wikipedia.org/wiki/Joint_probability_distribution\n",
    "\n",
    "## The Sigmoid Function\n",
    "The **sigmoid function**, also known as the **logistic function**, creates an **S-shaped curve** which can map any real-world value to a value **between 0 and 1**. If the output of the function is **$ > 0.5 $ we say that the output will be 1**, whilst if the output is **$ < 0.5 $ we say that the output will be 0**. It is not used to predict continuous outputs (e.g. like linear regression), therefore the outputs can only be either 0 or 1.\n",
    "\n",
    "Below is an example of what the sigmoid function looks like when plotted."
   ]
  },
  {
   "cell_type": "code",
   "execution_count": 1,
   "metadata": {},
   "outputs": [
    {
     "data": {
      "image/png": "[encoded data removed]",
      "text/plain": [
       "<Figure size 432x288 with 1 Axes>"
      ]
     },
     "metadata": {
      "needs_background": "light"
     },
     "output_type": "display_data"
    }
   ],
   "source": [
    "# load libraries\n",
    "import matplotlib.pyplot as plt \n",
    "import numpy as np \n",
    "import math \n",
    "  \n",
    "# define values\n",
    "x = np.linspace(-10, 10, 100) \n",
    "z = 1/(1 + np.exp(-x)) \n",
    "\n",
    "# plot data\n",
    "plt.plot(x, z) \n",
    "plt.xlabel(\"x\") \n",
    "plt.ylabel(\"Sigmoid(X)\") \n",
    "  \n",
    "plt.show() "
   ]
  },
  {
   "cell_type": "markdown",
   "metadata": {},
   "source": [
    "## Types of Logistic Regression\n",
    "Logistic regression can be run on datasets with different target/dependent variable values. These include:\n",
    "* **Binary Logistic Regression** where the output values are either 0 or 1.\n",
    "* **Multinomial Logistic Regression** where you have multiple output classes (e.g. types of wine, colours, email categories).\n",
    "* **Ordinal Logistic Regression** with multiple classes where order matters (e.g. 0-5 star rating for hotels).\n",
    "\n",
    "## SKLearn Logistic Regression Classifier\n",
    "**Data:** https://www.kaggle.com/uciml/pima-indians-diabetes-database\n",
    "\n",
    "Let's load our PIMA diabetes dataset and take an initial look, the goal here is to identify whether or not someone has diabetes based on a collection of information about the individual."
   ]
  },
  {
   "cell_type": "code",
   "execution_count": 2,
   "metadata": {},
   "outputs": [
    {
     "data": {
      "text/html": [
       "<div>\n",
       "<style scoped>\n",
       "    .dataframe tbody tr th:only-of-type {\n",
       "        vertical-align: middle;\n",
       "    }\n",
       "\n",
       "    .dataframe tbody tr th {\n",
       "        vertical-align: top;\n",
       "    }\n",
       "\n",
       "    .dataframe thead th {\n",
       "        text-align: right;\n",
       "    }\n",
       "</style>\n",
       "<table border=\"1\" class=\"dataframe\">\n",
       "  <thead>\n",
       "    <tr style=\"text-align: right;\">\n",
       "      <th></th>\n",
       "      <th>pregnant</th>\n",
       "      <th>glucose</th>\n",
       "      <th>bp</th>\n",
       "      <th>skin</th>\n",
       "      <th>insulin</th>\n",
       "      <th>bmi</th>\n",
       "      <th>pedigree</th>\n",
       "      <th>age</th>\n",
       "      <th>label</th>\n",
       "    </tr>\n",
       "  </thead>\n",
       "  <tbody>\n",
       "    <tr>\n",
       "      <th>0</th>\n",
       "      <td>6</td>\n",
       "      <td>148</td>\n",
       "      <td>72</td>\n",
       "      <td>35</td>\n",
       "      <td>0</td>\n",
       "      <td>33.6</td>\n",
       "      <td>0.627</td>\n",
       "      <td>50</td>\n",
       "      <td>1</td>\n",
       "    </tr>\n",
       "    <tr>\n",
       "      <th>1</th>\n",
       "      <td>1</td>\n",
       "      <td>85</td>\n",
       "      <td>66</td>\n",
       "      <td>29</td>\n",
       "      <td>0</td>\n",
       "      <td>26.6</td>\n",
       "      <td>0.351</td>\n",
       "      <td>31</td>\n",
       "      <td>0</td>\n",
       "    </tr>\n",
       "    <tr>\n",
       "      <th>2</th>\n",
       "      <td>8</td>\n",
       "      <td>183</td>\n",
       "      <td>64</td>\n",
       "      <td>0</td>\n",
       "      <td>0</td>\n",
       "      <td>23.3</td>\n",
       "      <td>0.672</td>\n",
       "      <td>32</td>\n",
       "      <td>1</td>\n",
       "    </tr>\n",
       "    <tr>\n",
       "      <th>3</th>\n",
       "      <td>1</td>\n",
       "      <td>89</td>\n",
       "      <td>66</td>\n",
       "      <td>23</td>\n",
       "      <td>94</td>\n",
       "      <td>28.1</td>\n",
       "      <td>0.167</td>\n",
       "      <td>21</td>\n",
       "      <td>0</td>\n",
       "    </tr>\n",
       "    <tr>\n",
       "      <th>4</th>\n",
       "      <td>0</td>\n",
       "      <td>137</td>\n",
       "      <td>40</td>\n",
       "      <td>35</td>\n",
       "      <td>168</td>\n",
       "      <td>43.1</td>\n",
       "      <td>2.288</td>\n",
       "      <td>33</td>\n",
       "      <td>1</td>\n",
       "    </tr>\n",
       "  </tbody>\n",
       "</table>\n",
       "</div>"
      ],
      "text/plain": [
       "   pregnant  glucose  bp  skin  insulin   bmi  pedigree  age  label\n",
       "0         6      148  72    35        0  33.6     0.627   50      1\n",
       "1         1       85  66    29        0  26.6     0.351   31      0\n",
       "2         8      183  64     0        0  23.3     0.672   32      1\n",
       "3         1       89  66    23       94  28.1     0.167   21      0\n",
       "4         0      137  40    35      168  43.1     2.288   33      1"
      ]
     },
     "execution_count": 2,
     "metadata": {},
     "output_type": "execute_result"
    }
   ],
   "source": [
    "# load libraries\n",
    "import pandas as pd\n",
    "import numpy as np\n",
    "import matplotlib.pyplot as plt\n",
    "import seaborn as sns\n",
    "\n",
    "# show plots in notebook\n",
    "%matplotlib inline\n",
    "\n",
    "# define column names\n",
    "col_names = ['pregnant', 'glucose', 'bp', 'skin', 'insulin', 'bmi', 'pedigree', 'age', 'label']\n",
    "\n",
    "# read in data\n",
    "pima = pd.read_csv('S:/Matt/Data Science/Other/Logistic Regression/Data/pima_diabetes.csv', header=0, names=col_names)\n",
    "\n",
    "# peek at data\n",
    "pima.head()"
   ]
  },
  {
   "cell_type": "markdown",
   "metadata": {},
   "source": [
    "Steps:\n",
    "* Split data into features (independent) and labels/target (dependent).\n",
    "* Split data into train and test sets.\n",
    "* Build logistic regression model, fit to data and predict test classes."
   ]
  },
  {
   "cell_type": "code",
   "execution_count": 3,
   "metadata": {},
   "outputs": [
    {
     "name": "stderr",
     "output_type": "stream",
     "text": [
      "C:\\ProgramData\\Anaconda3\\lib\\site-packages\\sklearn\\linear_model\\_logistic.py:764: ConvergenceWarning: lbfgs failed to converge (status=1):\n",
      "STOP: TOTAL NO. of ITERATIONS REACHED LIMIT.\n",
      "\n",
      "Increase the number of iterations (max_iter) or scale the data as shown in:\n",
      "    https://scikit-learn.org/stable/modules/preprocessing.html\n",
      "Please also refer to the documentation for alternative solver options:\n",
      "    https://scikit-learn.org/stable/modules/linear_model.html#logistic-regression\n",
      "  extra_warning_msg=_LOGISTIC_SOLVER_CONVERGENCE_MSG)\n"
     ]
    }
   ],
   "source": [
    "# split into features and target\n",
    "y_cols = 'label'\n",
    "X_cols = [i for i in pima.columns.values.tolist() if i not in y_cols]\n",
    "X = pima[X_cols]\n",
    "y = pima['label']\n",
    "\n",
    "# load libraries\n",
    "from sklearn.model_selection import train_test_split\n",
    "\n",
    "# split into train and test sets (75:25 train:test)\n",
    "X_train, X_test, y_train, y_test = train_test_split(X, y, test_size=0.25, random_state=0)\n",
    "\n",
    "# load libraries\n",
    "from sklearn.linear_model import LogisticRegression\n",
    "\n",
    "# build model object\n",
    "logreg = LogisticRegression()\n",
    "\n",
    "# fit to training data\n",
    "logreg.fit(X_train, y_train)\n",
    "\n",
    "# predict outcomes using test data\n",
    "y_pred = logreg.predict(X_test)"
   ]
  },
  {
   "cell_type": "markdown",
   "metadata": {},
   "source": [
    "## Confusion Matrix for Model Accuracy\n",
    "Now that we have made our predictions by building a logistic regression model on our training data and then predicting outputs given our test data, we can **assess the accuracy of our model by comparing our predictions to the known test classes**.\n",
    "\n",
    "**Confusion (or error) matrices** are used to quantify the **accuracy of a classification problem**. They look at how many classes were correctly predicted against known/test outputs and how many were incorrect (i.e. confused) and score the results. The confusion matrix is normally split into **true positive, false positive, true negative and false negative** with the aim being to get a high proportion of predictions falling into the true (positive or negative) category.\n",
    "\n",
    "There are specific measures associated with confusion matrices such as **precision** ($ \\frac{TP}{TP + FP} $), **recall** ($ \\frac{TP}{TP + FN} $), **accuracy** ($ \\frac{TP + TN}{TP + TN + FP + FN} $) and **f-measure** (essentially the mean of the precision and recall where extreme values are penalised i.e. a **harmonic mean** rather than an arithmetic mean - $ \\frac{2^*recall^*precision}{recall + precision} $).\n",
    "\n",
    "Let's run a confusion matrix to see how our model has fared. We can visualize our matrix using Seaborn."
   ]
  },
  {
   "cell_type": "code",
   "execution_count": 4,
   "metadata": {},
   "outputs": [
    {
     "name": "stdout",
     "output_type": "stream",
     "text": [
      "[[115  15]\n",
      " [ 25  37]]\n"
     ]
    },
    {
     "data": {
      "text/plain": [
       "Text(0.5, 15.0, 'Predicted label')"
      ]
     },
     "execution_count": 4,
     "metadata": {},
     "output_type": "execute_result"
    },
    {
     "data": {
      "image/png": "[encoded data removed]",
      "text/plain": [
       "<Figure size 432x288 with 2 Axes>"
      ]
     },
     "metadata": {
      "needs_background": "light"
     },
     "output_type": "display_data"
    }
   ],
   "source": [
    "# load libraries\n",
    "from sklearn.metrics import confusion_matrix\n",
    "\n",
    "# build confusion matrix\n",
    "conf_matrix = confusion_matrix(y_test, y_pred)\n",
    "\n",
    "# print outputs\n",
    "print(conf_matrix)\n",
    "\n",
    "# heatmap variables\n",
    "class_names = [0, 1] # possible output classes\n",
    "fig, ax = plt.subplots() # create figure and axis objects\n",
    "tick_marks = np.arange(len(class_names)) # define ticks to line up with classes\n",
    "plt.xticks(tick_marks, class_names) # label x axis\n",
    "plt.yticks(tick_marks, class_names) # label y axis\n",
    "\n",
    "# plot heatmap\n",
    "sns.heatmap(pd.DataFrame(conf_matrix), annot=True, cmap='YlGnBu', fmt='g') # fmt = string formatting on plot\n",
    "ax.xaxis.set_label_position('top') # labels along top of x axis\n",
    "plt.tight_layout # tune layout\n",
    "plt.title('Confusion matrix', y=1.1) # add title\n",
    "plt.ylabel('Actual label') # add y title\n",
    "plt.xlabel('Predicted label') # add x title"
   ]
  },
  {
   "cell_type": "markdown",
   "metadata": {},
   "source": [
    "As you can see, the negative values were predicted fairly well (115/130) whereas the positive results were almost a 50:50 split which is not ideal. Let's check some of the metrics of our confusion matrix (recall, precision, accuracy) to see exactly how well it fared."
   ]
  },
  {
   "cell_type": "code",
   "execution_count": 5,
   "metadata": {},
   "outputs": [
    {
     "name": "stdout",
     "output_type": "stream",
     "text": [
      "Accuracy:  0.7916666666666666\n",
      "Recall:  0.5967741935483871\n",
      "Precision:  0.7115384615384616\n"
     ]
    }
   ],
   "source": [
    "# load libraries\n",
    "from sklearn import metrics\n",
    "\n",
    "# show accuracy, precision, recall\n",
    "print(\"Accuracy: \", metrics.accuracy_score(y_test, y_pred)) # order doesn't matter here, could have pred then test too\n",
    "print(\"Recall: \", metrics.recall_score(y_test, y_pred))\n",
    "print(\"Precision: \", metrics.precision_score(y_test, y_pred))"
   ]
  },
  {
   "cell_type": "markdown",
   "metadata": {},
   "source": [
    "As we mentioned earlier, accuracy relates to how many predictions you make which are correct overall, our score for this is 79% which isn't bad at all. Therefore, within our dataset, 80% of the time we're able to correctly predict who has diabetes from our input data using our current model.\n",
    "\n",
    "Recall relates to how well we can classify positive results, essentially if someone has diabetes, how often do we correctly diagnose this? Our result for recall is 60% which isn't fantastic but isn't horrific either.\n",
    "\n",
    "Finally, precision relates to how many times we correctly predict positive results compared to how many positive results there actually are (i.e. mis-diagnosis of diabetes when the patient doesn't have it). Our result here is 71% which is again in the good range.\n",
    "\n",
    "## Receiver Operating Characteristic (ROC) Curve\n",
    "ROC curve's are used to determine the optimum cut-off threshold for a multi-class prediction model and visualize the accuracy and effectiveness of your classifier. In this case, we are using a logistic regression to predict an outcome of 0 or 1, where there are only two distinct/discrete outcomes. However, the underlying function predicts a probability (continuous value) between 0 and 1 and so we must pick a threshold value to say \"when our probability is above x, we predict the class to be 0\". This threshold is normally 0.5 by default, but in reality you often want to pick your own value which gives you the optimum sensitivity and specificity for predicting results and ROC lets us analyse which value to pick.\n",
    "\n",
    "**Sensitivity** is the proportion of true positives identified from all positive predictions, i.e. true positive rate. **Specificity** is the proportion of true negatives identified from all negative predictions, i.e. true positive rate. The ROC plot uses sensitivity on the y-axis and 1 - specificity (i.e. false positive rate) on the x-axis. You then plot your sensitivity and 1 - specificity results for every threshold value between 0 and 1. Your aim is to have a **high sensitivity** (i.e. chance of predicting true outcomes when the actual observation is also true) and **low 1 - specificity** (i.e. chance of predicting true outcomes when the actual observation is negative). Therefore, your ROC curve is showing you a visual representation of **how well your model correctly predicts positive and negative results for different thresholds**.\n",
    "\n",
    "You want your ROC curve to appear towards the **top left** of your plot, where it's correctly predicting true results and has a low false positive prediction rate. If it's a straight line through the middle of the plot, your model is essentially tossing a coin and guessing right half the time and wrong half the time. If the curve is towards the bottom right of the plot, you're actively guessing incorrect values (i.e. mis-classifying) more often than not.\n",
    "\n",
    "The area under the curve **(AUC) is used to calculate a score (between 0.5 and 1)** which tells you how good a predictor of outputs your classifier is, 0.5 would be poor whilst 1 would be a perfect classifier.\n",
    "\n",
    "**Additional Reading:** \n",
    "* https://towardsdatascience.com/understanding-auc-roc-curve-68b2303cc9c5\n",
    "* https://www.theanalysisfactor.com/what-is-an-roc-curve/"
   ]
  },
  {
   "cell_type": "code",
   "execution_count": 8,
   "metadata": {},
   "outputs": [
    {
     "data": {
      "image/png": "[encoded data removed]",
      "text/plain": [
       "<Figure size 432x288 with 1 Axes>"
      ]
     },
     "metadata": {
      "needs_background": "light"
     },
     "output_type": "display_data"
    }
   ],
   "source": [
    "# make y-predictions using test data and classifier model built off training data\n",
    "y_pred_prob = logreg.predict_proba(X_test)[::,1]\n",
    "\n",
    "# compare known observations to predicted classes\n",
    "# extract false and true positive rate (i.e. x and y-axes of plot)\n",
    "fpr, tpr, _ = metrics.roc_curve(y_test,  y_pred_prob)\n",
    "\n",
    "# extract area under curve (i.e. score of classifier)\n",
    "auc = metrics.roc_auc_score(y_test, y_pred_prob)\n",
    "\n",
    "# plot results\n",
    "plt.plot(fpr,tpr,label=\"data 1, auc=\"+str(auc))\n",
    "plt.legend(loc=4)\n",
    "plt.show()"
   ]
  },
  {
   "cell_type": "markdown",
   "metadata": {},
   "source": [
    "AUC score ranges between 0.5 and 1, therefore our score of 0.86 is pretty good and you can see that our curve is pushed up towards the top left of the plot which is what you want to see (i.e. correctly classifying positive results and not mis-classifying them as false positives).\n",
    "\n",
    "There are pros and cons to the ROC scoring method for a logistic regression that need to be considered. Firstly, it's a very efficient scoring method meaning it doesn't take too much computational power or time. It's also easy to implement (a few lines of code above) and is widely used and understood in the data science community. It also doesn't require scaling of features which saves a few steps.\n",
    "\n",
    "However, it doesn't work well with large numbers of categorical features and is prone to over-fitting. It requires a linear relationship between features and target(s) also, performing poorly on non-correlated data. "
   ]
  }
 ],
 "metadata": {
  "kernelspec": {
   "display_name": "Python 3",
   "language": "python",
   "name": "python3"
  },
  "language_info": {
   "codemirror_mode": {
    "name": "ipython",
    "version": 3
   },
   "file_extension": ".py",
   "mimetype": "text/x-python",
   "name": "python",
   "nbconvert_exporter": "python",
   "pygments_lexer": "ipython3",
   "version": "3.7.9"
  }
 },
 "nbformat": 4,
 "nbformat_minor": 4
}
