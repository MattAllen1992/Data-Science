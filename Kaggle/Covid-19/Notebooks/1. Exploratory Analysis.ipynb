{
 "cells": [
  {
   "cell_type": "markdown",
   "metadata": {},
   "source": [
    "# Covid-19: Exploratory Analysis\n",
    "## Introduction\n",
    "All of the data for this project has been taken from the following Kaggle project:\n",
    "* https://www.kaggle.com/sudalairajkumar/novel-corona-virus-2019-dataset?select=time_series_covid_19_recovered.csv\n",
    "\n",
    "This dataset contains information regarding numbers of cases (split by confirmed cases, deaths and recoveries), location, dates and a few text notes relating to symptoms, significance of individuals (e.g. 1st case from Wuhan) and a few other less relevant variables.\n",
    "\n",
    "## Loading the Data\n",
    "To begin with, we will simply load all the data files into memory."
   ]
  },
  {
   "cell_type": "code",
   "execution_count": 33,
   "metadata": {},
   "outputs": [],
   "source": [
    "# load libraries\n",
    "import pandas as pd\n",
    "import numpy as np\n",
    "import matplotlib.pyplot as plt\n",
    "\n",
    "# show plot in notebook\n",
    "%matplotlib inline\n",
    "\n",
    "# read data into dataframes from csv\n",
    "ts_conf = pd.read_csv('../Data/time_series_confirmed.csv')\n",
    "ts_rec = pd.read_csv('../Data/time_series_recovered.csv')\n",
    "ts_dead = pd.read_csv('../Data/time_series_deaths.csv')\n",
    "ts_all = pd.read_csv('../Data/covid_19_data.csv')\n",
    "ts_conf_us = pd.read_csv('../Data/time_series_covid_19_confirmed_US.csv')\n",
    "ts_dead_us = pd.read_csv('../Data/time_series_covid_19_deaths_US.csv')\n",
    "patients_1 = pd.read_csv('../Data/line_list_data.csv')\n",
    "patients_2 = pd.read_csv('../Data/COVID19_open_line_list.csv')\n",
    "\n",
    "# convert date fields from string to datetime\n",
    "ts_all['Last Update'] = pd.to_datetime(ts_all['Last Update'])\n",
    "\n",
    "patients_1['reporting date'] = pd.to_datetime(patients_1['reporting date'])\n",
    "patients_1['symptom_onset'] = pd.to_datetime(patients_1['symptom_onset'])\n",
    "patients_1['hosp_visit_date'] = pd.to_datetime(patients_1['hosp_visit_date'])\n",
    "patients_1['exposure_start'] = pd.to_datetime(patients_1['exposure_start'])\n",
    "patients_1['exposure_end'] = pd.to_datetime(patients_1['exposure_end'])"
   ]
  },
  {
   "cell_type": "markdown",
   "metadata": {},
   "source": [
    "## Initial Exploration\n",
    "Key Starting Knowledge:\n",
    "* The numbers of confirmed cases, deaths and recoveries in this dataset are cumulative on any given day and not individual daily counts.\n",
    "* "
   ]
  },
  {
   "cell_type": "code",
   "execution_count": 54,
   "metadata": {},
   "outputs": [],
   "source": [
    "# extract categories and values\n",
    "categories = ts_conf[['Province/State', 'Country/Region', 'Lat', 'Long']]\n",
    "values = ts_conf.loc[:, '1/22/20':]\n",
    "\n",
    "# flatten into 'date' and 'confirmed cases' cols\n",
    "ts_conf_melt = pd.melt(ts_conf, id_vars = categories, value_vars = values,\n",
    "                       var_name = 'Date', value_name = 'Confirmed Cases (cumulative))')\n",
    "\n",
    "# convert 'date' column from string to datetime\n",
    "ts_conf_melt['Date'] = pd.to_datetime(ts_conf_melt['Date'])\n",
    "\n",
    "# write df to csv\n",
    "ts_conf_melt.to_csv('../Outputs/Confirmed Cases.csv')"
   ]
  },
  {
   "cell_type": "code",
   "execution_count": null,
   "metadata": {},
   "outputs": [],
   "source": []
  },
  {
   "cell_type": "code",
   "execution_count": null,
   "metadata": {},
   "outputs": [],
   "source": []
  },
  {
   "cell_type": "code",
   "execution_count": null,
   "metadata": {},
   "outputs": [],
   "source": []
  },
  {
   "cell_type": "code",
   "execution_count": null,
   "metadata": {},
   "outputs": [],
   "source": []
  },
  {
   "cell_type": "code",
   "execution_count": null,
   "metadata": {},
   "outputs": [],
   "source": []
  },
  {
   "cell_type": "code",
   "execution_count": null,
   "metadata": {},
   "outputs": [],
   "source": []
  },
  {
   "cell_type": "code",
   "execution_count": null,
   "metadata": {},
   "outputs": [],
   "source": []
  },
  {
   "cell_type": "code",
   "execution_count": null,
   "metadata": {},
   "outputs": [],
   "source": []
  },
  {
   "cell_type": "code",
   "execution_count": null,
   "metadata": {},
   "outputs": [],
   "source": []
  },
  {
   "cell_type": "code",
   "execution_count": null,
   "metadata": {},
   "outputs": [],
   "source": []
  },
  {
   "cell_type": "code",
   "execution_count": null,
   "metadata": {},
   "outputs": [],
   "source": []
  },
  {
   "cell_type": "code",
   "execution_count": null,
   "metadata": {},
   "outputs": [],
   "source": []
  },
  {
   "cell_type": "code",
   "execution_count": null,
   "metadata": {},
   "outputs": [],
   "source": []
  },
  {
   "cell_type": "code",
   "execution_count": null,
   "metadata": {},
   "outputs": [],
   "source": []
  },
  {
   "cell_type": "code",
   "execution_count": null,
   "metadata": {},
   "outputs": [],
   "source": []
  },
  {
   "cell_type": "code",
   "execution_count": null,
   "metadata": {},
   "outputs": [],
   "source": []
  },
  {
   "cell_type": "code",
   "execution_count": null,
   "metadata": {},
   "outputs": [],
   "source": []
  },
  {
   "cell_type": "code",
   "execution_count": null,
   "metadata": {},
   "outputs": [],
   "source": []
  },
  {
   "cell_type": "code",
   "execution_count": null,
   "metadata": {},
   "outputs": [],
   "source": []
  },
  {
   "cell_type": "code",
   "execution_count": null,
   "metadata": {},
   "outputs": [],
   "source": []
  },
  {
   "cell_type": "code",
   "execution_count": null,
   "metadata": {},
   "outputs": [],
   "source": []
  },
  {
   "cell_type": "code",
   "execution_count": null,
   "metadata": {},
   "outputs": [],
   "source": []
  },
  {
   "cell_type": "code",
   "execution_count": null,
   "metadata": {},
   "outputs": [],
   "source": []
  },
  {
   "cell_type": "code",
   "execution_count": null,
   "metadata": {},
   "outputs": [],
   "source": []
  },
  {
   "cell_type": "code",
   "execution_count": null,
   "metadata": {},
   "outputs": [],
   "source": []
  },
  {
   "cell_type": "code",
   "execution_count": null,
   "metadata": {},
   "outputs": [],
   "source": []
  },
  {
   "cell_type": "code",
   "execution_count": null,
   "metadata": {},
   "outputs": [],
   "source": []
  },
  {
   "cell_type": "code",
   "execution_count": null,
   "metadata": {},
   "outputs": [],
   "source": []
  },
  {
   "cell_type": "code",
   "execution_count": null,
   "metadata": {},
   "outputs": [],
   "source": []
  }
 ],
 "metadata": {
  "kernelspec": {
   "display_name": "Python 3",
   "language": "python",
   "name": "python3"
  },
  "language_info": {
   "codemirror_mode": {
    "name": "ipython",
    "version": 3
   },
   "file_extension": ".py",
   "mimetype": "text/x-python",
   "name": "python",
   "nbconvert_exporter": "python",
   "pygments_lexer": "ipython3",
   "version": "3.7.6"
  }
 },
 "nbformat": 4,
 "nbformat_minor": 4
}
