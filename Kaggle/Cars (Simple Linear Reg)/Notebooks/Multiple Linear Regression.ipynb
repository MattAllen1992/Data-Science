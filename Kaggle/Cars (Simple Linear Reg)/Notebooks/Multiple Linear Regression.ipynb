{
 "cells": [
  {
   "cell_type": "markdown",
   "metadata": {},
   "source": [
    "# Multiple Linear Regression: Cars Data\n",
    "## Project Notes\n",
    "Reference Site: https://www.w3schools.com/python/python_ml_multiple_regression.asp\n",
    "Workspace: S:\\Matt\\Data Science\\Kaggle\\Multiple Linear Regression\\Cars (Basic)\n",
    "\n",
    "**Objective:** To predict CO2 emissions based on volume and weight of vehicle.\n",
    "\n",
    "## Loading the Data\n",
    "Steps:\n",
    "* Read data from csv into dataframe\n",
    "* Desribe data for initial distribution of variables"
   ]
  },
  {
   "cell_type": "code",
   "execution_count": 5,
   "metadata": {},
   "outputs": [
    {
     "data": {
      "text/html": [
       "<div>\n",
       "<style scoped>\n",
       "    .dataframe tbody tr th:only-of-type {\n",
       "        vertical-align: middle;\n",
       "    }\n",
       "\n",
       "    .dataframe tbody tr th {\n",
       "        vertical-align: top;\n",
       "    }\n",
       "\n",
       "    .dataframe thead th {\n",
       "        text-align: right;\n",
       "    }\n",
       "</style>\n",
       "<table border=\"1\" class=\"dataframe\">\n",
       "  <thead>\n",
       "    <tr style=\"text-align: right;\">\n",
       "      <th></th>\n",
       "      <th>Volume</th>\n",
       "      <th>Weight</th>\n",
       "      <th>CO2</th>\n",
       "    </tr>\n",
       "  </thead>\n",
       "  <tbody>\n",
       "    <tr>\n",
       "      <th>count</th>\n",
       "      <td>36.000000</td>\n",
       "      <td>36.000000</td>\n",
       "      <td>36.000000</td>\n",
       "    </tr>\n",
       "    <tr>\n",
       "      <th>mean</th>\n",
       "      <td>1611.111111</td>\n",
       "      <td>1292.277778</td>\n",
       "      <td>102.027778</td>\n",
       "    </tr>\n",
       "    <tr>\n",
       "      <th>std</th>\n",
       "      <td>388.975047</td>\n",
       "      <td>242.123889</td>\n",
       "      <td>7.454571</td>\n",
       "    </tr>\n",
       "    <tr>\n",
       "      <th>min</th>\n",
       "      <td>900.000000</td>\n",
       "      <td>790.000000</td>\n",
       "      <td>90.000000</td>\n",
       "    </tr>\n",
       "    <tr>\n",
       "      <th>25%</th>\n",
       "      <td>1475.000000</td>\n",
       "      <td>1117.250000</td>\n",
       "      <td>97.750000</td>\n",
       "    </tr>\n",
       "    <tr>\n",
       "      <th>50%</th>\n",
       "      <td>1600.000000</td>\n",
       "      <td>1329.000000</td>\n",
       "      <td>99.000000</td>\n",
       "    </tr>\n",
       "    <tr>\n",
       "      <th>75%</th>\n",
       "      <td>2000.000000</td>\n",
       "      <td>1418.250000</td>\n",
       "      <td>105.000000</td>\n",
       "    </tr>\n",
       "    <tr>\n",
       "      <th>max</th>\n",
       "      <td>2500.000000</td>\n",
       "      <td>1746.000000</td>\n",
       "      <td>120.000000</td>\n",
       "    </tr>\n",
       "  </tbody>\n",
       "</table>\n",
       "</div>"
      ],
      "text/plain": [
       "            Volume       Weight         CO2\n",
       "count    36.000000    36.000000   36.000000\n",
       "mean   1611.111111  1292.277778  102.027778\n",
       "std     388.975047   242.123889    7.454571\n",
       "min     900.000000   790.000000   90.000000\n",
       "25%    1475.000000  1117.250000   97.750000\n",
       "50%    1600.000000  1329.000000   99.000000\n",
       "75%    2000.000000  1418.250000  105.000000\n",
       "max    2500.000000  1746.000000  120.000000"
      ]
     },
     "execution_count": 5,
     "metadata": {},
     "output_type": "execute_result"
    }
   ],
   "source": [
    "# load libaries\n",
    "import pandas as pd\n",
    "\n",
    "# load data\n",
    "df = pd.read_csv('../Data/cars.csv')\n",
    "\n",
    "# describe data\n",
    "df.describe()"
   ]
  },
  {
   "cell_type": "markdown",
   "metadata": {},
   "source": [
    "## Feature Scaling\n",
    "Notes:\n",
    "* The distribution and scale of volume and weight are broadly similar, whilst C02 is on a much lower scale. C02 is our label/output/y variable, therefore it doesn't matter that the scale is different here and because volume and weight are broadly similarly distributed, we won't need to run feature scaling for this exercise.\n",
    "* However, for thoroughness, I will use feature scaling for the two feature variables and compare the results to see if it has any effect.\n",
    "* There are 2 options when altering features scales:\n",
    "    * Normalization\n",
    "    * Standardization\n",
    "    * Source: https://machinelearningmastery.com/rescaling-data-for-machine-learning-in-python-with-scikit-learn/    \n",
    "* Normalization adjusts the features scales to between 0 and 1, this is good for models which look at the magnitude of values (e.g. distance measures in k-nearest neighbours or co-efficients in regression).\n",
    "* Standardization shifts features distribution to have a mean of 0 and a standard deviation of 1 (unit variation), this is better for models that rely on distribution (e.g. Gaussian method).\n",
    "* We will try all three (raw distribution, normalized and standardized) and compare the results to see which is most effective.\n",
    "\n",
    "Steps:\n",
    "* Run standardization and normalization methods to create 3 separate sets of feature variables (raw, standardized and normalized)."
   ]
  },
  {
   "cell_type": "code",
   "execution_count": 18,
   "metadata": {},
   "outputs": [],
   "source": [
    "# load libraries\n",
    "from sklearn import preprocessing\n",
    "\n",
    "# extract features and labels\n",
    "X = df[['Volume', 'Weight']]\n",
    "y = df['CO2']\n",
    "\n",
    "# normalize features\n",
    "normalized_X = preprocessing.normalize(X)\n",
    "\n",
    "# standardize features\n",
    "standardized_X = preprocessing.scale(X)"
   ]
  },
  {
   "cell_type": "markdown",
   "metadata": {},
   "source": [
    "## Linear Model\n",
    "Notes:\n",
    "* Now that our data has been processed, we can load it into our model.\n",
    "* We will use a linear regression model from sklearn for this.\n",
    "\n",
    "Steps:\n",
    "* Build linear regression object.\n",
    "* Fit model to our data."
   ]
  },
  {
   "cell_type": "code",
   "execution_count": 20,
   "metadata": {},
   "outputs": [
    {
     "data": {
      "text/plain": [
       "LinearRegression(copy_X=True, fit_intercept=True, n_jobs=None, normalize=False)"
      ]
     },
     "execution_count": 20,
     "metadata": {},
     "output_type": "execute_result"
    }
   ],
   "source": [
    "# load libraries\n",
    "from sklearn import linear_model\n",
    "\n",
    "# instantiate model object\n",
    "regr = linear_model.LinearRegression()\n",
    "\n",
    "# fit model to data\n",
    "regr.fit(X, y)"
   ]
  },
  {
   "cell_type": "markdown",
   "metadata": {},
   "source": [
    "## To Do\n",
    "To Do:\n",
    "* Finish tutorial steps on linked site (see top).\n",
    "* Visualise our model (use matplotlib/seaborn).\n",
    "* Bring in a larger dataset and use train/test splitting, plot the linear model line against the actual and predicted values.\n",
    "* Analyse coefficients and accuracy of model against raw, normalized and standardized data to see which is best (i.e. validation)."
   ]
  },
  {
   "cell_type": "code",
   "execution_count": null,
   "metadata": {},
   "outputs": [],
   "source": []
  }
 ],
 "metadata": {
  "kernelspec": {
   "display_name": "Python 3",
   "language": "python",
   "name": "python3"
  },
  "language_info": {
   "codemirror_mode": {
    "name": "ipython",
    "version": 3
   },
   "file_extension": ".py",
   "mimetype": "text/x-python",
   "name": "python",
   "nbconvert_exporter": "python",
   "pygments_lexer": "ipython3",
   "version": "3.7.6"
  }
 },
 "nbformat": 4,
 "nbformat_minor": 4
}
