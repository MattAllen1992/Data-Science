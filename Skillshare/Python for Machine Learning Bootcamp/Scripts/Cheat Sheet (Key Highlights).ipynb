{
 "cells": [
  {
   "cell_type": "markdown",
   "metadata": {},
   "source": [
    "# Cheat Sheet (Highlights from Course)\n",
    "### Missing Values\n",
    "* Map missing values and replace with 0"
   ]
  },
  {
   "cell_type": "code",
   "execution_count": 3,
   "metadata": {},
   "outputs": [
    {
     "name": "stdout",
     "output_type": "stream",
     "text": [
      "[[nan inf  1.]\n",
      " [ 2.  2.  2.]\n",
      " [ 3.  3.  3.]]\n",
      "[[0. 0. 1.]\n",
      " [2. 2. 2.]\n",
      " [3. 3. 3.]]\n"
     ]
    }
   ],
   "source": [
    "# load modules\n",
    "import numpy as np\n",
    "\n",
    "# create list of lists and include a couple of missing values\n",
    "list1 = [[np.nan,np.inf,1],[2,2,2],[3,3,3]]\n",
    "\n",
    "# convert list to array\n",
    "arr1 = np.array(list1)\n",
    "\n",
    "# show array with missing values\n",
    "print(arr1)\n",
    "\n",
    "# map/flag for missing values\n",
    "missing_flag = np.isnan(arr1) | np.isinf(arr1)\n",
    "\n",
    "# replace missing values with 0\n",
    "arr1[missing_flag] = 0\n",
    "\n",
    "# show result\n",
    "print(arr1)"
   ]
  },
  {
   "cell_type": "markdown",
   "metadata": {},
   "source": [
    "### Numpy Objects\n",
    "* Numpy aranges are the same as ranges but far quicker, use these if you care about performance when storing or manipulating data."
   ]
  },
  {
   "cell_type": "code",
   "execution_count": 6,
   "metadata": {},
   "outputs": [
    {
     "data": {
      "text/plain": [
       "array([1, 2, 3, 4])"
      ]
     },
     "execution_count": 6,
     "metadata": {},
     "output_type": "execute_result"
    }
   ],
   "source": [
    "# create numpy array\n",
    "arr1 = np.arange(1, 5)\n",
    "arr1"
   ]
  }
 ],
 "metadata": {
  "kernelspec": {
   "display_name": "Python 3",
   "language": "python",
   "name": "python3"
  },
  "language_info": {
   "codemirror_mode": {
    "name": "ipython",
    "version": 3
   },
   "file_extension": ".py",
   "mimetype": "text/x-python",
   "name": "python",
   "nbconvert_exporter": "python",
   "pygments_lexer": "ipython3",
   "version": "3.7.6"
  }
 },
 "nbformat": 4,
 "nbformat_minor": 4
}
